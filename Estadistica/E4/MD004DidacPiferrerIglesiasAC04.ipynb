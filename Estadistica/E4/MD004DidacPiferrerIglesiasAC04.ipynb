{
 "cells": [
  {
   "cell_type": "markdown",
   "id": "cccc4128",
   "metadata": {},
   "source": [
    "# MD004 ENTREGA4 REGRESIÓN LINEAL \n",
    "\n",
    "### <font color='#3d59c6'> PARTE I </font>\n",
    "\n",
    "Tienes un compañero de MD004 que afirma que puede predecir la nota final de la asignatura en función del tiempo que pasa jugando a videojuegos. Decides ponerlo a prueba y le preguntas por la ecuación de regresión que usaría para hacer la predicción. Te responde inmediatamente que un modelo de regresión lineal simple. Ahora, ¿cómo comprobarías si realmente comprende el modelo poniendo a prueba su conocimiento sobre regresión lineal simple? (1pt)\n",
    "\n",
    "Le preguntaria que tipo de correlación hay entre las variables (tiempo de juego - nota final). Y no solo le preguntaria por la correlación sino también le preguntaria si esta correlación implica causalidad. Seguramente, la correlación del modelo sea inversa, a mayor horas dedicadas a los video juegos mayor sera la nota final, pero en esta situación, no es causal, porque se esta asumiendo que las horas que no dedica a los videojuegos las esta dedicando al estudio, cuando no tiene porque.\n",
    "\n",
    "Finalmente desafías a tu compañero a mejorar su modelo y le pides que considere agregar otra variable predictora: \"la cantidad de horas dedicadas al estudio\". ¿qué argumentos en contra o a favor te podría dar? ¿cómo podrías evaluar si la nueva variable realmente mejora la capacidad predictiva del modelo? (1pt)\n",
    "\n",
    "Los posibles argumnentos en contra irian ligados a que no por muchas horas de estudio que se realicen la nota tiene porque ser más alta, ya que quiza la técnica de estudio que se esta utilizando no es la más òptima, o alemjor alguien con muy pocas horas de estudio es capaz de hacer una abstracción mucho mayor y sacar muy buenas notas. Sin emargo, si el argumento a favor podría ser que la variabla de horas de estudio se acopla más al modelo y generaliza mejor, ya que la media de personas, a mayor tiempo le dedican a una cosa, son mejores en ello. Por lo tanto, para comprobar si esta nueva variable mejora la capacidad predictiva del modelo, podriamos mirarlo en la precisión del modelo, y también en el error cuadrático, y ver si este ha disminuido.\n",
    "\n",
    "\n",
    "### <font color='#3d59c6'> PARTE II </font>\n",
    "\n",
    "Se dispone de un dataset que contiene en formato csv datos de la población de Estados Unidos con el objetivo de generar un modelo de regresión lineal simple para predecir las tasas de mortalidad por cáncer (target_deathrate) en los condados de los Estados Unidos\n",
    "\n",
    "###### Data: \n",
    "202311_04_cancer_reg.csv\n",
    "\n",
    "###### Se pide:\n",
    "\n",
    "1. Exploración de los datos: análisis descriptivos de los datos y graficación comentando los resultados obtenidos(3pts)\n",
    "- análisis descriptivo de la variable objetivo (métricas+gráficos) comentando los resultados\n",
    "- análisis descriptivo de las variables explicativas (métricas+gráficos) comentando los resultados\n",
    "- análisis bivariante entre la variable objetivo vs variable explicativa, escoged las 2 variables que a priori se observe que mejor ajustarían en un modelo de regresión lineal y justificad el porqué\n",
    "   \n",
    "2. Desarrollo del mejor modelo (3pts)\n",
    "- generad un modelo de regresión lineal simple para cada una de las variables escogidas\n",
    "- ¿qué modelo ajusta mejor?\n",
    "- validad los diferentes supuestos que deben cumplir comentados en clase (¿hay alguna variable que no cumpla el criterio de homocedasticidad? ¿has detectado outliers?)\n",
    "- escoge un modelo para su validación y justifica por qué?\n",
    "\n",
    "3. Validación mediante el conjunto de Test (2pts)\n",
    "- generad un gráfico de relación dato observado vs predicción\n",
    "- comentad los valores R^2, RMSE, MAE\n",
    "- te quedarías con este modelo?"
   ]
  },
  {
   "cell_type": "markdown",
   "id": "ba5d5542",
   "metadata": {},
   "source": [
    "###### Definición variables\n",
    "\n",
    "- **avganncount** *decimal* <u>Media</u> numero de casos reportados de cancer diagnosticados de cancer al año (a)\n",
    "- **avgdeathsperyear** *integer* <u>Media</u> número de muertes notificadas por cáncer (a)\n",
    "- **target_deathrate** *decimal* ***Dependent variable***. <u>Media</u> muertes por cancer (100K hab.) (a)\n",
    "- **incidencerate** *decimal* <u>Media</u> casos diagnosticados de cancer (100K hab.) (a)\n",
    "- **medincome** *integer* <u>Mediana</u> ingresos por condado (b)\n",
    "- **popest2015** *integer* población del condado (b)\n",
    "- **povertypercent** *decimal* <u>%Población</u> bajo situación de pobreza (b)\n",
    "- **studypercap** *decimal* Número per cápita de ensayos clínicos relacionados con el cáncer por condado (a)\n",
    "- **binnedinc** *string* <u>Mediana</u> renta per cápita agrupada por decil (b)\n",
    "- **medianage** *decimal* <u>Mediana</u> edad de las residentes del condado (b)\n",
    "- **medianagemale** *decimal* <u>Mediana</u> edad de la población masculina condado (b)\n",
    "- **medianagefemale** *decimal* <u>Mediana</u> edad de la población femenina del condado (b)\n",
    "- **geography** *string* nombre del condado (b)\n",
    "- **percentmarried** *decimal* <u>%Residentes del condado</u> matrimonios (b)\n",
    "- **pctnohs18_24** *decimal* <u>%Residentes del condado entre 18-24 años</u> sin educación secundaria (b)\n",
    "- **pcths18_24** *decimal* <u>%Residentes del condado entre 18-24 años</u> mayor grado de formación: secundaria (b)\n",
    "- **pctsomecol18_24** *decimal* <u>%Residentes del condado entre 18-24 años</u> mayor grado de formación: educación superior (b)\n",
    "- **pctbachdeg18_24** *decimal* <u>%Residentes del condado entre 18-24 años</u> mayor grado de formación: licenciatura (b)\n",
    "- **pcths25_over** *decimal* <u>%Residentes del condado >25 años</u> mayor grado de formación: diplomatura (b)\n",
    "- **pctbachdeg25_over** *decimal* <u>%Residentes del condado >25 años</u> mayor grado de formación: licenciatura (b)\n",
    "- **pctemployed16_over** *decimal* <u>%Residentes del condado >16 años</u> con trabajo (b)\n",
    "- **pctunemployed16_over** *decimal* <u>%Residentes del condado >16 años</u>en el paro (b)\n",
    "- **pctprivatecoverage** *decimal* <u>%Residentes del condado</u> con seguro médico (b)\n",
    "- **pctprivatecoveragealone** *decimal* <u>%Residentes del condado</u> solo con cobertura de salud privada (sin asistencia pública) (b)\n",
    "- **pctempprivcoverage** *decimal* <u>%Residentes del condado</u> con cobertura de salud privada proporcionada por los empleados (b)\n",
    "- **pctpubliccoverage** *decimal* <u>%Residentes del condado</u> con cobertura de salud proporcionada por el gobierno (b)\n",
    "- **pctpubliccoveragealone** *decimal* <u>%Residentes del condado</u> solo con cobertura de salud proporcionada por el gobierno (b)\n",
    "- **pctwhite** *decimal* <u>%Residentes del condado</u> población blanca (b)\n",
    "- **pctblack** *decimal* <u>%Residentes del condado</u> población negra (b)\n",
    "- **pctasian** *decimal* <u>%Residentes del condado</u> población asiática (b)\n",
    "- **pctotherrace** *decimal* <u>%Residentes del condado</u> que se identifican en una categoría que no es blanca, negra o asiática (b)\n",
    "- **pctmarriedhouseholds** *decimal* <u>Porcentaje</u> de hogares con matrimonios (b)\n",
    "- **birthrate** *decimal* ratio natalidad vs mujeres en el condado (b)\n"
   ]
  },
  {
   "cell_type": "markdown",
   "id": "a672ac1d",
   "metadata": {},
   "source": [
    "Entrega: fichero Jupyter Notebook con MD004NombreApellidosAC04.ipynb y MD004NombreApellidosAC04.pdf\n",
    "\n",
    "Plazo: 13 de Diciembre a las 19h"
   ]
  },
  {
   "cell_type": "code",
   "execution_count": 4,
   "id": "7f0e3036",
   "metadata": {
    "vscode": {
     "languageId": "r"
    }
   },
   "outputs": [
    {
     "name": "stderr",
     "output_type": "stream",
     "text": [
      "Loading required package: zoo\n",
      "\n",
      "\n",
      "Attaching package: 'zoo'\n",
      "\n",
      "\n",
      "The following objects are masked from 'package:base':\n",
      "\n",
      "    as.Date, as.Date.numeric\n",
      "\n",
      "\n"
     ]
    },
    {
     "name": "stderr",
     "output_type": "stream",
     "text": [
      "\n",
      "Attaching package: 'gridExtra'\n",
      "\n",
      "\n",
      "The following object is masked from 'package:dplyr':\n",
      "\n",
      "    combine\n",
      "\n",
      "\n"
     ]
    }
   ],
   "source": [
    "library(olsrr)\n",
    "library(tidyverse)\n",
    "library(caret)\n",
    "library(lmtest)\n",
    "library(gridExtra)\n",
    "library(broom)"
   ]
  },
  {
   "cell_type": "code",
   "execution_count": 5,
   "id": "2e9c7540",
   "metadata": {
    "vscode": {
     "languageId": "r"
    }
   },
   "outputs": [
    {
     "data": {
      "text/html": [
       "<table class=\"dataframe\">\n",
       "<caption>A data.frame: 6 × 33</caption>\n",
       "<thead>\n",
       "\t<tr><th></th><th scope=col>avganncount</th><th scope=col>avgdeathsperyear</th><th scope=col>target_deathrate</th><th scope=col>incidencerate</th><th scope=col>medincome</th><th scope=col>popest2015</th><th scope=col>povertypercent</th><th scope=col>studypercap</th><th scope=col>binnedinc</th><th scope=col>medianage</th><th scope=col>⋯</th><th scope=col>pctprivatecoveragealone</th><th scope=col>pctempprivcoverage</th><th scope=col>pctpubliccoverage</th><th scope=col>pctpubliccoveragealone</th><th scope=col>pctwhite</th><th scope=col>pctblack</th><th scope=col>pctasian</th><th scope=col>pctotherrace</th><th scope=col>pctmarriedhouseholds</th><th scope=col>birthrate</th></tr>\n",
       "\t<tr><th></th><th scope=col>&lt;dbl&gt;</th><th scope=col>&lt;int&gt;</th><th scope=col>&lt;dbl&gt;</th><th scope=col>&lt;dbl&gt;</th><th scope=col>&lt;int&gt;</th><th scope=col>&lt;int&gt;</th><th scope=col>&lt;dbl&gt;</th><th scope=col>&lt;dbl&gt;</th><th scope=col>&lt;chr&gt;</th><th scope=col>&lt;dbl&gt;</th><th scope=col>⋯</th><th scope=col>&lt;dbl&gt;</th><th scope=col>&lt;dbl&gt;</th><th scope=col>&lt;dbl&gt;</th><th scope=col>&lt;dbl&gt;</th><th scope=col>&lt;dbl&gt;</th><th scope=col>&lt;dbl&gt;</th><th scope=col>&lt;dbl&gt;</th><th scope=col>&lt;dbl&gt;</th><th scope=col>&lt;dbl&gt;</th><th scope=col>&lt;dbl&gt;</th></tr>\n",
       "</thead>\n",
       "<tbody>\n",
       "\t<tr><th scope=row>1</th><td>1397</td><td>469</td><td>164.9</td><td>489.8</td><td>61898</td><td>260131</td><td>11.2</td><td>499.74820</td><td>(61494.5, 125635] </td><td>39.3</td><td>⋯</td><td>  NA</td><td>41.6</td><td>32.9</td><td>14.0</td><td>81.78053</td><td>2.5947283</td><td>4.8218571</td><td>1.8434785</td><td>52.85608</td><td>6.118831</td></tr>\n",
       "\t<tr><th scope=row>2</th><td> 173</td><td> 70</td><td>161.3</td><td>411.6</td><td>48127</td><td> 43269</td><td>18.6</td><td> 23.11123</td><td>(48021.6, 51046.4]</td><td>33.0</td><td>⋯</td><td>53.8</td><td>43.6</td><td>31.1</td><td>15.3</td><td>89.22851</td><td>0.9691025</td><td>2.2462326</td><td>3.7413515</td><td>45.37250</td><td>4.333096</td></tr>\n",
       "\t<tr><th scope=row>3</th><td> 102</td><td> 50</td><td>174.7</td><td>349.7</td><td>49348</td><td> 21026</td><td>14.6</td><td> 47.56016</td><td>(48021.6, 51046.4]</td><td>45.0</td><td>⋯</td><td>43.5</td><td>34.9</td><td>42.1</td><td>21.1</td><td>90.92219</td><td>0.7396734</td><td>0.4658982</td><td>2.7473583</td><td>54.44487</td><td>3.729488</td></tr>\n",
       "\t<tr><th scope=row>4</th><td> 427</td><td>202</td><td>194.8</td><td>430.4</td><td>44243</td><td> 75882</td><td>17.1</td><td>342.63725</td><td>(42724.4, 45201]  </td><td>42.8</td><td>⋯</td><td>40.3</td><td>35.0</td><td>45.3</td><td>25.0</td><td>91.74469</td><td>0.7826260</td><td>1.1613587</td><td>1.3626432</td><td>51.02151</td><td>4.603841</td></tr>\n",
       "\t<tr><th scope=row>5</th><td>  57</td><td> 26</td><td>144.4</td><td>350.1</td><td>49955</td><td> 10321</td><td>12.5</td><td>  0.00000</td><td>(48021.6, 51046.4]</td><td>48.3</td><td>⋯</td><td>43.9</td><td>35.1</td><td>44.0</td><td>22.7</td><td>94.10402</td><td>0.2701920</td><td>0.6658304</td><td>0.4921355</td><td>54.02746</td><td>6.796657</td></tr>\n",
       "\t<tr><th scope=row>6</th><td> 428</td><td>152</td><td>176.0</td><td>505.4</td><td>52313</td><td> 61023</td><td>15.6</td><td>180.25990</td><td>(51046.4, 54545.6]</td><td>45.4</td><td>⋯</td><td>38.8</td><td>32.6</td><td>43.2</td><td>20.2</td><td>84.88263</td><td>1.6532052</td><td>1.5380566</td><td>3.3146354</td><td>51.22036</td><td>4.964476</td></tr>\n",
       "</tbody>\n",
       "</table>\n"
      ],
      "text/latex": [
       "A data.frame: 6 × 33\n",
       "\\begin{tabular}{r|lllllllllllllllllllll}\n",
       "  & avganncount & avgdeathsperyear & target\\_deathrate & incidencerate & medincome & popest2015 & povertypercent & studypercap & binnedinc & medianage & ⋯ & pctprivatecoveragealone & pctempprivcoverage & pctpubliccoverage & pctpubliccoveragealone & pctwhite & pctblack & pctasian & pctotherrace & pctmarriedhouseholds & birthrate\\\\\n",
       "  & <dbl> & <int> & <dbl> & <dbl> & <int> & <int> & <dbl> & <dbl> & <chr> & <dbl> & ⋯ & <dbl> & <dbl> & <dbl> & <dbl> & <dbl> & <dbl> & <dbl> & <dbl> & <dbl> & <dbl>\\\\\n",
       "\\hline\n",
       "\t1 & 1397 & 469 & 164.9 & 489.8 & 61898 & 260131 & 11.2 & 499.74820 & (61494.5, 125635{]}  & 39.3 & ⋯ &   NA & 41.6 & 32.9 & 14.0 & 81.78053 & 2.5947283 & 4.8218571 & 1.8434785 & 52.85608 & 6.118831\\\\\n",
       "\t2 &  173 &  70 & 161.3 & 411.6 & 48127 &  43269 & 18.6 &  23.11123 & (48021.6, 51046.4{]} & 33.0 & ⋯ & 53.8 & 43.6 & 31.1 & 15.3 & 89.22851 & 0.9691025 & 2.2462326 & 3.7413515 & 45.37250 & 4.333096\\\\\n",
       "\t3 &  102 &  50 & 174.7 & 349.7 & 49348 &  21026 & 14.6 &  47.56016 & (48021.6, 51046.4{]} & 45.0 & ⋯ & 43.5 & 34.9 & 42.1 & 21.1 & 90.92219 & 0.7396734 & 0.4658982 & 2.7473583 & 54.44487 & 3.729488\\\\\n",
       "\t4 &  427 & 202 & 194.8 & 430.4 & 44243 &  75882 & 17.1 & 342.63725 & (42724.4, 45201{]}   & 42.8 & ⋯ & 40.3 & 35.0 & 45.3 & 25.0 & 91.74469 & 0.7826260 & 1.1613587 & 1.3626432 & 51.02151 & 4.603841\\\\\n",
       "\t5 &   57 &  26 & 144.4 & 350.1 & 49955 &  10321 & 12.5 &   0.00000 & (48021.6, 51046.4{]} & 48.3 & ⋯ & 43.9 & 35.1 & 44.0 & 22.7 & 94.10402 & 0.2701920 & 0.6658304 & 0.4921355 & 54.02746 & 6.796657\\\\\n",
       "\t6 &  428 & 152 & 176.0 & 505.4 & 52313 &  61023 & 15.6 & 180.25990 & (51046.4, 54545.6{]} & 45.4 & ⋯ & 38.8 & 32.6 & 43.2 & 20.2 & 84.88263 & 1.6532052 & 1.5380566 & 3.3146354 & 51.22036 & 4.964476\\\\\n",
       "\\end{tabular}\n"
      ],
      "text/markdown": [
       "\n",
       "A data.frame: 6 × 33\n",
       "\n",
       "| <!--/--> | avganncount &lt;dbl&gt; | avgdeathsperyear &lt;int&gt; | target_deathrate &lt;dbl&gt; | incidencerate &lt;dbl&gt; | medincome &lt;int&gt; | popest2015 &lt;int&gt; | povertypercent &lt;dbl&gt; | studypercap &lt;dbl&gt; | binnedinc &lt;chr&gt; | medianage &lt;dbl&gt; | ⋯ ⋯ | pctprivatecoveragealone &lt;dbl&gt; | pctempprivcoverage &lt;dbl&gt; | pctpubliccoverage &lt;dbl&gt; | pctpubliccoveragealone &lt;dbl&gt; | pctwhite &lt;dbl&gt; | pctblack &lt;dbl&gt; | pctasian &lt;dbl&gt; | pctotherrace &lt;dbl&gt; | pctmarriedhouseholds &lt;dbl&gt; | birthrate &lt;dbl&gt; |\n",
       "|---|---|---|---|---|---|---|---|---|---|---|---|---|---|---|---|---|---|---|---|---|---|\n",
       "| 1 | 1397 | 469 | 164.9 | 489.8 | 61898 | 260131 | 11.2 | 499.74820 | (61494.5, 125635]  | 39.3 | ⋯ |   NA | 41.6 | 32.9 | 14.0 | 81.78053 | 2.5947283 | 4.8218571 | 1.8434785 | 52.85608 | 6.118831 |\n",
       "| 2 |  173 |  70 | 161.3 | 411.6 | 48127 |  43269 | 18.6 |  23.11123 | (48021.6, 51046.4] | 33.0 | ⋯ | 53.8 | 43.6 | 31.1 | 15.3 | 89.22851 | 0.9691025 | 2.2462326 | 3.7413515 | 45.37250 | 4.333096 |\n",
       "| 3 |  102 |  50 | 174.7 | 349.7 | 49348 |  21026 | 14.6 |  47.56016 | (48021.6, 51046.4] | 45.0 | ⋯ | 43.5 | 34.9 | 42.1 | 21.1 | 90.92219 | 0.7396734 | 0.4658982 | 2.7473583 | 54.44487 | 3.729488 |\n",
       "| 4 |  427 | 202 | 194.8 | 430.4 | 44243 |  75882 | 17.1 | 342.63725 | (42724.4, 45201]   | 42.8 | ⋯ | 40.3 | 35.0 | 45.3 | 25.0 | 91.74469 | 0.7826260 | 1.1613587 | 1.3626432 | 51.02151 | 4.603841 |\n",
       "| 5 |   57 |  26 | 144.4 | 350.1 | 49955 |  10321 | 12.5 |   0.00000 | (48021.6, 51046.4] | 48.3 | ⋯ | 43.9 | 35.1 | 44.0 | 22.7 | 94.10402 | 0.2701920 | 0.6658304 | 0.4921355 | 54.02746 | 6.796657 |\n",
       "| 6 |  428 | 152 | 176.0 | 505.4 | 52313 |  61023 | 15.6 | 180.25990 | (51046.4, 54545.6] | 45.4 | ⋯ | 38.8 | 32.6 | 43.2 | 20.2 | 84.88263 | 1.6532052 | 1.5380566 | 3.3146354 | 51.22036 | 4.964476 |\n",
       "\n"
      ],
      "text/plain": [
       "  avganncount avgdeathsperyear target_deathrate incidencerate medincome\n",
       "1 1397        469              164.9            489.8         61898    \n",
       "2  173         70              161.3            411.6         48127    \n",
       "3  102         50              174.7            349.7         49348    \n",
       "4  427        202              194.8            430.4         44243    \n",
       "5   57         26              144.4            350.1         49955    \n",
       "6  428        152              176.0            505.4         52313    \n",
       "  popest2015 povertypercent studypercap binnedinc          medianage ⋯\n",
       "1 260131     11.2           499.74820   (61494.5, 125635]  39.3      ⋯\n",
       "2  43269     18.6            23.11123   (48021.6, 51046.4] 33.0      ⋯\n",
       "3  21026     14.6            47.56016   (48021.6, 51046.4] 45.0      ⋯\n",
       "4  75882     17.1           342.63725   (42724.4, 45201]   42.8      ⋯\n",
       "5  10321     12.5             0.00000   (48021.6, 51046.4] 48.3      ⋯\n",
       "6  61023     15.6           180.25990   (51046.4, 54545.6] 45.4      ⋯\n",
       "  pctprivatecoveragealone pctempprivcoverage pctpubliccoverage\n",
       "1   NA                    41.6               32.9             \n",
       "2 53.8                    43.6               31.1             \n",
       "3 43.5                    34.9               42.1             \n",
       "4 40.3                    35.0               45.3             \n",
       "5 43.9                    35.1               44.0             \n",
       "6 38.8                    32.6               43.2             \n",
       "  pctpubliccoveragealone pctwhite pctblack  pctasian  pctotherrace\n",
       "1 14.0                   81.78053 2.5947283 4.8218571 1.8434785   \n",
       "2 15.3                   89.22851 0.9691025 2.2462326 3.7413515   \n",
       "3 21.1                   90.92219 0.7396734 0.4658982 2.7473583   \n",
       "4 25.0                   91.74469 0.7826260 1.1613587 1.3626432   \n",
       "5 22.7                   94.10402 0.2701920 0.6658304 0.4921355   \n",
       "6 20.2                   84.88263 1.6532052 1.5380566 3.3146354   \n",
       "  pctmarriedhouseholds birthrate\n",
       "1 52.85608             6.118831 \n",
       "2 45.37250             4.333096 \n",
       "3 54.44487             3.729488 \n",
       "4 51.02151             4.603841 \n",
       "5 54.02746             6.796657 \n",
       "6 51.22036             4.964476 "
      ]
     },
     "metadata": {},
     "output_type": "display_data"
    },
    {
     "data": {
      "text/html": [
       "<table class=\"dataframe\">\n",
       "<caption>A data.frame: 6 × 33</caption>\n",
       "<thead>\n",
       "\t<tr><th></th><th scope=col>avganncount</th><th scope=col>avgdeathsperyear</th><th scope=col>target_deathrate</th><th scope=col>incidencerate</th><th scope=col>medincome</th><th scope=col>popest2015</th><th scope=col>povertypercent</th><th scope=col>studypercap</th><th scope=col>binnedinc</th><th scope=col>medianage</th><th scope=col>⋯</th><th scope=col>pctprivatecoveragealone</th><th scope=col>pctempprivcoverage</th><th scope=col>pctpubliccoverage</th><th scope=col>pctpubliccoveragealone</th><th scope=col>pctwhite</th><th scope=col>pctblack</th><th scope=col>pctasian</th><th scope=col>pctotherrace</th><th scope=col>pctmarriedhouseholds</th><th scope=col>birthrate</th></tr>\n",
       "\t<tr><th></th><th scope=col>&lt;dbl&gt;</th><th scope=col>&lt;int&gt;</th><th scope=col>&lt;dbl&gt;</th><th scope=col>&lt;dbl&gt;</th><th scope=col>&lt;int&gt;</th><th scope=col>&lt;int&gt;</th><th scope=col>&lt;dbl&gt;</th><th scope=col>&lt;dbl&gt;</th><th scope=col>&lt;chr&gt;</th><th scope=col>&lt;dbl&gt;</th><th scope=col>⋯</th><th scope=col>&lt;dbl&gt;</th><th scope=col>&lt;dbl&gt;</th><th scope=col>&lt;dbl&gt;</th><th scope=col>&lt;dbl&gt;</th><th scope=col>&lt;dbl&gt;</th><th scope=col>&lt;dbl&gt;</th><th scope=col>&lt;dbl&gt;</th><th scope=col>&lt;dbl&gt;</th><th scope=col>&lt;dbl&gt;</th><th scope=col>&lt;dbl&gt;</th></tr>\n",
       "</thead>\n",
       "<tbody>\n",
       "\t<tr><th scope=row>3042</th><td>1962.668</td><td>48</td><td>146.4</td><td>453.5494</td><td>49508</td><td>29029</td><td>13.0</td><td> 723.4145</td><td>(48021.6, 51046.4]</td><td>32.2</td><td>⋯</td><td>64.5</td><td>52.9</td><td>24.3</td><td> 9.5</td><td>94.29173</td><td> 1.145104</td><td>1.3865416</td><td> 1.014038</td><td>43.27678</td><td>3.977583</td></tr>\n",
       "\t<tr><th scope=row>3043</th><td>1962.668</td><td>15</td><td>149.6</td><td>453.5494</td><td>46961</td><td> 6343</td><td>12.4</td><td>   0.0000</td><td>(45201, 48021.6]  </td><td>44.2</td><td>⋯</td><td>54.9</td><td>44.6</td><td>31.7</td><td>13.2</td><td>90.28081</td><td> 3.837754</td><td>0.3276131</td><td> 1.700468</td><td>51.06383</td><td>7.773512</td></tr>\n",
       "\t<tr><th scope=row>3044</th><td>1962.668</td><td>43</td><td>150.1</td><td>453.5494</td><td>48609</td><td>37118</td><td>18.8</td><td> 377.1755</td><td>(48021.6, 51046.4]</td><td>30.4</td><td>⋯</td><td>53.3</td><td>48.6</td><td>28.8</td><td>17.7</td><td>75.70625</td><td> 2.326771</td><td>4.0449196</td><td>14.130288</td><td>52.00794</td><td>8.186470</td></tr>\n",
       "\t<tr><th scope=row>3045</th><td>1962.668</td><td>46</td><td>153.9</td><td>453.5494</td><td>51144</td><td>34536</td><td>15.0</td><td>1968.9599</td><td>(51046.4, 54545.6]</td><td>30.9</td><td>⋯</td><td>52.6</td><td>47.8</td><td>26.6</td><td>16.8</td><td>87.96163</td><td> 2.313188</td><td>1.3164717</td><td> 5.680705</td><td>55.15395</td><td>7.809192</td></tr>\n",
       "\t<tr><th scope=row>3046</th><td>1962.668</td><td>52</td><td>175.0</td><td>453.5494</td><td>50745</td><td>25609</td><td>13.3</td><td>   0.0000</td><td>(48021.6, 51046.4]</td><td>39.0</td><td>⋯</td><td>56.3</td><td>49.6</td><td>29.5</td><td>14.0</td><td>92.90568</td><td> 1.176562</td><td>0.2446317</td><td> 2.131790</td><td>58.48423</td><td>7.582938</td></tr>\n",
       "\t<tr><th scope=row>3047</th><td>1962.668</td><td>48</td><td>213.6</td><td>453.5494</td><td>41193</td><td>37030</td><td>13.9</td><td>   0.0000</td><td>(40362.7, 42724.4]</td><td>26.2</td><td>⋯</td><td>60.3</td><td>22.9</td><td>25.1</td><td>12.6</td><td>70.09813</td><td>16.590100</td><td>3.1777530</td><td> 1.356457</td><td>56.04024</td><td>8.981723</td></tr>\n",
       "</tbody>\n",
       "</table>\n"
      ],
      "text/latex": [
       "A data.frame: 6 × 33\n",
       "\\begin{tabular}{r|lllllllllllllllllllll}\n",
       "  & avganncount & avgdeathsperyear & target\\_deathrate & incidencerate & medincome & popest2015 & povertypercent & studypercap & binnedinc & medianage & ⋯ & pctprivatecoveragealone & pctempprivcoverage & pctpubliccoverage & pctpubliccoveragealone & pctwhite & pctblack & pctasian & pctotherrace & pctmarriedhouseholds & birthrate\\\\\n",
       "  & <dbl> & <int> & <dbl> & <dbl> & <int> & <int> & <dbl> & <dbl> & <chr> & <dbl> & ⋯ & <dbl> & <dbl> & <dbl> & <dbl> & <dbl> & <dbl> & <dbl> & <dbl> & <dbl> & <dbl>\\\\\n",
       "\\hline\n",
       "\t3042 & 1962.668 & 48 & 146.4 & 453.5494 & 49508 & 29029 & 13.0 &  723.4145 & (48021.6, 51046.4{]} & 32.2 & ⋯ & 64.5 & 52.9 & 24.3 &  9.5 & 94.29173 &  1.145104 & 1.3865416 &  1.014038 & 43.27678 & 3.977583\\\\\n",
       "\t3043 & 1962.668 & 15 & 149.6 & 453.5494 & 46961 &  6343 & 12.4 &    0.0000 & (45201, 48021.6{]}   & 44.2 & ⋯ & 54.9 & 44.6 & 31.7 & 13.2 & 90.28081 &  3.837754 & 0.3276131 &  1.700468 & 51.06383 & 7.773512\\\\\n",
       "\t3044 & 1962.668 & 43 & 150.1 & 453.5494 & 48609 & 37118 & 18.8 &  377.1755 & (48021.6, 51046.4{]} & 30.4 & ⋯ & 53.3 & 48.6 & 28.8 & 17.7 & 75.70625 &  2.326771 & 4.0449196 & 14.130288 & 52.00794 & 8.186470\\\\\n",
       "\t3045 & 1962.668 & 46 & 153.9 & 453.5494 & 51144 & 34536 & 15.0 & 1968.9599 & (51046.4, 54545.6{]} & 30.9 & ⋯ & 52.6 & 47.8 & 26.6 & 16.8 & 87.96163 &  2.313188 & 1.3164717 &  5.680705 & 55.15395 & 7.809192\\\\\n",
       "\t3046 & 1962.668 & 52 & 175.0 & 453.5494 & 50745 & 25609 & 13.3 &    0.0000 & (48021.6, 51046.4{]} & 39.0 & ⋯ & 56.3 & 49.6 & 29.5 & 14.0 & 92.90568 &  1.176562 & 0.2446317 &  2.131790 & 58.48423 & 7.582938\\\\\n",
       "\t3047 & 1962.668 & 48 & 213.6 & 453.5494 & 41193 & 37030 & 13.9 &    0.0000 & (40362.7, 42724.4{]} & 26.2 & ⋯ & 60.3 & 22.9 & 25.1 & 12.6 & 70.09813 & 16.590100 & 3.1777530 &  1.356457 & 56.04024 & 8.981723\\\\\n",
       "\\end{tabular}\n"
      ],
      "text/markdown": [
       "\n",
       "A data.frame: 6 × 33\n",
       "\n",
       "| <!--/--> | avganncount &lt;dbl&gt; | avgdeathsperyear &lt;int&gt; | target_deathrate &lt;dbl&gt; | incidencerate &lt;dbl&gt; | medincome &lt;int&gt; | popest2015 &lt;int&gt; | povertypercent &lt;dbl&gt; | studypercap &lt;dbl&gt; | binnedinc &lt;chr&gt; | medianage &lt;dbl&gt; | ⋯ ⋯ | pctprivatecoveragealone &lt;dbl&gt; | pctempprivcoverage &lt;dbl&gt; | pctpubliccoverage &lt;dbl&gt; | pctpubliccoveragealone &lt;dbl&gt; | pctwhite &lt;dbl&gt; | pctblack &lt;dbl&gt; | pctasian &lt;dbl&gt; | pctotherrace &lt;dbl&gt; | pctmarriedhouseholds &lt;dbl&gt; | birthrate &lt;dbl&gt; |\n",
       "|---|---|---|---|---|---|---|---|---|---|---|---|---|---|---|---|---|---|---|---|---|---|\n",
       "| 3042 | 1962.668 | 48 | 146.4 | 453.5494 | 49508 | 29029 | 13.0 |  723.4145 | (48021.6, 51046.4] | 32.2 | ⋯ | 64.5 | 52.9 | 24.3 |  9.5 | 94.29173 |  1.145104 | 1.3865416 |  1.014038 | 43.27678 | 3.977583 |\n",
       "| 3043 | 1962.668 | 15 | 149.6 | 453.5494 | 46961 |  6343 | 12.4 |    0.0000 | (45201, 48021.6]   | 44.2 | ⋯ | 54.9 | 44.6 | 31.7 | 13.2 | 90.28081 |  3.837754 | 0.3276131 |  1.700468 | 51.06383 | 7.773512 |\n",
       "| 3044 | 1962.668 | 43 | 150.1 | 453.5494 | 48609 | 37118 | 18.8 |  377.1755 | (48021.6, 51046.4] | 30.4 | ⋯ | 53.3 | 48.6 | 28.8 | 17.7 | 75.70625 |  2.326771 | 4.0449196 | 14.130288 | 52.00794 | 8.186470 |\n",
       "| 3045 | 1962.668 | 46 | 153.9 | 453.5494 | 51144 | 34536 | 15.0 | 1968.9599 | (51046.4, 54545.6] | 30.9 | ⋯ | 52.6 | 47.8 | 26.6 | 16.8 | 87.96163 |  2.313188 | 1.3164717 |  5.680705 | 55.15395 | 7.809192 |\n",
       "| 3046 | 1962.668 | 52 | 175.0 | 453.5494 | 50745 | 25609 | 13.3 |    0.0000 | (48021.6, 51046.4] | 39.0 | ⋯ | 56.3 | 49.6 | 29.5 | 14.0 | 92.90568 |  1.176562 | 0.2446317 |  2.131790 | 58.48423 | 7.582938 |\n",
       "| 3047 | 1962.668 | 48 | 213.6 | 453.5494 | 41193 | 37030 | 13.9 |    0.0000 | (40362.7, 42724.4] | 26.2 | ⋯ | 60.3 | 22.9 | 25.1 | 12.6 | 70.09813 | 16.590100 | 3.1777530 |  1.356457 | 56.04024 | 8.981723 |\n",
       "\n"
      ],
      "text/plain": [
       "     avganncount avgdeathsperyear target_deathrate incidencerate medincome\n",
       "3042 1962.668    48               146.4            453.5494      49508    \n",
       "3043 1962.668    15               149.6            453.5494      46961    \n",
       "3044 1962.668    43               150.1            453.5494      48609    \n",
       "3045 1962.668    46               153.9            453.5494      51144    \n",
       "3046 1962.668    52               175.0            453.5494      50745    \n",
       "3047 1962.668    48               213.6            453.5494      41193    \n",
       "     popest2015 povertypercent studypercap binnedinc          medianage ⋯\n",
       "3042 29029      13.0            723.4145   (48021.6, 51046.4] 32.2      ⋯\n",
       "3043  6343      12.4              0.0000   (45201, 48021.6]   44.2      ⋯\n",
       "3044 37118      18.8            377.1755   (48021.6, 51046.4] 30.4      ⋯\n",
       "3045 34536      15.0           1968.9599   (51046.4, 54545.6] 30.9      ⋯\n",
       "3046 25609      13.3              0.0000   (48021.6, 51046.4] 39.0      ⋯\n",
       "3047 37030      13.9              0.0000   (40362.7, 42724.4] 26.2      ⋯\n",
       "     pctprivatecoveragealone pctempprivcoverage pctpubliccoverage\n",
       "3042 64.5                    52.9               24.3             \n",
       "3043 54.9                    44.6               31.7             \n",
       "3044 53.3                    48.6               28.8             \n",
       "3045 52.6                    47.8               26.6             \n",
       "3046 56.3                    49.6               29.5             \n",
       "3047 60.3                    22.9               25.1             \n",
       "     pctpubliccoveragealone pctwhite pctblack  pctasian  pctotherrace\n",
       "3042  9.5                   94.29173  1.145104 1.3865416  1.014038   \n",
       "3043 13.2                   90.28081  3.837754 0.3276131  1.700468   \n",
       "3044 17.7                   75.70625  2.326771 4.0449196 14.130288   \n",
       "3045 16.8                   87.96163  2.313188 1.3164717  5.680705   \n",
       "3046 14.0                   92.90568  1.176562 0.2446317  2.131790   \n",
       "3047 12.6                   70.09813 16.590100 3.1777530  1.356457   \n",
       "     pctmarriedhouseholds birthrate\n",
       "3042 43.27678             3.977583 \n",
       "3043 51.06383             7.773512 \n",
       "3044 52.00794             8.186470 \n",
       "3045 55.15395             7.809192 \n",
       "3046 58.48423             7.582938 \n",
       "3047 56.04024             8.981723 "
      ]
     },
     "metadata": {},
     "output_type": "display_data"
    }
   ],
   "source": [
    "data_cancer = read.csv(file='202311_04_cancer_reg.csv', header=TRUE, sep=',', dec='.')\n",
    "head(data_cancer)#de forma predefinida retorna las primeras 6 observations\n",
    "tail(data_cancer)#de forma predefinida retorna las últimas 6 observations"
   ]
  }
 ],
 "metadata": {
  "kernelspec": {
   "display_name": "R",
   "language": "R",
   "name": "ir"
  },
  "language_info": {
   "codemirror_mode": "r",
   "file_extension": ".r",
   "mimetype": "text/x-r-source",
   "name": "R",
   "pygments_lexer": "r",
   "version": "4.3.2"
  }
 },
 "nbformat": 4,
 "nbformat_minor": 5
}

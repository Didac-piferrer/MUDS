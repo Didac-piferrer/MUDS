{
 "cells": [
  {
   "cell_type": "markdown",
   "id": "cccc4128",
   "metadata": {},
   "source": [
    "# MD004 ENTREGA4 REGRESIÓN LINEAL \n",
    "\n",
    "### <font color='#3d59c6'> PARTE I </font>\n",
    "\n",
    "Tienes un compañero de MD004 que afirma que puede predecir la nota final de la asignatura en función del tiempo que pasa jugando a videojuegos. Decides ponerlo a prueba y le preguntas por la ecuación de regresión que usaría para hacer la predicción. Te responde inmediatamente que un modelo de regresión lineal simple. Ahora, ¿cómo comprobarías si realmente comprende el modelo poniendo a prueba su conocimiento sobre regresión lineal simple? (1pt)\n",
    "\n",
    "Le preguntaria que tipo de correlación hay entre las variables (tiempo de juego - nota final). Y no solo le preguntaria por la correlación sino también le preguntaria si esta correlación implica causalidad. Seguramente, la correlación del modelo sea inversa, a mayor horas dedicadas a los video juegos mayor sera la nota final, pero en esta situación, no es causal, porque se esta asumiendo que las horas que no dedica a los videojuegos las esta dedicando al estudio, cuando no tiene porque.\n",
    "\n",
    "Finalmente desafías a tu compañero a mejorar su modelo y le pides que considere agregar otra variable predictora: \"la cantidad de horas dedicadas al estudio\". ¿qué argumentos en contra o a favor te podría dar? ¿cómo podrías evaluar si la nueva variable realmente mejora la capacidad predictiva del modelo? (1pt)\n",
    "\n",
    "Los posibles argumnentos en contra irian ligados a que no por muchas horas de estudio que se realicen la nota tiene porque ser más alta, ya que quiza la técnica de estudio que se esta utilizando no es la más òptima, o alemjor alguien con muy pocas horas de estudio es capaz de hacer una abstracción mucho mayor y sacar muy buenas notas. Sin emargo, si el argumento a favor podría ser que la variabla de horas de estudio se acopla más al modelo y generaliza mejor, ya que la media de personas, a mayor tiempo le dedican a una cosa, son mejores en ello. Por lo tanto, para comprobar si esta nueva variable mejora la capacidad predictiva del modelo, podriamos mirarlo en la precisión del modelo, y también en el error cuadrático, y ver si este ha disminuido.\n",
    "\n",
    "\n",
    "### <font color='#3d59c6'> PARTE II </font>\n",
    "\n",
    "Se dispone de un dataset que contiene en formato csv datos de la población de Estados Unidos con el objetivo de generar un modelo de regresión lineal simple para predecir las tasas de mortalidad por cáncer (target_deathrate) en los condados de los Estados Unidos\n",
    "\n",
    "###### Data: \n",
    "202311_04_cancer_reg.csv\n",
    "\n",
    "###### Se pide:\n",
    "\n",
    "1. Exploración de los datos: análisis descriptivos de los datos y graficación comentando los resultados obtenidos(3pts)\n",
    "- análisis descriptivo de la variable objetivo (métricas+gráficos) comentando los resultados\n",
    "- análisis descriptivo de las variables explicativas (métricas+gráficos) comentando los resultados\n",
    "- análisis bivariante entre la variable objetivo vs variable explicativa, escoged las 2 variables que a priori se observe que mejor ajustarían en un modelo de regresión lineal y justificad el porqué\n",
    "   \n",
    "2. Desarrollo del mejor modelo (3pts)\n",
    "- generad un modelo de regresión lineal simple para cada una de las variables escogidas\n",
    "- ¿qué modelo ajusta mejor?\n",
    "- validad los diferentes supuestos que deben cumplir comentados en clase (¿hay alguna variable que no cumpla el criterio de homocedasticidad? ¿has detectado outliers?)\n",
    "- escoge un modelo para su validación y justifica por qué?\n",
    "\n",
    "3. Validación mediante el conjunto de Test (2pts)\n",
    "- generad un gráfico de relación dato observado vs predicción\n",
    "- comentad los valores R^2, RMSE, MAE\n",
    "- te quedarías con este modelo?"
   ]
  },
  {
   "cell_type": "markdown",
   "id": "ba5d5542",
   "metadata": {},
   "source": [
    "###### Definición variables\n",
    "\n",
    "- **avganncount** *decimal* <u>Media</u> numero de casos reportados de cancer diagnosticados de cancer al año (a)\n",
    "- **avgdeathsperyear** *integer* <u>Media</u> número de muertes notificadas por cáncer (a)\n",
    "- **target_deathrate** *decimal* ***Dependent variable***. <u>Media</u> muertes por cancer (100K hab.) (a)\n",
    "- **incidencerate** *decimal* <u>Media</u> casos diagnosticados de cancer (100K hab.) (a)\n",
    "- **medincome** *integer* <u>Mediana</u> ingresos por condado (b)\n",
    "- **popest2015** *integer* población del condado (b)\n",
    "- **povertypercent** *decimal* <u>%Población</u> bajo situación de pobreza (b)\n",
    "- **studypercap** *decimal* Número per cápita de ensayos clínicos relacionados con el cáncer por condado (a)\n",
    "- **binnedinc** *string* <u>Mediana</u> renta per cápita agrupada por decil (b)\n",
    "- **medianage** *decimal* <u>Mediana</u> edad de las residentes del condado (b)\n",
    "- **medianagemale** *decimal* <u>Mediana</u> edad de la población masculina condado (b)\n",
    "- **medianagefemale** *decimal* <u>Mediana</u> edad de la población femenina del condado (b)\n",
    "- **geography** *string* nombre del condado (b)\n",
    "- **percentmarried** *decimal* <u>%Residentes del condado</u> matrimonios (b)\n",
    "- **pctnohs18_24** *decimal* <u>%Residentes del condado entre 18-24 años</u> sin educación secundaria (b)\n",
    "- **pcths18_24** *decimal* <u>%Residentes del condado entre 18-24 años</u> mayor grado de formación: secundaria (b)\n",
    "- **pctsomecol18_24** *decimal* <u>%Residentes del condado entre 18-24 años</u> mayor grado de formación: educación superior (b)\n",
    "- **pctbachdeg18_24** *decimal* <u>%Residentes del condado entre 18-24 años</u> mayor grado de formación: licenciatura (b)\n",
    "- **pcths25_over** *decimal* <u>%Residentes del condado >25 años</u> mayor grado de formación: diplomatura (b)\n",
    "- **pctbachdeg25_over** *decimal* <u>%Residentes del condado >25 años</u> mayor grado de formación: licenciatura (b)\n",
    "- **pctemployed16_over** *decimal* <u>%Residentes del condado >16 años</u> con trabajo (b)\n",
    "- **pctunemployed16_over** *decimal* <u>%Residentes del condado >16 años</u>en el paro (b)\n",
    "- **pctprivatecoverage** *decimal* <u>%Residentes del condado</u> con seguro médico (b)\n",
    "- **pctprivatecoveragealone** *decimal* <u>%Residentes del condado</u> solo con cobertura de salud privada (sin asistencia pública) (b)\n",
    "- **pctempprivcoverage** *decimal* <u>%Residentes del condado</u> con cobertura de salud privada proporcionada por los empleados (b)\n",
    "- **pctpubliccoverage** *decimal* <u>%Residentes del condado</u> con cobertura de salud proporcionada por el gobierno (b)\n",
    "- **pctpubliccoveragealone** *decimal* <u>%Residentes del condado</u> solo con cobertura de salud proporcionada por el gobierno (b)\n",
    "- **pctwhite** *decimal* <u>%Residentes del condado</u> población blanca (b)\n",
    "- **pctblack** *decimal* <u>%Residentes del condado</u> población negra (b)\n",
    "- **pctasian** *decimal* <u>%Residentes del condado</u> población asiática (b)\n",
    "- **pctotherrace** *decimal* <u>%Residentes del condado</u> que se identifican en una categoría que no es blanca, negra o asiática (b)\n",
    "- **pctmarriedhouseholds** *decimal* <u>Porcentaje</u> de hogares con matrimonios (b)\n",
    "- **birthrate** *decimal* ratio natalidad vs mujeres en el condado (b)\n"
   ]
  },
  {
   "cell_type": "markdown",
   "id": "a672ac1d",
   "metadata": {},
   "source": [
    "Entrega: fichero Jupyter Notebook con MD004NombreApellidosAC04.ipynb y MD004NombreApellidosAC04.pdf\n",
    "\n",
    "Plazo: 13 de Diciembre a las 19h"
   ]
  },
  {
   "cell_type": "code",
   "execution_count": 10,
   "id": "7f0e3036",
   "metadata": {
    "vscode": {
     "languageId": "r"
    }
   },
   "outputs": [
    {
     "name": "stderr",
     "output_type": "stream",
     "text": [
      "corrplot 0.92 loaded\n",
      "\n"
     ]
    }
   ],
   "source": [
    "library(olsrr)\n",
    "library(tidyverse)\n",
    "library(caret)\n",
    "library(lmtest)\n",
    "library(gridExtra)\n",
    "library(broom)\n",
    "library(dplyr)\n",
    "library(ggplot2)\n",
    "library(corrplot)\n"
   ]
  },
  {
   "cell_type": "markdown",
   "id": "e903f5d4",
   "metadata": {},
   "source": [
    "## Carga de datos y primera investigación"
   ]
  },
  {
   "cell_type": "code",
   "execution_count": 18,
   "id": "2e9c7540",
   "metadata": {
    "vscode": {
     "languageId": "r"
    }
   },
   "outputs": [
    {
     "data": {
      "text/html": [
       "<table class=\"dataframe\">\n",
       "<caption>A data.frame: 6 × 33</caption>\n",
       "<thead>\n",
       "\t<tr><th></th><th scope=col>avganncount</th><th scope=col>avgdeathsperyear</th><th scope=col>target_deathrate</th><th scope=col>incidencerate</th><th scope=col>medincome</th><th scope=col>popest2015</th><th scope=col>povertypercent</th><th scope=col>studypercap</th><th scope=col>binnedinc</th><th scope=col>medianage</th><th scope=col>⋯</th><th scope=col>pctprivatecoveragealone</th><th scope=col>pctempprivcoverage</th><th scope=col>pctpubliccoverage</th><th scope=col>pctpubliccoveragealone</th><th scope=col>pctwhite</th><th scope=col>pctblack</th><th scope=col>pctasian</th><th scope=col>pctotherrace</th><th scope=col>pctmarriedhouseholds</th><th scope=col>birthrate</th></tr>\n",
       "\t<tr><th></th><th scope=col>&lt;dbl&gt;</th><th scope=col>&lt;int&gt;</th><th scope=col>&lt;dbl&gt;</th><th scope=col>&lt;dbl&gt;</th><th scope=col>&lt;int&gt;</th><th scope=col>&lt;int&gt;</th><th scope=col>&lt;dbl&gt;</th><th scope=col>&lt;dbl&gt;</th><th scope=col>&lt;chr&gt;</th><th scope=col>&lt;dbl&gt;</th><th scope=col>⋯</th><th scope=col>&lt;dbl&gt;</th><th scope=col>&lt;dbl&gt;</th><th scope=col>&lt;dbl&gt;</th><th scope=col>&lt;dbl&gt;</th><th scope=col>&lt;dbl&gt;</th><th scope=col>&lt;dbl&gt;</th><th scope=col>&lt;dbl&gt;</th><th scope=col>&lt;dbl&gt;</th><th scope=col>&lt;dbl&gt;</th><th scope=col>&lt;dbl&gt;</th></tr>\n",
       "</thead>\n",
       "<tbody>\n",
       "\t<tr><th scope=row>1</th><td>1397</td><td>469</td><td>164.9</td><td>489.8</td><td>61898</td><td>260131</td><td>11.2</td><td>499.74820</td><td>(61494.5, 125635] </td><td>39.3</td><td>⋯</td><td>  NA</td><td>41.6</td><td>32.9</td><td>14.0</td><td>81.78053</td><td>2.5947283</td><td>4.8218571</td><td>1.8434785</td><td>52.85608</td><td>6.118831</td></tr>\n",
       "\t<tr><th scope=row>2</th><td> 173</td><td> 70</td><td>161.3</td><td>411.6</td><td>48127</td><td> 43269</td><td>18.6</td><td> 23.11123</td><td>(48021.6, 51046.4]</td><td>33.0</td><td>⋯</td><td>53.8</td><td>43.6</td><td>31.1</td><td>15.3</td><td>89.22851</td><td>0.9691025</td><td>2.2462326</td><td>3.7413515</td><td>45.37250</td><td>4.333096</td></tr>\n",
       "\t<tr><th scope=row>3</th><td> 102</td><td> 50</td><td>174.7</td><td>349.7</td><td>49348</td><td> 21026</td><td>14.6</td><td> 47.56016</td><td>(48021.6, 51046.4]</td><td>45.0</td><td>⋯</td><td>43.5</td><td>34.9</td><td>42.1</td><td>21.1</td><td>90.92219</td><td>0.7396734</td><td>0.4658982</td><td>2.7473583</td><td>54.44487</td><td>3.729488</td></tr>\n",
       "\t<tr><th scope=row>4</th><td> 427</td><td>202</td><td>194.8</td><td>430.4</td><td>44243</td><td> 75882</td><td>17.1</td><td>342.63725</td><td>(42724.4, 45201]  </td><td>42.8</td><td>⋯</td><td>40.3</td><td>35.0</td><td>45.3</td><td>25.0</td><td>91.74469</td><td>0.7826260</td><td>1.1613587</td><td>1.3626432</td><td>51.02151</td><td>4.603841</td></tr>\n",
       "\t<tr><th scope=row>5</th><td>  57</td><td> 26</td><td>144.4</td><td>350.1</td><td>49955</td><td> 10321</td><td>12.5</td><td>  0.00000</td><td>(48021.6, 51046.4]</td><td>48.3</td><td>⋯</td><td>43.9</td><td>35.1</td><td>44.0</td><td>22.7</td><td>94.10402</td><td>0.2701920</td><td>0.6658304</td><td>0.4921355</td><td>54.02746</td><td>6.796657</td></tr>\n",
       "\t<tr><th scope=row>6</th><td> 428</td><td>152</td><td>176.0</td><td>505.4</td><td>52313</td><td> 61023</td><td>15.6</td><td>180.25990</td><td>(51046.4, 54545.6]</td><td>45.4</td><td>⋯</td><td>38.8</td><td>32.6</td><td>43.2</td><td>20.2</td><td>84.88263</td><td>1.6532052</td><td>1.5380566</td><td>3.3146354</td><td>51.22036</td><td>4.964476</td></tr>\n",
       "</tbody>\n",
       "</table>\n"
      ],
      "text/latex": [
       "A data.frame: 6 × 33\n",
       "\\begin{tabular}{r|lllllllllllllllllllll}\n",
       "  & avganncount & avgdeathsperyear & target\\_deathrate & incidencerate & medincome & popest2015 & povertypercent & studypercap & binnedinc & medianage & ⋯ & pctprivatecoveragealone & pctempprivcoverage & pctpubliccoverage & pctpubliccoveragealone & pctwhite & pctblack & pctasian & pctotherrace & pctmarriedhouseholds & birthrate\\\\\n",
       "  & <dbl> & <int> & <dbl> & <dbl> & <int> & <int> & <dbl> & <dbl> & <chr> & <dbl> & ⋯ & <dbl> & <dbl> & <dbl> & <dbl> & <dbl> & <dbl> & <dbl> & <dbl> & <dbl> & <dbl>\\\\\n",
       "\\hline\n",
       "\t1 & 1397 & 469 & 164.9 & 489.8 & 61898 & 260131 & 11.2 & 499.74820 & (61494.5, 125635{]}  & 39.3 & ⋯ &   NA & 41.6 & 32.9 & 14.0 & 81.78053 & 2.5947283 & 4.8218571 & 1.8434785 & 52.85608 & 6.118831\\\\\n",
       "\t2 &  173 &  70 & 161.3 & 411.6 & 48127 &  43269 & 18.6 &  23.11123 & (48021.6, 51046.4{]} & 33.0 & ⋯ & 53.8 & 43.6 & 31.1 & 15.3 & 89.22851 & 0.9691025 & 2.2462326 & 3.7413515 & 45.37250 & 4.333096\\\\\n",
       "\t3 &  102 &  50 & 174.7 & 349.7 & 49348 &  21026 & 14.6 &  47.56016 & (48021.6, 51046.4{]} & 45.0 & ⋯ & 43.5 & 34.9 & 42.1 & 21.1 & 90.92219 & 0.7396734 & 0.4658982 & 2.7473583 & 54.44487 & 3.729488\\\\\n",
       "\t4 &  427 & 202 & 194.8 & 430.4 & 44243 &  75882 & 17.1 & 342.63725 & (42724.4, 45201{]}   & 42.8 & ⋯ & 40.3 & 35.0 & 45.3 & 25.0 & 91.74469 & 0.7826260 & 1.1613587 & 1.3626432 & 51.02151 & 4.603841\\\\\n",
       "\t5 &   57 &  26 & 144.4 & 350.1 & 49955 &  10321 & 12.5 &   0.00000 & (48021.6, 51046.4{]} & 48.3 & ⋯ & 43.9 & 35.1 & 44.0 & 22.7 & 94.10402 & 0.2701920 & 0.6658304 & 0.4921355 & 54.02746 & 6.796657\\\\\n",
       "\t6 &  428 & 152 & 176.0 & 505.4 & 52313 &  61023 & 15.6 & 180.25990 & (51046.4, 54545.6{]} & 45.4 & ⋯ & 38.8 & 32.6 & 43.2 & 20.2 & 84.88263 & 1.6532052 & 1.5380566 & 3.3146354 & 51.22036 & 4.964476\\\\\n",
       "\\end{tabular}\n"
      ],
      "text/markdown": [
       "\n",
       "A data.frame: 6 × 33\n",
       "\n",
       "| <!--/--> | avganncount &lt;dbl&gt; | avgdeathsperyear &lt;int&gt; | target_deathrate &lt;dbl&gt; | incidencerate &lt;dbl&gt; | medincome &lt;int&gt; | popest2015 &lt;int&gt; | povertypercent &lt;dbl&gt; | studypercap &lt;dbl&gt; | binnedinc &lt;chr&gt; | medianage &lt;dbl&gt; | ⋯ ⋯ | pctprivatecoveragealone &lt;dbl&gt; | pctempprivcoverage &lt;dbl&gt; | pctpubliccoverage &lt;dbl&gt; | pctpubliccoveragealone &lt;dbl&gt; | pctwhite &lt;dbl&gt; | pctblack &lt;dbl&gt; | pctasian &lt;dbl&gt; | pctotherrace &lt;dbl&gt; | pctmarriedhouseholds &lt;dbl&gt; | birthrate &lt;dbl&gt; |\n",
       "|---|---|---|---|---|---|---|---|---|---|---|---|---|---|---|---|---|---|---|---|---|---|\n",
       "| 1 | 1397 | 469 | 164.9 | 489.8 | 61898 | 260131 | 11.2 | 499.74820 | (61494.5, 125635]  | 39.3 | ⋯ |   NA | 41.6 | 32.9 | 14.0 | 81.78053 | 2.5947283 | 4.8218571 | 1.8434785 | 52.85608 | 6.118831 |\n",
       "| 2 |  173 |  70 | 161.3 | 411.6 | 48127 |  43269 | 18.6 |  23.11123 | (48021.6, 51046.4] | 33.0 | ⋯ | 53.8 | 43.6 | 31.1 | 15.3 | 89.22851 | 0.9691025 | 2.2462326 | 3.7413515 | 45.37250 | 4.333096 |\n",
       "| 3 |  102 |  50 | 174.7 | 349.7 | 49348 |  21026 | 14.6 |  47.56016 | (48021.6, 51046.4] | 45.0 | ⋯ | 43.5 | 34.9 | 42.1 | 21.1 | 90.92219 | 0.7396734 | 0.4658982 | 2.7473583 | 54.44487 | 3.729488 |\n",
       "| 4 |  427 | 202 | 194.8 | 430.4 | 44243 |  75882 | 17.1 | 342.63725 | (42724.4, 45201]   | 42.8 | ⋯ | 40.3 | 35.0 | 45.3 | 25.0 | 91.74469 | 0.7826260 | 1.1613587 | 1.3626432 | 51.02151 | 4.603841 |\n",
       "| 5 |   57 |  26 | 144.4 | 350.1 | 49955 |  10321 | 12.5 |   0.00000 | (48021.6, 51046.4] | 48.3 | ⋯ | 43.9 | 35.1 | 44.0 | 22.7 | 94.10402 | 0.2701920 | 0.6658304 | 0.4921355 | 54.02746 | 6.796657 |\n",
       "| 6 |  428 | 152 | 176.0 | 505.4 | 52313 |  61023 | 15.6 | 180.25990 | (51046.4, 54545.6] | 45.4 | ⋯ | 38.8 | 32.6 | 43.2 | 20.2 | 84.88263 | 1.6532052 | 1.5380566 | 3.3146354 | 51.22036 | 4.964476 |\n",
       "\n"
      ],
      "text/plain": [
       "  avganncount avgdeathsperyear target_deathrate incidencerate medincome\n",
       "1 1397        469              164.9            489.8         61898    \n",
       "2  173         70              161.3            411.6         48127    \n",
       "3  102         50              174.7            349.7         49348    \n",
       "4  427        202              194.8            430.4         44243    \n",
       "5   57         26              144.4            350.1         49955    \n",
       "6  428        152              176.0            505.4         52313    \n",
       "  popest2015 povertypercent studypercap binnedinc          medianage ⋯\n",
       "1 260131     11.2           499.74820   (61494.5, 125635]  39.3      ⋯\n",
       "2  43269     18.6            23.11123   (48021.6, 51046.4] 33.0      ⋯\n",
       "3  21026     14.6            47.56016   (48021.6, 51046.4] 45.0      ⋯\n",
       "4  75882     17.1           342.63725   (42724.4, 45201]   42.8      ⋯\n",
       "5  10321     12.5             0.00000   (48021.6, 51046.4] 48.3      ⋯\n",
       "6  61023     15.6           180.25990   (51046.4, 54545.6] 45.4      ⋯\n",
       "  pctprivatecoveragealone pctempprivcoverage pctpubliccoverage\n",
       "1   NA                    41.6               32.9             \n",
       "2 53.8                    43.6               31.1             \n",
       "3 43.5                    34.9               42.1             \n",
       "4 40.3                    35.0               45.3             \n",
       "5 43.9                    35.1               44.0             \n",
       "6 38.8                    32.6               43.2             \n",
       "  pctpubliccoveragealone pctwhite pctblack  pctasian  pctotherrace\n",
       "1 14.0                   81.78053 2.5947283 4.8218571 1.8434785   \n",
       "2 15.3                   89.22851 0.9691025 2.2462326 3.7413515   \n",
       "3 21.1                   90.92219 0.7396734 0.4658982 2.7473583   \n",
       "4 25.0                   91.74469 0.7826260 1.1613587 1.3626432   \n",
       "5 22.7                   94.10402 0.2701920 0.6658304 0.4921355   \n",
       "6 20.2                   84.88263 1.6532052 1.5380566 3.3146354   \n",
       "  pctmarriedhouseholds birthrate\n",
       "1 52.85608             6.118831 \n",
       "2 45.37250             4.333096 \n",
       "3 54.44487             3.729488 \n",
       "4 51.02151             4.603841 \n",
       "5 54.02746             6.796657 \n",
       "6 51.22036             4.964476 "
      ]
     },
     "metadata": {},
     "output_type": "display_data"
    },
    {
     "data": {
      "text/html": [
       "<table class=\"dataframe\">\n",
       "<caption>A data.frame: 6 × 33</caption>\n",
       "<thead>\n",
       "\t<tr><th></th><th scope=col>avganncount</th><th scope=col>avgdeathsperyear</th><th scope=col>target_deathrate</th><th scope=col>incidencerate</th><th scope=col>medincome</th><th scope=col>popest2015</th><th scope=col>povertypercent</th><th scope=col>studypercap</th><th scope=col>binnedinc</th><th scope=col>medianage</th><th scope=col>⋯</th><th scope=col>pctprivatecoveragealone</th><th scope=col>pctempprivcoverage</th><th scope=col>pctpubliccoverage</th><th scope=col>pctpubliccoveragealone</th><th scope=col>pctwhite</th><th scope=col>pctblack</th><th scope=col>pctasian</th><th scope=col>pctotherrace</th><th scope=col>pctmarriedhouseholds</th><th scope=col>birthrate</th></tr>\n",
       "\t<tr><th></th><th scope=col>&lt;dbl&gt;</th><th scope=col>&lt;int&gt;</th><th scope=col>&lt;dbl&gt;</th><th scope=col>&lt;dbl&gt;</th><th scope=col>&lt;int&gt;</th><th scope=col>&lt;int&gt;</th><th scope=col>&lt;dbl&gt;</th><th scope=col>&lt;dbl&gt;</th><th scope=col>&lt;chr&gt;</th><th scope=col>&lt;dbl&gt;</th><th scope=col>⋯</th><th scope=col>&lt;dbl&gt;</th><th scope=col>&lt;dbl&gt;</th><th scope=col>&lt;dbl&gt;</th><th scope=col>&lt;dbl&gt;</th><th scope=col>&lt;dbl&gt;</th><th scope=col>&lt;dbl&gt;</th><th scope=col>&lt;dbl&gt;</th><th scope=col>&lt;dbl&gt;</th><th scope=col>&lt;dbl&gt;</th><th scope=col>&lt;dbl&gt;</th></tr>\n",
       "</thead>\n",
       "<tbody>\n",
       "\t<tr><th scope=row>3042</th><td>1962.668</td><td>48</td><td>146.4</td><td>453.5494</td><td>49508</td><td>29029</td><td>13.0</td><td> 723.4145</td><td>(48021.6, 51046.4]</td><td>32.2</td><td>⋯</td><td>64.5</td><td>52.9</td><td>24.3</td><td> 9.5</td><td>94.29173</td><td> 1.145104</td><td>1.3865416</td><td> 1.014038</td><td>43.27678</td><td>3.977583</td></tr>\n",
       "\t<tr><th scope=row>3043</th><td>1962.668</td><td>15</td><td>149.6</td><td>453.5494</td><td>46961</td><td> 6343</td><td>12.4</td><td>   0.0000</td><td>(45201, 48021.6]  </td><td>44.2</td><td>⋯</td><td>54.9</td><td>44.6</td><td>31.7</td><td>13.2</td><td>90.28081</td><td> 3.837754</td><td>0.3276131</td><td> 1.700468</td><td>51.06383</td><td>7.773512</td></tr>\n",
       "\t<tr><th scope=row>3044</th><td>1962.668</td><td>43</td><td>150.1</td><td>453.5494</td><td>48609</td><td>37118</td><td>18.8</td><td> 377.1755</td><td>(48021.6, 51046.4]</td><td>30.4</td><td>⋯</td><td>53.3</td><td>48.6</td><td>28.8</td><td>17.7</td><td>75.70625</td><td> 2.326771</td><td>4.0449196</td><td>14.130288</td><td>52.00794</td><td>8.186470</td></tr>\n",
       "\t<tr><th scope=row>3045</th><td>1962.668</td><td>46</td><td>153.9</td><td>453.5494</td><td>51144</td><td>34536</td><td>15.0</td><td>1968.9599</td><td>(51046.4, 54545.6]</td><td>30.9</td><td>⋯</td><td>52.6</td><td>47.8</td><td>26.6</td><td>16.8</td><td>87.96163</td><td> 2.313188</td><td>1.3164717</td><td> 5.680705</td><td>55.15395</td><td>7.809192</td></tr>\n",
       "\t<tr><th scope=row>3046</th><td>1962.668</td><td>52</td><td>175.0</td><td>453.5494</td><td>50745</td><td>25609</td><td>13.3</td><td>   0.0000</td><td>(48021.6, 51046.4]</td><td>39.0</td><td>⋯</td><td>56.3</td><td>49.6</td><td>29.5</td><td>14.0</td><td>92.90568</td><td> 1.176562</td><td>0.2446317</td><td> 2.131790</td><td>58.48423</td><td>7.582938</td></tr>\n",
       "\t<tr><th scope=row>3047</th><td>1962.668</td><td>48</td><td>213.6</td><td>453.5494</td><td>41193</td><td>37030</td><td>13.9</td><td>   0.0000</td><td>(40362.7, 42724.4]</td><td>26.2</td><td>⋯</td><td>60.3</td><td>22.9</td><td>25.1</td><td>12.6</td><td>70.09813</td><td>16.590100</td><td>3.1777530</td><td> 1.356457</td><td>56.04024</td><td>8.981723</td></tr>\n",
       "</tbody>\n",
       "</table>\n"
      ],
      "text/latex": [
       "A data.frame: 6 × 33\n",
       "\\begin{tabular}{r|lllllllllllllllllllll}\n",
       "  & avganncount & avgdeathsperyear & target\\_deathrate & incidencerate & medincome & popest2015 & povertypercent & studypercap & binnedinc & medianage & ⋯ & pctprivatecoveragealone & pctempprivcoverage & pctpubliccoverage & pctpubliccoveragealone & pctwhite & pctblack & pctasian & pctotherrace & pctmarriedhouseholds & birthrate\\\\\n",
       "  & <dbl> & <int> & <dbl> & <dbl> & <int> & <int> & <dbl> & <dbl> & <chr> & <dbl> & ⋯ & <dbl> & <dbl> & <dbl> & <dbl> & <dbl> & <dbl> & <dbl> & <dbl> & <dbl> & <dbl>\\\\\n",
       "\\hline\n",
       "\t3042 & 1962.668 & 48 & 146.4 & 453.5494 & 49508 & 29029 & 13.0 &  723.4145 & (48021.6, 51046.4{]} & 32.2 & ⋯ & 64.5 & 52.9 & 24.3 &  9.5 & 94.29173 &  1.145104 & 1.3865416 &  1.014038 & 43.27678 & 3.977583\\\\\n",
       "\t3043 & 1962.668 & 15 & 149.6 & 453.5494 & 46961 &  6343 & 12.4 &    0.0000 & (45201, 48021.6{]}   & 44.2 & ⋯ & 54.9 & 44.6 & 31.7 & 13.2 & 90.28081 &  3.837754 & 0.3276131 &  1.700468 & 51.06383 & 7.773512\\\\\n",
       "\t3044 & 1962.668 & 43 & 150.1 & 453.5494 & 48609 & 37118 & 18.8 &  377.1755 & (48021.6, 51046.4{]} & 30.4 & ⋯ & 53.3 & 48.6 & 28.8 & 17.7 & 75.70625 &  2.326771 & 4.0449196 & 14.130288 & 52.00794 & 8.186470\\\\\n",
       "\t3045 & 1962.668 & 46 & 153.9 & 453.5494 & 51144 & 34536 & 15.0 & 1968.9599 & (51046.4, 54545.6{]} & 30.9 & ⋯ & 52.6 & 47.8 & 26.6 & 16.8 & 87.96163 &  2.313188 & 1.3164717 &  5.680705 & 55.15395 & 7.809192\\\\\n",
       "\t3046 & 1962.668 & 52 & 175.0 & 453.5494 & 50745 & 25609 & 13.3 &    0.0000 & (48021.6, 51046.4{]} & 39.0 & ⋯ & 56.3 & 49.6 & 29.5 & 14.0 & 92.90568 &  1.176562 & 0.2446317 &  2.131790 & 58.48423 & 7.582938\\\\\n",
       "\t3047 & 1962.668 & 48 & 213.6 & 453.5494 & 41193 & 37030 & 13.9 &    0.0000 & (40362.7, 42724.4{]} & 26.2 & ⋯ & 60.3 & 22.9 & 25.1 & 12.6 & 70.09813 & 16.590100 & 3.1777530 &  1.356457 & 56.04024 & 8.981723\\\\\n",
       "\\end{tabular}\n"
      ],
      "text/markdown": [
       "\n",
       "A data.frame: 6 × 33\n",
       "\n",
       "| <!--/--> | avganncount &lt;dbl&gt; | avgdeathsperyear &lt;int&gt; | target_deathrate &lt;dbl&gt; | incidencerate &lt;dbl&gt; | medincome &lt;int&gt; | popest2015 &lt;int&gt; | povertypercent &lt;dbl&gt; | studypercap &lt;dbl&gt; | binnedinc &lt;chr&gt; | medianage &lt;dbl&gt; | ⋯ ⋯ | pctprivatecoveragealone &lt;dbl&gt; | pctempprivcoverage &lt;dbl&gt; | pctpubliccoverage &lt;dbl&gt; | pctpubliccoveragealone &lt;dbl&gt; | pctwhite &lt;dbl&gt; | pctblack &lt;dbl&gt; | pctasian &lt;dbl&gt; | pctotherrace &lt;dbl&gt; | pctmarriedhouseholds &lt;dbl&gt; | birthrate &lt;dbl&gt; |\n",
       "|---|---|---|---|---|---|---|---|---|---|---|---|---|---|---|---|---|---|---|---|---|---|\n",
       "| 3042 | 1962.668 | 48 | 146.4 | 453.5494 | 49508 | 29029 | 13.0 |  723.4145 | (48021.6, 51046.4] | 32.2 | ⋯ | 64.5 | 52.9 | 24.3 |  9.5 | 94.29173 |  1.145104 | 1.3865416 |  1.014038 | 43.27678 | 3.977583 |\n",
       "| 3043 | 1962.668 | 15 | 149.6 | 453.5494 | 46961 |  6343 | 12.4 |    0.0000 | (45201, 48021.6]   | 44.2 | ⋯ | 54.9 | 44.6 | 31.7 | 13.2 | 90.28081 |  3.837754 | 0.3276131 |  1.700468 | 51.06383 | 7.773512 |\n",
       "| 3044 | 1962.668 | 43 | 150.1 | 453.5494 | 48609 | 37118 | 18.8 |  377.1755 | (48021.6, 51046.4] | 30.4 | ⋯ | 53.3 | 48.6 | 28.8 | 17.7 | 75.70625 |  2.326771 | 4.0449196 | 14.130288 | 52.00794 | 8.186470 |\n",
       "| 3045 | 1962.668 | 46 | 153.9 | 453.5494 | 51144 | 34536 | 15.0 | 1968.9599 | (51046.4, 54545.6] | 30.9 | ⋯ | 52.6 | 47.8 | 26.6 | 16.8 | 87.96163 |  2.313188 | 1.3164717 |  5.680705 | 55.15395 | 7.809192 |\n",
       "| 3046 | 1962.668 | 52 | 175.0 | 453.5494 | 50745 | 25609 | 13.3 |    0.0000 | (48021.6, 51046.4] | 39.0 | ⋯ | 56.3 | 49.6 | 29.5 | 14.0 | 92.90568 |  1.176562 | 0.2446317 |  2.131790 | 58.48423 | 7.582938 |\n",
       "| 3047 | 1962.668 | 48 | 213.6 | 453.5494 | 41193 | 37030 | 13.9 |    0.0000 | (40362.7, 42724.4] | 26.2 | ⋯ | 60.3 | 22.9 | 25.1 | 12.6 | 70.09813 | 16.590100 | 3.1777530 |  1.356457 | 56.04024 | 8.981723 |\n",
       "\n"
      ],
      "text/plain": [
       "     avganncount avgdeathsperyear target_deathrate incidencerate medincome\n",
       "3042 1962.668    48               146.4            453.5494      49508    \n",
       "3043 1962.668    15               149.6            453.5494      46961    \n",
       "3044 1962.668    43               150.1            453.5494      48609    \n",
       "3045 1962.668    46               153.9            453.5494      51144    \n",
       "3046 1962.668    52               175.0            453.5494      50745    \n",
       "3047 1962.668    48               213.6            453.5494      41193    \n",
       "     popest2015 povertypercent studypercap binnedinc          medianage ⋯\n",
       "3042 29029      13.0            723.4145   (48021.6, 51046.4] 32.2      ⋯\n",
       "3043  6343      12.4              0.0000   (45201, 48021.6]   44.2      ⋯\n",
       "3044 37118      18.8            377.1755   (48021.6, 51046.4] 30.4      ⋯\n",
       "3045 34536      15.0           1968.9599   (51046.4, 54545.6] 30.9      ⋯\n",
       "3046 25609      13.3              0.0000   (48021.6, 51046.4] 39.0      ⋯\n",
       "3047 37030      13.9              0.0000   (40362.7, 42724.4] 26.2      ⋯\n",
       "     pctprivatecoveragealone pctempprivcoverage pctpubliccoverage\n",
       "3042 64.5                    52.9               24.3             \n",
       "3043 54.9                    44.6               31.7             \n",
       "3044 53.3                    48.6               28.8             \n",
       "3045 52.6                    47.8               26.6             \n",
       "3046 56.3                    49.6               29.5             \n",
       "3047 60.3                    22.9               25.1             \n",
       "     pctpubliccoveragealone pctwhite pctblack  pctasian  pctotherrace\n",
       "3042  9.5                   94.29173  1.145104 1.3865416  1.014038   \n",
       "3043 13.2                   90.28081  3.837754 0.3276131  1.700468   \n",
       "3044 17.7                   75.70625  2.326771 4.0449196 14.130288   \n",
       "3045 16.8                   87.96163  2.313188 1.3164717  5.680705   \n",
       "3046 14.0                   92.90568  1.176562 0.2446317  2.131790   \n",
       "3047 12.6                   70.09813 16.590100 3.1777530  1.356457   \n",
       "     pctmarriedhouseholds birthrate\n",
       "3042 43.27678             3.977583 \n",
       "3043 51.06383             7.773512 \n",
       "3044 52.00794             8.186470 \n",
       "3045 55.15395             7.809192 \n",
       "3046 58.48423             7.582938 \n",
       "3047 56.04024             8.981723 "
      ]
     },
     "metadata": {},
     "output_type": "display_data"
    }
   ],
   "source": [
    "data_cancer = read.csv(file='202311_04_cancer_reg.csv', header=TRUE, sep=',', dec='.')\n",
    "head(data_cancer)#de forma predefinida retorna las primeras 6 observations\n",
    "tail(data_cancer)#de forma predefinida retorna las últimas 6 observations"
   ]
  },
  {
   "cell_type": "code",
   "execution_count": 3,
   "id": "4c74403d",
   "metadata": {
    "vscode": {
     "languageId": "r"
    }
   },
   "outputs": [
    {
     "data": {
      "text/html": [
       "<style>\n",
       ".list-inline {list-style: none; margin:0; padding: 0}\n",
       ".list-inline>li {display: inline-block}\n",
       ".list-inline>li:not(:last-child)::after {content: \"\\00b7\"; padding: 0 .5ex}\n",
       "</style>\n",
       "<ol class=list-inline><li>'avganncount'</li><li>'avgdeathsperyear'</li><li>'target_deathrate'</li><li>'incidencerate'</li><li>'medincome'</li><li>'popest2015'</li><li>'povertypercent'</li><li>'studypercap'</li><li>'binnedinc'</li><li>'medianage'</li><li>'medianagemale'</li><li>'medianagefemale'</li><li>'geography'</li><li>'percentmarried'</li><li>'pctnohs18_24'</li><li>'pcths18_24'</li><li>'pctsomecol18_24'</li><li>'pctbachdeg18_24'</li><li>'pcths25_over'</li><li>'pctbachdeg25_over'</li><li>'pctemployed16_over'</li><li>'pctunemployed16_over'</li><li>'pctprivatecoverage'</li><li>'pctprivatecoveragealone'</li><li>'pctempprivcoverage'</li><li>'pctpubliccoverage'</li><li>'pctpubliccoveragealone'</li><li>'pctwhite'</li><li>'pctblack'</li><li>'pctasian'</li><li>'pctotherrace'</li><li>'pctmarriedhouseholds'</li><li>'birthrate'</li></ol>\n"
      ],
      "text/latex": [
       "\\begin{enumerate*}\n",
       "\\item 'avganncount'\n",
       "\\item 'avgdeathsperyear'\n",
       "\\item 'target\\_deathrate'\n",
       "\\item 'incidencerate'\n",
       "\\item 'medincome'\n",
       "\\item 'popest2015'\n",
       "\\item 'povertypercent'\n",
       "\\item 'studypercap'\n",
       "\\item 'binnedinc'\n",
       "\\item 'medianage'\n",
       "\\item 'medianagemale'\n",
       "\\item 'medianagefemale'\n",
       "\\item 'geography'\n",
       "\\item 'percentmarried'\n",
       "\\item 'pctnohs18\\_24'\n",
       "\\item 'pcths18\\_24'\n",
       "\\item 'pctsomecol18\\_24'\n",
       "\\item 'pctbachdeg18\\_24'\n",
       "\\item 'pcths25\\_over'\n",
       "\\item 'pctbachdeg25\\_over'\n",
       "\\item 'pctemployed16\\_over'\n",
       "\\item 'pctunemployed16\\_over'\n",
       "\\item 'pctprivatecoverage'\n",
       "\\item 'pctprivatecoveragealone'\n",
       "\\item 'pctempprivcoverage'\n",
       "\\item 'pctpubliccoverage'\n",
       "\\item 'pctpubliccoveragealone'\n",
       "\\item 'pctwhite'\n",
       "\\item 'pctblack'\n",
       "\\item 'pctasian'\n",
       "\\item 'pctotherrace'\n",
       "\\item 'pctmarriedhouseholds'\n",
       "\\item 'birthrate'\n",
       "\\end{enumerate*}\n"
      ],
      "text/markdown": [
       "1. 'avganncount'\n",
       "2. 'avgdeathsperyear'\n",
       "3. 'target_deathrate'\n",
       "4. 'incidencerate'\n",
       "5. 'medincome'\n",
       "6. 'popest2015'\n",
       "7. 'povertypercent'\n",
       "8. 'studypercap'\n",
       "9. 'binnedinc'\n",
       "10. 'medianage'\n",
       "11. 'medianagemale'\n",
       "12. 'medianagefemale'\n",
       "13. 'geography'\n",
       "14. 'percentmarried'\n",
       "15. 'pctnohs18_24'\n",
       "16. 'pcths18_24'\n",
       "17. 'pctsomecol18_24'\n",
       "18. 'pctbachdeg18_24'\n",
       "19. 'pcths25_over'\n",
       "20. 'pctbachdeg25_over'\n",
       "21. 'pctemployed16_over'\n",
       "22. 'pctunemployed16_over'\n",
       "23. 'pctprivatecoverage'\n",
       "24. 'pctprivatecoveragealone'\n",
       "25. 'pctempprivcoverage'\n",
       "26. 'pctpubliccoverage'\n",
       "27. 'pctpubliccoveragealone'\n",
       "28. 'pctwhite'\n",
       "29. 'pctblack'\n",
       "30. 'pctasian'\n",
       "31. 'pctotherrace'\n",
       "32. 'pctmarriedhouseholds'\n",
       "33. 'birthrate'\n",
       "\n",
       "\n"
      ],
      "text/plain": [
       " [1] \"avganncount\"             \"avgdeathsperyear\"       \n",
       " [3] \"target_deathrate\"        \"incidencerate\"          \n",
       " [5] \"medincome\"               \"popest2015\"             \n",
       " [7] \"povertypercent\"          \"studypercap\"            \n",
       " [9] \"binnedinc\"               \"medianage\"              \n",
       "[11] \"medianagemale\"           \"medianagefemale\"        \n",
       "[13] \"geography\"               \"percentmarried\"         \n",
       "[15] \"pctnohs18_24\"            \"pcths18_24\"             \n",
       "[17] \"pctsomecol18_24\"         \"pctbachdeg18_24\"        \n",
       "[19] \"pcths25_over\"            \"pctbachdeg25_over\"      \n",
       "[21] \"pctemployed16_over\"      \"pctunemployed16_over\"   \n",
       "[23] \"pctprivatecoverage\"      \"pctprivatecoveragealone\"\n",
       "[25] \"pctempprivcoverage\"      \"pctpubliccoverage\"      \n",
       "[27] \"pctpubliccoveragealone\"  \"pctwhite\"               \n",
       "[29] \"pctblack\"                \"pctasian\"               \n",
       "[31] \"pctotherrace\"            \"pctmarriedhouseholds\"   \n",
       "[33] \"birthrate\"              "
      ]
     },
     "metadata": {},
     "output_type": "display_data"
    },
    {
     "data": {
      "text/html": [
       "<style>\n",
       ".list-inline {list-style: none; margin:0; padding: 0}\n",
       ".list-inline>li {display: inline-block}\n",
       ".list-inline>li:not(:last-child)::after {content: \"\\00b7\"; padding: 0 .5ex}\n",
       "</style>\n",
       "<ol class=list-inline><li>3047</li><li>33</li></ol>\n"
      ],
      "text/latex": [
       "\\begin{enumerate*}\n",
       "\\item 3047\n",
       "\\item 33\n",
       "\\end{enumerate*}\n"
      ],
      "text/markdown": [
       "1. 3047\n",
       "2. 33\n",
       "\n",
       "\n"
      ],
      "text/plain": [
       "[1] 3047   33"
      ]
     },
     "metadata": {},
     "output_type": "display_data"
    }
   ],
   "source": [
    "#Usamos las funciones names() y dim() para observar el nombre de las variables y ver cuantos registros y columnas tenemos\n",
    "names(data_cancer)\n",
    "dim(data_cancer)"
   ]
  },
  {
   "cell_type": "code",
   "execution_count": 4,
   "id": "94e146f5",
   "metadata": {
    "vscode": {
     "languageId": "r"
    }
   },
   "outputs": [
    {
     "name": "stdout",
     "output_type": "stream",
     "text": [
      "'data.frame':\t3047 obs. of  33 variables:\n",
      " $ avganncount            : num  1397 173 102 427 57 ...\n",
      " $ avgdeathsperyear       : int  469 70 50 202 26 152 97 71 36 1380 ...\n",
      " $ target_deathrate       : num  165 161 175 195 144 ...\n",
      " $ incidencerate          : num  490 412 350 430 350 ...\n",
      " $ medincome              : int  61898 48127 49348 44243 49955 52313 37782 40189 42579 60397 ...\n",
      " $ popest2015             : int  260131 43269 21026 75882 10321 61023 41516 20848 13088 843954 ...\n",
      " $ povertypercent         : num  11.2 18.6 14.6 17.1 12.5 15.6 23.2 17.8 22.3 13.1 ...\n",
      " $ studypercap            : num  499.7 23.1 47.6 342.6 0 ...\n",
      " $ binnedinc              : chr  \"(61494.5, 125635]\" \"(48021.6, 51046.4]\" \"(48021.6, 51046.4]\" \"(42724.4, 45201]\" ...\n",
      " $ medianage              : num  39.3 33 45 42.8 48.3 45.4 42.6 51.7 49.3 35.8 ...\n",
      " $ medianagemale          : num  36.9 32.2 44 42.2 47.8 43.5 42.2 50.8 48.4 34.7 ...\n",
      " $ medianagefemale        : num  41.7 33.7 45.8 43.4 48.9 48 43.5 52.5 49.8 37 ...\n",
      " $ geography              : chr  \"Kitsap County, Washington\" \"Kittitas County, Washington\" \"Klickitat County, Washington\" \"Lewis County, Washington\" ...\n",
      " $ percentmarried         : num  52.5 44.5 54.2 52.7 57.8 50.4 54.1 52.7 55.9 50 ...\n",
      " $ pctnohs18_24           : num  11.5 6.1 24 20.2 14.9 29.9 26.1 27.3 34.7 15.6 ...\n",
      " $ pcths18_24             : num  39.5 22.4 36.6 41.2 43 35.1 41.4 33.9 39.4 36.3 ...\n",
      " $ pctsomecol18_24        : num  42.1 64 NA 36.1 40 NA NA 36.5 NA NA ...\n",
      " $ pctbachdeg18_24        : num  6.9 7.5 9.5 2.5 2 4.5 5.8 2.2 1.4 7.1 ...\n",
      " $ pcths25_over           : num  23.2 26 29 31.6 33.4 30.4 29.8 31.6 32.2 28.8 ...\n",
      " $ pctbachdeg25_over      : num  19.6 22.7 16 9.3 15 11.9 11.9 11.3 12 16.2 ...\n",
      " $ pctemployed16_over     : num  51.9 55.9 45.9 48.3 48.2 44.1 51.8 40.9 39.5 56.6 ...\n",
      " $ pctunemployed16_over   : num  8 7.8 7 12.1 4.8 12.9 8.9 8.9 10.3 9.2 ...\n",
      " $ pctprivatecoverage     : num  75.1 70.2 63.7 58.4 61.6 60 49.5 55.8 55.5 69.9 ...\n",
      " $ pctprivatecoveragealone: num  NA 53.8 43.5 40.3 43.9 38.8 35 33.1 37.8 NA ...\n",
      " $ pctempprivcoverage     : num  41.6 43.6 34.9 35 35.1 32.6 28.3 25.9 29.9 44.4 ...\n",
      " $ pctpubliccoverage      : num  32.9 31.1 42.1 45.3 44 43.2 46.4 50.9 48.1 31.4 ...\n",
      " $ pctpubliccoveragealone : num  14 15.3 21.1 25 22.7 20.2 28.7 24.1 26.6 16.5 ...\n",
      " $ pctwhite               : num  81.8 89.2 90.9 91.7 94.1 ...\n",
      " $ pctblack               : num  2.595 0.969 0.74 0.783 0.27 ...\n",
      " $ pctasian               : num  4.822 2.246 0.466 1.161 0.666 ...\n",
      " $ pctotherrace           : num  1.843 3.741 2.747 1.363 0.492 ...\n",
      " $ pctmarriedhouseholds   : num  52.9 45.4 54.4 51 54 ...\n",
      " $ birthrate              : num  6.12 4.33 3.73 4.6 6.8 ...\n"
     ]
    }
   ],
   "source": [
    "#observamos el tipo de datos, cuantos registros tiene el dataset y cuantas variables\n",
    "str(data_cancer)"
   ]
  },
  {
   "cell_type": "markdown",
   "id": "4fd8b943",
   "metadata": {},
   "source": [
    "Vemos que la variable binnedinc es de tipo chr, pero en realidad contiene llos límites de los deciles, quiza sería interesante hacer un diccionario con D1,D2,...,D10 y asignarlo al grupo que corresponde, habría que comprovar cuantos valores distintos hay y si esto tiene relevancia para nuestro análisis."
   ]
  },
  {
   "cell_type": "markdown",
   "id": "828aaab4",
   "metadata": {},
   "source": [
    "## Analisis descriptivo"
   ]
  },
  {
   "cell_type": "code",
   "execution_count": 5,
   "id": "29de7b91",
   "metadata": {
    "vscode": {
     "languageId": "r"
    }
   },
   "outputs": [
    {
     "data": {
      "text/plain": [
       "  avganncount      avgdeathsperyear target_deathrate incidencerate   \n",
       " Min.   :    6.0   Min.   :    3    Min.   : 59.7    Min.   : 201.3  \n",
       " 1st Qu.:   76.0   1st Qu.:   28    1st Qu.:161.2    1st Qu.: 420.3  \n",
       " Median :  171.0   Median :   61    Median :178.1    Median : 453.5  \n",
       " Mean   :  606.3   Mean   :  186    Mean   :178.7    Mean   : 448.3  \n",
       " 3rd Qu.:  518.0   3rd Qu.:  149    3rd Qu.:195.2    3rd Qu.: 480.9  \n",
       " Max.   :38150.0   Max.   :14010    Max.   :362.8    Max.   :1206.9  \n",
       "                                                                     \n",
       "   medincome        popest2015       povertypercent   studypercap     \n",
       " Min.   : 22640   Min.   :     827   Min.   : 3.20   Min.   :   0.00  \n",
       " 1st Qu.: 38883   1st Qu.:   11684   1st Qu.:12.15   1st Qu.:   0.00  \n",
       " Median : 45207   Median :   26643   Median :15.90   Median :   0.00  \n",
       " Mean   : 47063   Mean   :  102637   Mean   :16.88   Mean   : 155.40  \n",
       " 3rd Qu.: 52492   3rd Qu.:   68671   3rd Qu.:20.40   3rd Qu.:  83.65  \n",
       " Max.   :125635   Max.   :10170292   Max.   :47.40   Max.   :9762.31  \n",
       "                                                                      \n",
       "  binnedinc           medianage      medianagemale   medianagefemale\n",
       " Length:3047        Min.   : 22.30   Min.   :22.40   Min.   :22.30  \n",
       " Class :character   1st Qu.: 37.70   1st Qu.:36.35   1st Qu.:39.10  \n",
       " Mode  :character   Median : 41.00   Median :39.60   Median :42.40  \n",
       "                    Mean   : 45.27   Mean   :39.57   Mean   :42.15  \n",
       "                    3rd Qu.: 44.00   3rd Qu.:42.50   3rd Qu.:45.30  \n",
       "                    Max.   :624.00   Max.   :64.70   Max.   :65.70  \n",
       "                                                                    \n",
       "  geography         percentmarried   pctnohs18_24     pcths18_24  \n",
       " Length:3047        Min.   :23.10   Min.   : 0.00   Min.   : 0.0  \n",
       " Class :character   1st Qu.:47.75   1st Qu.:12.80   1st Qu.:29.2  \n",
       " Mode  :character   Median :52.40   Median :17.10   Median :34.7  \n",
       "                    Mean   :51.77   Mean   :18.22   Mean   :35.0  \n",
       "                    3rd Qu.:56.40   3rd Qu.:22.70   3rd Qu.:40.7  \n",
       "                    Max.   :72.50   Max.   :64.10   Max.   :72.5  \n",
       "                                                                  \n",
       " pctsomecol18_24 pctbachdeg18_24   pcths25_over   pctbachdeg25_over\n",
       " Min.   : 7.10   Min.   : 0.000   Min.   : 7.50   Min.   : 2.50    \n",
       " 1st Qu.:34.00   1st Qu.: 3.100   1st Qu.:30.40   1st Qu.: 9.40    \n",
       " Median :40.40   Median : 5.400   Median :35.30   Median :12.30    \n",
       " Mean   :40.98   Mean   : 6.158   Mean   :34.80   Mean   :13.28    \n",
       " 3rd Qu.:46.40   3rd Qu.: 8.200   3rd Qu.:39.65   3rd Qu.:16.10    \n",
       " Max.   :79.00   Max.   :51.800   Max.   :54.80   Max.   :42.20    \n",
       " NA's   :2285                                                      \n",
       " pctemployed16_over pctunemployed16_over pctprivatecoverage\n",
       " Min.   :17.60      Min.   : 0.400       Min.   :22.30     \n",
       " 1st Qu.:48.60      1st Qu.: 5.500       1st Qu.:57.20     \n",
       " Median :54.50      Median : 7.600       Median :65.10     \n",
       " Mean   :54.15      Mean   : 7.852       Mean   :64.35     \n",
       " 3rd Qu.:60.30      3rd Qu.: 9.700       3rd Qu.:72.10     \n",
       " Max.   :80.10      Max.   :29.400       Max.   :92.30     \n",
       " NA's   :152                                               \n",
       " pctprivatecoveragealone pctempprivcoverage pctpubliccoverage\n",
       " Min.   :15.70           Min.   :13.5       Min.   :11.20    \n",
       " 1st Qu.:41.00           1st Qu.:34.5       1st Qu.:30.90    \n",
       " Median :48.70           Median :41.1       Median :36.30    \n",
       " Mean   :48.45           Mean   :41.2       Mean   :36.25    \n",
       " 3rd Qu.:55.60           3rd Qu.:47.7       3rd Qu.:41.55    \n",
       " Max.   :78.90           Max.   :70.7       Max.   :65.10    \n",
       " NA's   :609                                                 \n",
       " pctpubliccoveragealone    pctwhite         pctblack          pctasian      \n",
       " Min.   : 2.60          Min.   : 10.20   Min.   : 0.0000   Min.   : 0.0000  \n",
       " 1st Qu.:14.85          1st Qu.: 77.30   1st Qu.: 0.6207   1st Qu.: 0.2542  \n",
       " Median :18.80          Median : 90.06   Median : 2.2476   Median : 0.5498  \n",
       " Mean   :19.24          Mean   : 83.65   Mean   : 9.1080   Mean   : 1.2540  \n",
       " 3rd Qu.:23.10          3rd Qu.: 95.45   3rd Qu.:10.5097   3rd Qu.: 1.2210  \n",
       " Max.   :46.60          Max.   :100.00   Max.   :85.9478   Max.   :42.6194  \n",
       "                                                                            \n",
       "  pctotherrace     pctmarriedhouseholds   birthrate     \n",
       " Min.   : 0.0000   Min.   :22.99        Min.   : 0.000  \n",
       " 1st Qu.: 0.2952   1st Qu.:47.76        1st Qu.: 4.521  \n",
       " Median : 0.8262   Median :51.67        Median : 5.381  \n",
       " Mean   : 1.9835   Mean   :51.24        Mean   : 5.640  \n",
       " 3rd Qu.: 2.1780   3rd Qu.:55.40        3rd Qu.: 6.494  \n",
       " Max.   :41.9303   Max.   :78.08        Max.   :21.326  \n",
       "                                                        "
      ]
     },
     "metadata": {},
     "output_type": "display_data"
    }
   ],
   "source": [
    "summary(data_cancer)"
   ]
  },
  {
   "cell_type": "code",
   "execution_count": 7,
   "id": "2a977c6e",
   "metadata": {
    "vscode": {
     "languageId": "r"
    }
   },
   "outputs": [
    {
     "data": {
      "text/html": [
       "TRUE"
      ],
      "text/latex": [
       "TRUE"
      ],
      "text/markdown": [
       "TRUE"
      ],
      "text/plain": [
       "[1] TRUE"
      ]
     },
     "metadata": {},
     "output_type": "display_data"
    }
   ],
   "source": [
    "#Verificamos la presencia de nulos y la presencia de outliers\n",
    "anyNA(data_cancer)"
   ]
  },
  {
   "cell_type": "code",
   "execution_count": 8,
   "id": "928fea21",
   "metadata": {
    "vscode": {
     "languageId": "r"
    }
   },
   "outputs": [
    {
     "name": "stdout",
     "output_type": "stream",
     "text": [
      "            avganncount        avgdeathsperyear        target_deathrate \n",
      "                      0                       0                       0 \n",
      "          incidencerate               medincome              popest2015 \n",
      "                      0                       0                       0 \n",
      "         povertypercent             studypercap               binnedinc \n",
      "                      0                       0                       0 \n",
      "              medianage           medianagemale         medianagefemale \n",
      "                      0                       0                       0 \n",
      "              geography          percentmarried            pctnohs18_24 \n",
      "                      0                       0                       0 \n",
      "             pcths18_24         pctsomecol18_24         pctbachdeg18_24 \n",
      "                      0                    2285                       0 \n",
      "           pcths25_over       pctbachdeg25_over      pctemployed16_over \n",
      "                      0                       0                     152 \n",
      "   pctunemployed16_over      pctprivatecoverage pctprivatecoveragealone \n",
      "                      0                       0                     609 \n",
      "     pctempprivcoverage       pctpubliccoverage  pctpubliccoveragealone \n",
      "                      0                       0                       0 \n",
      "               pctwhite                pctblack                pctasian \n",
      "                      0                       0                       0 \n",
      "           pctotherrace    pctmarriedhouseholds               birthrate \n",
      "                      0                       0                       0 \n"
     ]
    }
   ],
   "source": [
    "na_counts_per_column <- colSums(is.na(data_cancer))\n",
    "print(na_counts_per_column)"
   ]
  },
  {
   "cell_type": "markdown",
   "id": "3d8c079d",
   "metadata": {},
   "source": [
    "La variable pctprivatecoveragealone quiza no es tan relevante ya que también tenemos la pctprivatecoverage que nos dice si tenia seguro medico privado o no, y la el hecho que una persona tenga trabajo o no, no afecta a si contrae cancer o no. Y la característica de la edad, nos puede ser interesante para clasificar a las personas por edad. Para las edades, no interesa saber entre 18 y 24 si tienen educación secundaria o no la tienen, ya que eso no es relevante. Así pues nos quedaremos con la variable de over 25, las sumaremos y podremos saber si es mayor de 25 años o menor. Las demás columnas las limpiaremos, de edades las limpiaremos.\n"
   ]
  },
  {
   "cell_type": "markdown",
   "id": "7145ae81",
   "metadata": {},
   "source": [
    "Antes eliminaremos todas las variables que no nos interesan tener"
   ]
  },
  {
   "cell_type": "code",
   "execution_count": 14,
   "id": "5929fcd8",
   "metadata": {
    "vscode": {
     "languageId": "r"
    }
   },
   "outputs": [
    {
     "name": "stdout",
     "output_type": "stream",
     "text": [
      "\n",
      "(34218.1, 37413.8] (37413.8, 40362.7] (40362.7, 42724.4]   (42724.4, 45201] \n",
      "               304                304                304                305 \n",
      "  (45201, 48021.6] (48021.6, 51046.4] (51046.4, 54545.6] (54545.6, 61494.5] \n",
      "               306                305                305                306 \n",
      " (61494.5, 125635]   [22640, 34218.1] \n",
      "               302                306 \n"
     ]
    }
   ],
   "source": [
    "conteo <- table(data_cancer$binnedinc)\n",
    "print(conteo)\n"
   ]
  },
  {
   "cell_type": "code",
   "execution_count": 20,
   "id": "10c7d5ee",
   "metadata": {
    "vscode": {
     "languageId": "r"
    }
   },
   "outputs": [],
   "source": [
    "#Efectivamente se tratan de 10 Deciles, los cuales formatearemos en números del 1 al 10\n",
    "mapa_conversion <- c(\"[22640, 34218.1]\" = 1, \n",
    "                    \"(34218.1, 37413.8]\" = 2, \n",
    "                    \"(37413.8, 40362.7]\" = 3, \n",
    "                    \"(40362.7, 42724.4]\" = 4, \n",
    "                    \"(42724.4, 45201]\" = 5,\n",
    "                    \"(45201, 48021.6]\" = 6,\n",
    "                    \"(48021.6, 51046.4]\" = 7,\n",
    "                    \"(51046.4, 54545.6]\" = 8,\n",
    "                    \"(54545.6, 61494.5]\" = 9,\n",
    "                    \"(61494.5, 125635]\" = 10)\n",
    "\n",
    "data_cancer$binnedinc <- mapa_conversion[match(data_cancer$binnedinc, names(mapa_conversion))]"
   ]
  },
  {
   "cell_type": "code",
   "execution_count": 21,
   "id": "7a14fddf",
   "metadata": {
    "vscode": {
     "languageId": "r"
    }
   },
   "outputs": [
    {
     "data": {
      "text/html": [
       "<style>\n",
       ".list-inline {list-style: none; margin:0; padding: 0}\n",
       ".list-inline>li {display: inline-block}\n",
       ".list-inline>li:not(:last-child)::after {content: \"\\00b7\"; padding: 0 .5ex}\n",
       "</style>\n",
       "<ol class=list-inline><li>10</li><li>7</li><li>7</li><li>5</li><li>7</li><li>8</li><li>3</li><li>3</li><li>4</li><li>9</li><li>9</li><li>8</li><li>8</li><li>10</li><li>7</li><li>5</li><li>10</li><li>7</li><li>7</li><li>8</li><li>4</li><li>5</li><li>2</li><li>9</li><li>3</li><li>1</li><li>5</li><li>2</li><li>1</li><li>1</li><li>4</li><li>2</li><li>1</li><li>4</li><li>2</li><li>2</li><li>7</li><li>4</li><li>4</li><li>4</li><li>10</li><li>5</li><li>4</li><li>2</li><li>2</li><li>1</li><li>5</li><li>5</li><li>2</li><li>2</li><li>3</li><li>1</li><li>5</li><li>2</li><li>5</li><li>2</li><li>3</li><li>3</li><li>5</li><li>2</li><li>4</li><li>9</li><li>3</li><li>3</li><li>6</li><li>1</li><li>1</li><li>3</li><li>2</li><li>4</li><li>3</li><li>2</li><li>1</li><li>3</li><li>3</li><li>4</li><li>2</li><li>4</li><li>4</li><li>6</li><li>5</li><li>8</li><li>7</li><li>4</li><li>10</li><li>8</li><li>6</li><li>9</li><li>5</li><li>10</li><li>8</li><li>7</li><li>6</li><li>8</li><li>7</li><li>5</li><li>8</li><li>4</li><li>6</li><li>8</li><li>10</li><li>3</li><li>5</li><li>9</li><li>7</li><li>4</li><li>5</li><li>10</li><li>8</li><li>4</li><li>8</li><li>6</li><li>8</li><li>9</li><li>10</li><li>6</li><li>10</li><li>10</li><li>10</li><li>6</li><li>7</li><li>4</li><li>5</li><li>8</li><li>9</li><li>8</li><li>9</li><li>6</li><li>9</li><li>9</li><li>9</li><li>4</li><li>9</li><li>10</li><li>10</li><li>10</li><li>9</li><li>9</li><li>8</li><li>10</li><li>10</li><li>10</li><li>9</li><li>6</li><li>9</li><li>10</li><li>9</li><li>10</li><li>10</li><li>10</li><li>10</li><li>10</li><li>10</li><li>9</li><li>9</li><li>10</li><li>10</li><li>10</li><li>10</li><li>6</li><li>1</li><li>3</li><li>2</li><li>2</li><li>4</li><li>1</li><li>3</li><li>9</li><li>3</li><li>1</li><li>2</li><li>9</li><li>3</li><li>10</li><li>1</li><li>1</li><li>1</li><li>4</li><li>1</li><li>2</li><li>2</li><li>9</li><li>6</li><li>1</li><li>8</li><li>1</li><li>1</li><li>2</li><li>2</li><li>2</li><li>4</li><li>9</li><li>4</li><li>1</li><li>6</li><li>5</li><li>8</li><li>4</li><li>7</li><li>6</li><li>⋯</li><li>3</li><li>4</li><li>8</li><li>4</li><li>7</li><li>3</li><li>5</li><li>4</li><li>3</li><li>10</li><li>7</li><li>7</li><li>2</li><li>7</li><li>7</li><li>6</li><li>2</li><li>8</li><li>5</li><li>8</li><li>8</li><li>6</li><li>10</li><li>9</li><li>10</li><li>3</li><li>10</li><li>8</li><li>4</li><li>8</li><li>8</li><li>8</li><li>4</li><li>10</li><li>9</li><li>6</li><li>7</li><li>8</li><li>5</li><li>8</li><li>6</li><li>4</li><li>9</li><li>9</li><li>10</li><li>6</li><li>6</li><li>8</li><li>9</li><li>8</li><li>4</li><li>10</li><li>3</li><li>4</li><li>1</li><li>10</li><li>6</li><li>5</li><li>7</li><li>7</li><li>3</li><li>9</li><li>6</li><li>8</li><li>7</li><li>7</li><li>7</li><li>9</li><li>4</li><li>4</li><li>7</li><li>5</li><li>9</li><li>6</li><li>6</li><li>7</li><li>10</li><li>6</li><li>6</li><li>10</li><li>7</li><li>7</li><li>8</li><li>6</li><li>3</li><li>10</li><li>8</li><li>9</li><li>5</li><li>8</li><li>5</li><li>7</li><li>4</li><li>6</li><li>9</li><li>7</li><li>8</li><li>3</li><li>8</li><li>7</li><li>3</li><li>8</li><li>9</li><li>6</li><li>6</li><li>7</li><li>7</li><li>8</li><li>7</li><li>9</li><li>7</li><li>8</li><li>9</li><li>8</li><li>8</li><li>7</li><li>7</li><li>7</li><li>8</li><li>9</li><li>7</li><li>8</li><li>4</li><li>9</li><li>8</li><li>7</li><li>8</li><li>5</li><li>10</li><li>7</li><li>4</li><li>10</li><li>10</li><li>7</li><li>9</li><li>7</li><li>9</li><li>8</li><li>5</li><li>5</li><li>4</li><li>8</li><li>9</li><li>8</li><li>6</li><li>7</li><li>10</li><li>7</li><li>9</li><li>8</li><li>8</li><li>5</li><li>7</li><li>9</li><li>9</li><li>9</li><li>8</li><li>9</li><li>6</li><li>5</li><li>4</li><li>4</li><li>10</li><li>9</li><li>4</li><li>5</li><li>7</li><li>9</li><li>6</li><li>7</li><li>7</li><li>3</li><li>6</li><li>5</li><li>8</li><li>6</li><li>3</li><li>6</li><li>9</li><li>6</li><li>3</li><li>4</li><li>6</li><li>8</li><li>4</li><li>9</li><li>6</li><li>5</li><li>4</li><li>6</li><li>6</li><li>7</li><li>7</li><li>2</li><li>7</li><li>6</li><li>7</li><li>8</li><li>7</li><li>4</li></ol>\n"
      ],
      "text/latex": [
       "\\begin{enumerate*}\n",
       "\\item 10\n",
       "\\item 7\n",
       "\\item 7\n",
       "\\item 5\n",
       "\\item 7\n",
       "\\item 8\n",
       "\\item 3\n",
       "\\item 3\n",
       "\\item 4\n",
       "\\item 9\n",
       "\\item 9\n",
       "\\item 8\n",
       "\\item 8\n",
       "\\item 10\n",
       "\\item 7\n",
       "\\item 5\n",
       "\\item 10\n",
       "\\item 7\n",
       "\\item 7\n",
       "\\item 8\n",
       "\\item 4\n",
       "\\item 5\n",
       "\\item 2\n",
       "\\item 9\n",
       "\\item 3\n",
       "\\item 1\n",
       "\\item 5\n",
       "\\item 2\n",
       "\\item 1\n",
       "\\item 1\n",
       "\\item 4\n",
       "\\item 2\n",
       "\\item 1\n",
       "\\item 4\n",
       "\\item 2\n",
       "\\item 2\n",
       "\\item 7\n",
       "\\item 4\n",
       "\\item 4\n",
       "\\item 4\n",
       "\\item 10\n",
       "\\item 5\n",
       "\\item 4\n",
       "\\item 2\n",
       "\\item 2\n",
       "\\item 1\n",
       "\\item 5\n",
       "\\item 5\n",
       "\\item 2\n",
       "\\item 2\n",
       "\\item 3\n",
       "\\item 1\n",
       "\\item 5\n",
       "\\item 2\n",
       "\\item 5\n",
       "\\item 2\n",
       "\\item 3\n",
       "\\item 3\n",
       "\\item 5\n",
       "\\item 2\n",
       "\\item 4\n",
       "\\item 9\n",
       "\\item 3\n",
       "\\item 3\n",
       "\\item 6\n",
       "\\item 1\n",
       "\\item 1\n",
       "\\item 3\n",
       "\\item 2\n",
       "\\item 4\n",
       "\\item 3\n",
       "\\item 2\n",
       "\\item 1\n",
       "\\item 3\n",
       "\\item 3\n",
       "\\item 4\n",
       "\\item 2\n",
       "\\item 4\n",
       "\\item 4\n",
       "\\item 6\n",
       "\\item 5\n",
       "\\item 8\n",
       "\\item 7\n",
       "\\item 4\n",
       "\\item 10\n",
       "\\item 8\n",
       "\\item 6\n",
       "\\item 9\n",
       "\\item 5\n",
       "\\item 10\n",
       "\\item 8\n",
       "\\item 7\n",
       "\\item 6\n",
       "\\item 8\n",
       "\\item 7\n",
       "\\item 5\n",
       "\\item 8\n",
       "\\item 4\n",
       "\\item 6\n",
       "\\item 8\n",
       "\\item 10\n",
       "\\item 3\n",
       "\\item 5\n",
       "\\item 9\n",
       "\\item 7\n",
       "\\item 4\n",
       "\\item 5\n",
       "\\item 10\n",
       "\\item 8\n",
       "\\item 4\n",
       "\\item 8\n",
       "\\item 6\n",
       "\\item 8\n",
       "\\item 9\n",
       "\\item 10\n",
       "\\item 6\n",
       "\\item 10\n",
       "\\item 10\n",
       "\\item 10\n",
       "\\item 6\n",
       "\\item 7\n",
       "\\item 4\n",
       "\\item 5\n",
       "\\item 8\n",
       "\\item 9\n",
       "\\item 8\n",
       "\\item 9\n",
       "\\item 6\n",
       "\\item 9\n",
       "\\item 9\n",
       "\\item 9\n",
       "\\item 4\n",
       "\\item 9\n",
       "\\item 10\n",
       "\\item 10\n",
       "\\item 10\n",
       "\\item 9\n",
       "\\item 9\n",
       "\\item 8\n",
       "\\item 10\n",
       "\\item 10\n",
       "\\item 10\n",
       "\\item 9\n",
       "\\item 6\n",
       "\\item 9\n",
       "\\item 10\n",
       "\\item 9\n",
       "\\item 10\n",
       "\\item 10\n",
       "\\item 10\n",
       "\\item 10\n",
       "\\item 10\n",
       "\\item 10\n",
       "\\item 9\n",
       "\\item 9\n",
       "\\item 10\n",
       "\\item 10\n",
       "\\item 10\n",
       "\\item 10\n",
       "\\item 6\n",
       "\\item 1\n",
       "\\item 3\n",
       "\\item 2\n",
       "\\item 2\n",
       "\\item 4\n",
       "\\item 1\n",
       "\\item 3\n",
       "\\item 9\n",
       "\\item 3\n",
       "\\item 1\n",
       "\\item 2\n",
       "\\item 9\n",
       "\\item 3\n",
       "\\item 10\n",
       "\\item 1\n",
       "\\item 1\n",
       "\\item 1\n",
       "\\item 4\n",
       "\\item 1\n",
       "\\item 2\n",
       "\\item 2\n",
       "\\item 9\n",
       "\\item 6\n",
       "\\item 1\n",
       "\\item 8\n",
       "\\item 1\n",
       "\\item 1\n",
       "\\item 2\n",
       "\\item 2\n",
       "\\item 2\n",
       "\\item 4\n",
       "\\item 9\n",
       "\\item 4\n",
       "\\item 1\n",
       "\\item 6\n",
       "\\item 5\n",
       "\\item 8\n",
       "\\item 4\n",
       "\\item 7\n",
       "\\item 6\n",
       "\\item ⋯\n",
       "\\item 3\n",
       "\\item 4\n",
       "\\item 8\n",
       "\\item 4\n",
       "\\item 7\n",
       "\\item 3\n",
       "\\item 5\n",
       "\\item 4\n",
       "\\item 3\n",
       "\\item 10\n",
       "\\item 7\n",
       "\\item 7\n",
       "\\item 2\n",
       "\\item 7\n",
       "\\item 7\n",
       "\\item 6\n",
       "\\item 2\n",
       "\\item 8\n",
       "\\item 5\n",
       "\\item 8\n",
       "\\item 8\n",
       "\\item 6\n",
       "\\item 10\n",
       "\\item 9\n",
       "\\item 10\n",
       "\\item 3\n",
       "\\item 10\n",
       "\\item 8\n",
       "\\item 4\n",
       "\\item 8\n",
       "\\item 8\n",
       "\\item 8\n",
       "\\item 4\n",
       "\\item 10\n",
       "\\item 9\n",
       "\\item 6\n",
       "\\item 7\n",
       "\\item 8\n",
       "\\item 5\n",
       "\\item 8\n",
       "\\item 6\n",
       "\\item 4\n",
       "\\item 9\n",
       "\\item 9\n",
       "\\item 10\n",
       "\\item 6\n",
       "\\item 6\n",
       "\\item 8\n",
       "\\item 9\n",
       "\\item 8\n",
       "\\item 4\n",
       "\\item 10\n",
       "\\item 3\n",
       "\\item 4\n",
       "\\item 1\n",
       "\\item 10\n",
       "\\item 6\n",
       "\\item 5\n",
       "\\item 7\n",
       "\\item 7\n",
       "\\item 3\n",
       "\\item 9\n",
       "\\item 6\n",
       "\\item 8\n",
       "\\item 7\n",
       "\\item 7\n",
       "\\item 7\n",
       "\\item 9\n",
       "\\item 4\n",
       "\\item 4\n",
       "\\item 7\n",
       "\\item 5\n",
       "\\item 9\n",
       "\\item 6\n",
       "\\item 6\n",
       "\\item 7\n",
       "\\item 10\n",
       "\\item 6\n",
       "\\item 6\n",
       "\\item 10\n",
       "\\item 7\n",
       "\\item 7\n",
       "\\item 8\n",
       "\\item 6\n",
       "\\item 3\n",
       "\\item 10\n",
       "\\item 8\n",
       "\\item 9\n",
       "\\item 5\n",
       "\\item 8\n",
       "\\item 5\n",
       "\\item 7\n",
       "\\item 4\n",
       "\\item 6\n",
       "\\item 9\n",
       "\\item 7\n",
       "\\item 8\n",
       "\\item 3\n",
       "\\item 8\n",
       "\\item 7\n",
       "\\item 3\n",
       "\\item 8\n",
       "\\item 9\n",
       "\\item 6\n",
       "\\item 6\n",
       "\\item 7\n",
       "\\item 7\n",
       "\\item 8\n",
       "\\item 7\n",
       "\\item 9\n",
       "\\item 7\n",
       "\\item 8\n",
       "\\item 9\n",
       "\\item 8\n",
       "\\item 8\n",
       "\\item 7\n",
       "\\item 7\n",
       "\\item 7\n",
       "\\item 8\n",
       "\\item 9\n",
       "\\item 7\n",
       "\\item 8\n",
       "\\item 4\n",
       "\\item 9\n",
       "\\item 8\n",
       "\\item 7\n",
       "\\item 8\n",
       "\\item 5\n",
       "\\item 10\n",
       "\\item 7\n",
       "\\item 4\n",
       "\\item 10\n",
       "\\item 10\n",
       "\\item 7\n",
       "\\item 9\n",
       "\\item 7\n",
       "\\item 9\n",
       "\\item 8\n",
       "\\item 5\n",
       "\\item 5\n",
       "\\item 4\n",
       "\\item 8\n",
       "\\item 9\n",
       "\\item 8\n",
       "\\item 6\n",
       "\\item 7\n",
       "\\item 10\n",
       "\\item 7\n",
       "\\item 9\n",
       "\\item 8\n",
       "\\item 8\n",
       "\\item 5\n",
       "\\item 7\n",
       "\\item 9\n",
       "\\item 9\n",
       "\\item 9\n",
       "\\item 8\n",
       "\\item 9\n",
       "\\item 6\n",
       "\\item 5\n",
       "\\item 4\n",
       "\\item 4\n",
       "\\item 10\n",
       "\\item 9\n",
       "\\item 4\n",
       "\\item 5\n",
       "\\item 7\n",
       "\\item 9\n",
       "\\item 6\n",
       "\\item 7\n",
       "\\item 7\n",
       "\\item 3\n",
       "\\item 6\n",
       "\\item 5\n",
       "\\item 8\n",
       "\\item 6\n",
       "\\item 3\n",
       "\\item 6\n",
       "\\item 9\n",
       "\\item 6\n",
       "\\item 3\n",
       "\\item 4\n",
       "\\item 6\n",
       "\\item 8\n",
       "\\item 4\n",
       "\\item 9\n",
       "\\item 6\n",
       "\\item 5\n",
       "\\item 4\n",
       "\\item 6\n",
       "\\item 6\n",
       "\\item 7\n",
       "\\item 7\n",
       "\\item 2\n",
       "\\item 7\n",
       "\\item 6\n",
       "\\item 7\n",
       "\\item 8\n",
       "\\item 7\n",
       "\\item 4\n",
       "\\end{enumerate*}\n"
      ],
      "text/markdown": [
       "1. 10\n",
       "2. 7\n",
       "3. 7\n",
       "4. 5\n",
       "5. 7\n",
       "6. 8\n",
       "7. 3\n",
       "8. 3\n",
       "9. 4\n",
       "10. 9\n",
       "11. 9\n",
       "12. 8\n",
       "13. 8\n",
       "14. 10\n",
       "15. 7\n",
       "16. 5\n",
       "17. 10\n",
       "18. 7\n",
       "19. 7\n",
       "20. 8\n",
       "21. 4\n",
       "22. 5\n",
       "23. 2\n",
       "24. 9\n",
       "25. 3\n",
       "26. 1\n",
       "27. 5\n",
       "28. 2\n",
       "29. 1\n",
       "30. 1\n",
       "31. 4\n",
       "32. 2\n",
       "33. 1\n",
       "34. 4\n",
       "35. 2\n",
       "36. 2\n",
       "37. 7\n",
       "38. 4\n",
       "39. 4\n",
       "40. 4\n",
       "41. 10\n",
       "42. 5\n",
       "43. 4\n",
       "44. 2\n",
       "45. 2\n",
       "46. 1\n",
       "47. 5\n",
       "48. 5\n",
       "49. 2\n",
       "50. 2\n",
       "51. 3\n",
       "52. 1\n",
       "53. 5\n",
       "54. 2\n",
       "55. 5\n",
       "56. 2\n",
       "57. 3\n",
       "58. 3\n",
       "59. 5\n",
       "60. 2\n",
       "61. 4\n",
       "62. 9\n",
       "63. 3\n",
       "64. 3\n",
       "65. 6\n",
       "66. 1\n",
       "67. 1\n",
       "68. 3\n",
       "69. 2\n",
       "70. 4\n",
       "71. 3\n",
       "72. 2\n",
       "73. 1\n",
       "74. 3\n",
       "75. 3\n",
       "76. 4\n",
       "77. 2\n",
       "78. 4\n",
       "79. 4\n",
       "80. 6\n",
       "81. 5\n",
       "82. 8\n",
       "83. 7\n",
       "84. 4\n",
       "85. 10\n",
       "86. 8\n",
       "87. 6\n",
       "88. 9\n",
       "89. 5\n",
       "90. 10\n",
       "91. 8\n",
       "92. 7\n",
       "93. 6\n",
       "94. 8\n",
       "95. 7\n",
       "96. 5\n",
       "97. 8\n",
       "98. 4\n",
       "99. 6\n",
       "100. 8\n",
       "101. 10\n",
       "102. 3\n",
       "103. 5\n",
       "104. 9\n",
       "105. 7\n",
       "106. 4\n",
       "107. 5\n",
       "108. 10\n",
       "109. 8\n",
       "110. 4\n",
       "111. 8\n",
       "112. 6\n",
       "113. 8\n",
       "114. 9\n",
       "115. 10\n",
       "116. 6\n",
       "117. 10\n",
       "118. 10\n",
       "119. 10\n",
       "120. 6\n",
       "121. 7\n",
       "122. 4\n",
       "123. 5\n",
       "124. 8\n",
       "125. 9\n",
       "126. 8\n",
       "127. 9\n",
       "128. 6\n",
       "129. 9\n",
       "130. 9\n",
       "131. 9\n",
       "132. 4\n",
       "133. 9\n",
       "134. 10\n",
       "135. 10\n",
       "136. 10\n",
       "137. 9\n",
       "138. 9\n",
       "139. 8\n",
       "140. 10\n",
       "141. 10\n",
       "142. 10\n",
       "143. 9\n",
       "144. 6\n",
       "145. 9\n",
       "146. 10\n",
       "147. 9\n",
       "148. 10\n",
       "149. 10\n",
       "150. 10\n",
       "151. 10\n",
       "152. 10\n",
       "153. 10\n",
       "154. 9\n",
       "155. 9\n",
       "156. 10\n",
       "157. 10\n",
       "158. 10\n",
       "159. 10\n",
       "160. 6\n",
       "161. 1\n",
       "162. 3\n",
       "163. 2\n",
       "164. 2\n",
       "165. 4\n",
       "166. 1\n",
       "167. 3\n",
       "168. 9\n",
       "169. 3\n",
       "170. 1\n",
       "171. 2\n",
       "172. 9\n",
       "173. 3\n",
       "174. 10\n",
       "175. 1\n",
       "176. 1\n",
       "177. 1\n",
       "178. 4\n",
       "179. 1\n",
       "180. 2\n",
       "181. 2\n",
       "182. 9\n",
       "183. 6\n",
       "184. 1\n",
       "185. 8\n",
       "186. 1\n",
       "187. 1\n",
       "188. 2\n",
       "189. 2\n",
       "190. 2\n",
       "191. 4\n",
       "192. 9\n",
       "193. 4\n",
       "194. 1\n",
       "195. 6\n",
       "196. 5\n",
       "197. 8\n",
       "198. 4\n",
       "199. 7\n",
       "200. 6\n",
       "201. ⋯\n",
       "202. 3\n",
       "203. 4\n",
       "204. 8\n",
       "205. 4\n",
       "206. 7\n",
       "207. 3\n",
       "208. 5\n",
       "209. 4\n",
       "210. 3\n",
       "211. 10\n",
       "212. 7\n",
       "213. 7\n",
       "214. 2\n",
       "215. 7\n",
       "216. 7\n",
       "217. 6\n",
       "218. 2\n",
       "219. 8\n",
       "220. 5\n",
       "221. 8\n",
       "222. 8\n",
       "223. 6\n",
       "224. 10\n",
       "225. 9\n",
       "226. 10\n",
       "227. 3\n",
       "228. 10\n",
       "229. 8\n",
       "230. 4\n",
       "231. 8\n",
       "232. 8\n",
       "233. 8\n",
       "234. 4\n",
       "235. 10\n",
       "236. 9\n",
       "237. 6\n",
       "238. 7\n",
       "239. 8\n",
       "240. 5\n",
       "241. 8\n",
       "242. 6\n",
       "243. 4\n",
       "244. 9\n",
       "245. 9\n",
       "246. 10\n",
       "247. 6\n",
       "248. 6\n",
       "249. 8\n",
       "250. 9\n",
       "251. 8\n",
       "252. 4\n",
       "253. 10\n",
       "254. 3\n",
       "255. 4\n",
       "256. 1\n",
       "257. 10\n",
       "258. 6\n",
       "259. 5\n",
       "260. 7\n",
       "261. 7\n",
       "262. 3\n",
       "263. 9\n",
       "264. 6\n",
       "265. 8\n",
       "266. 7\n",
       "267. 7\n",
       "268. 7\n",
       "269. 9\n",
       "270. 4\n",
       "271. 4\n",
       "272. 7\n",
       "273. 5\n",
       "274. 9\n",
       "275. 6\n",
       "276. 6\n",
       "277. 7\n",
       "278. 10\n",
       "279. 6\n",
       "280. 6\n",
       "281. 10\n",
       "282. 7\n",
       "283. 7\n",
       "284. 8\n",
       "285. 6\n",
       "286. 3\n",
       "287. 10\n",
       "288. 8\n",
       "289. 9\n",
       "290. 5\n",
       "291. 8\n",
       "292. 5\n",
       "293. 7\n",
       "294. 4\n",
       "295. 6\n",
       "296. 9\n",
       "297. 7\n",
       "298. 8\n",
       "299. 3\n",
       "300. 8\n",
       "301. 7\n",
       "302. 3\n",
       "303. 8\n",
       "304. 9\n",
       "305. 6\n",
       "306. 6\n",
       "307. 7\n",
       "308. 7\n",
       "309. 8\n",
       "310. 7\n",
       "311. 9\n",
       "312. 7\n",
       "313. 8\n",
       "314. 9\n",
       "315. 8\n",
       "316. 8\n",
       "317. 7\n",
       "318. 7\n",
       "319. 7\n",
       "320. 8\n",
       "321. 9\n",
       "322. 7\n",
       "323. 8\n",
       "324. 4\n",
       "325. 9\n",
       "326. 8\n",
       "327. 7\n",
       "328. 8\n",
       "329. 5\n",
       "330. 10\n",
       "331. 7\n",
       "332. 4\n",
       "333. 10\n",
       "334. 10\n",
       "335. 7\n",
       "336. 9\n",
       "337. 7\n",
       "338. 9\n",
       "339. 8\n",
       "340. 5\n",
       "341. 5\n",
       "342. 4\n",
       "343. 8\n",
       "344. 9\n",
       "345. 8\n",
       "346. 6\n",
       "347. 7\n",
       "348. 10\n",
       "349. 7\n",
       "350. 9\n",
       "351. 8\n",
       "352. 8\n",
       "353. 5\n",
       "354. 7\n",
       "355. 9\n",
       "356. 9\n",
       "357. 9\n",
       "358. 8\n",
       "359. 9\n",
       "360. 6\n",
       "361. 5\n",
       "362. 4\n",
       "363. 4\n",
       "364. 10\n",
       "365. 9\n",
       "366. 4\n",
       "367. 5\n",
       "368. 7\n",
       "369. 9\n",
       "370. 6\n",
       "371. 7\n",
       "372. 7\n",
       "373. 3\n",
       "374. 6\n",
       "375. 5\n",
       "376. 8\n",
       "377. 6\n",
       "378. 3\n",
       "379. 6\n",
       "380. 9\n",
       "381. 6\n",
       "382. 3\n",
       "383. 4\n",
       "384. 6\n",
       "385. 8\n",
       "386. 4\n",
       "387. 9\n",
       "388. 6\n",
       "389. 5\n",
       "390. 4\n",
       "391. 6\n",
       "392. 6\n",
       "393. 7\n",
       "394. 7\n",
       "395. 2\n",
       "396. 7\n",
       "397. 6\n",
       "398. 7\n",
       "399. 8\n",
       "400. 7\n",
       "401. 4\n",
       "\n",
       "\n"
      ],
      "text/plain": [
       "   [1] 10  7  7  5  7  8  3  3  4  9  9  8  8 10  7  5 10  7  7  8  4  5  2  9\n",
       "  [25]  3  1  5  2  1  1  4  2  1  4  2  2  7  4  4  4 10  5  4  2  2  1  5  5\n",
       "  [49]  2  2  3  1  5  2  5  2  3  3  5  2  4  9  3  3  6  1  1  3  2  4  3  2\n",
       "  [73]  1  3  3  4  2  4  4  6  5  8  7  4 10  8  6  9  5 10  8  7  6  8  7  5\n",
       "  [97]  8  4  6  8 10  3  5  9  7  4  5 10  8  4  8  6  8  9 10  6 10 10 10  6\n",
       " [121]  7  4  5  8  9  8  9  6  9  9  9  4  9 10 10 10  9  9  8 10 10 10  9  6\n",
       " [145]  9 10  9 10 10 10 10 10 10  9  9 10 10 10 10  6  1  3  2  2  4  1  3  9\n",
       " [169]  3  1  2  9  3 10  1  1  1  4  1  2  2  9  6  1  8  1  1  2  2  2  4  9\n",
       " [193]  4  1  6  5  8  4  7  6  2  3 10 10  6 10 10  6  1 10  9  3  8  9  3  7\n",
       " [217]  5  7 10  2  8  3  9  5  2  5 10  3 10 10  6 10  4 10  7  9  2  2  6  3\n",
       " [241]  6 10 10  7  3  3  9  5  7  3  4 10 10  1  3  6 10  8  1 10  3  8  6  3\n",
       " [265]  3  3 10  7  4  1  1 10  5  2  4  4  8  4  9 10  5  6  5  6  5  9  7  6\n",
       " [289] 10  6  5  8  3  9  6  7  5  9  7 10  3  2  9  4  5  5  9  7  4  3  1  9\n",
       " [313]  5  5  3  4  6  7  2  2  4  6  6  4  8  4  1  8  9  7 10  3  3  9  3  5\n",
       " [337]  5  4  4  8  4  9  4  3  4  4 10  4  2  2  3  1  5  9  3  2  5  7  5  4\n",
       " [361]  3  6  5  6 10  4  3  4 10  8  5  8  8  9  7  6 10  7  7  6  6  8  8  7\n",
       " [385]  5  7  6  6  7  8  8  4 10 10  7  7  8  9 10  6  2  8  3  7  3  6  2  7\n",
       " [409]  3  3  3  2  9  2  3  8  5  7  1  6  9  5  5  6  4  6  4  6  4  2  1  3\n",
       " [433]  5  2  1  1  4  5  3  2  5  1 10  1 10  1  1  4  2  1  3  4  2  6  8  3\n",
       " [457]  9  9 10 10  8  8  8 10 10  6  5  9  8  7  3  8  7  6  8  5  7  3 10  9\n",
       " [481] 10  9 10  5 10  9  3  8  9  9  9  2  9  5  1 10  9  8  8  9  8  7  4  2\n",
       " [505]  2  3  9  3  1  3  2  1  3  2  1  4  5  3  4  5  5  2  3  1  2  1  2  8\n",
       " [529]  4  1  4  6  4  1  3  2  2  4  1  1  2  2  1  2  1  3  4  3  2  8  3  1\n",
       " [553]  4  1  1  2  1  6  2  2  4  1  2  2  1  3  3  6  5  3  1  9  1  1  3  2\n",
       " [577]  1  1  4  1  6  4  1  2 10  9  4  8  6  2 10  4 10  5  5  4  3  7  6  3\n",
       " [601]  8  3  2  5  4  2  2  5  3  5  4  3  3  5 10  3  7  1  8  3  9  5  6  6\n",
       " [625]  6  2  5  8  7  7  8  9  3  4  8  7  8 10  8  8  5  9  9  7  9  6  7  4\n",
       " [649]  6  5  8  7  8  6  9  5  7  5  7  3  4  9  5  7 10  6  4  6  7  5  7  9\n",
       " [673]  5  6  5  8  7  8  7  6  7  7  5  8  5  9  8  8 10  9  5  5  6  8 10 10\n",
       " [697]  6  7  3  3  6  5  9  1  5  3  4  2  2  1  2  7  1  2  2  3  2  3  2  3\n",
       " [721]  3  5  2  4  1  6  1  1  2  2  4  8  3  2  2  5  4  5  8  2  2  7  7  2\n",
       " [745]  4  2  1  1  2  3  3  5  8  8  1  5  3  5  5  4  3  9  8  3  3  3  2  2\n",
       " [769]  5  1  2  2 10  9  4 10  4  5  9  9  8  9  2  7  8  2  4  8  7  9  5  4\n",
       " [793] 10  4  3  1  4  1  8  3  6  2  9  1  2  1  4  6  1  4  1  1  4  6  6  2\n",
       " [817]  6  3  8  6  5  1  9  1  1  2  2  4  8  5  4  1  2  3  6  9  2  6  6  1\n",
       " [841]  6  4 10  3  1  7  3  6  6  1  2  8  1  8  2  6  2  9  4  6  6  7  6  3\n",
       " [865]  5  2  9  3  6  3  9  3 10 10 10  7 10 10 10  4 10  6 10 10  8 10 10 10\n",
       " [889] 10  3  9  9  8  9  4 10  7  8  9  3  5  8  5  3  1 10  9  9  5  9  4  1\n",
       " [913]  1  7  9  8  6 10 10  7  6  5  5  9  7  8 10  9 10  4  5  7 10 10 10  9\n",
       " [937] 10  7  4  9  9  5  5 10  2  9  9  7  8  4  5  9  7  8  3 10  6  8  5  5\n",
       " [961] 10  9  5  4 10  2  1  3  6  9  3  7  2 10 10  6 10  4  1  8  7 10 10  5\n",
       " [985] 10  6 10  6  9 10  1 10  2  3 10 10  5  2  7  9  5 10  6  5  5  3  9  2\n",
       "[1009]  2  9 10  9 10 10  6  9  9 10  8  3 10 10  8 10 10 10 10 10  5  6  4  3\n",
       "[1033] 10 10  7  8  4  2  4  7 10  1  8  4  9  3 10  5  2  2 10 10  2  7  8 10\n",
       "[1057]  1  1  1  7  6  9  5  8 10 10 10  9  4 10 10  9  7  1 10  4  6  6  9  9\n",
       "[1081]  3  4  6  7  3  9  5  6  6  1  9  9  6 10  9  9 10  8  7  9 10 10 10 10\n",
       "[1105]  8 10  2  6  8  3  6  2  4  9  6  7  5  6  6  7  6  4  8  9  3  6  9  5\n",
       "[1129]  8  9  7  8  4  7  7  8  5  5  2  5  8  8  7  9 10  8 10  8  8  4  9  5\n",
       "[1153]  8  3 10  7  4  6  9  7  7  6  4  8  4 10 10  8  6  8  7  5  7 10  9 10\n",
       "[1177]  9  7  6  5  8  9 10  9  6  9  7  9 10 10 10  9  7  9  2  5  3  1  6  4\n",
       "[1201]  3  1  1  2  3  6  2  1  1  2  1  4  8  3  3  1  5  1  2  3 10  1  3  2\n",
       "[1225]  1  3  2  1  2  2  3  1  1  3  2  1  9  1  1  2  3  4  1  1  4  2  2  1\n",
       "[1249]  3  1  4  1  2  1  1  2  2  1  2  9  6  4  3  3  4  1  3  7  6  2  5  7\n",
       "[1273]  5  6  3  1  9  1  5  8  5 10  8  8  4  2  2  2  4  4  2  1  1  8  7  6\n",
       "[1297]  9  9  8  3  6  7  9  9  8  8  9  5 10  8  8  6  8 10  5  5  7  5  9  6\n",
       "[1321]  6  8 10  7  4  5  9  8  4  8  5  8  3  8  6  6 10  9  5  6  4  7  6  7\n",
       "[1345]  5  6  7  9  8  6  8  8  5  4  6  9  9  8  7  6  9  7  5  8  3  2  2  1\n",
       "[1369]  3  8  5  3  1  1 10  5  3  4  4  1  4  9  2  4  3  8  4  5  2  1  2  7\n",
       "[1393]  1  3  2  4 10  4 10  1  9  5 10 10  6  1 10  6 10 10 10 10  9 10 10  9\n",
       "[1417]  3  2  8 10  8 10  5  6  5  3  6  8  1  2  5  2  9  9  3  2  1  6  6  1\n",
       "[1441]  8  2  2  4  3  3  1  2  3  3  3  2  7  2  6  3  3  6  7  6  3  3  3  1\n",
       "[1465]  8  3  9  5  9  9  9  2  2  6  5  8  6  5  5  1 10  4  5  9  8  9  8  3\n",
       "[1489]  2  3  4  8 10  5  3  1  4  9  2  6  4  2  6  6  2  7  8  7  4  8  7  2\n",
       "[1513]  1  7  2  2  4  1  2  4  9  2  2  2  6  9  8  9  2  1  8  3  4  5  4  6\n",
       "[1537]  3  1  7  3  6  2  5  4  3  4  6  1  9  9  2  2  5  7  2  7  9  7  6  7\n",
       "[1561]  9  3  8 10  5  9  3  3  4  8  4  8  4  2  8  5  5  2  3  3  5  3  5  2\n",
       "[1585]  7  8  8  8  8  4  5  5  8 10  8 10  1  5  6  3  1  8  4  6  9  6  7  4\n",
       "[1609] 10  7  4  4  3  5  6  8 10  7  9  5  9  2 10  9  4  7  8  5  4  8  4  4\n",
       "[1633]  7  6  4  3  6  9  4  9  7  8  4  8  4  4 10  3  8  8  4  5  3  7  4  5\n",
       "[1657]  7  6  5  9  4  8  7  9  4  4  6  3  5  7  6  7  5  6 10  7  3 10  5  7\n",
       "[1681]  4  9  6  1  8  2  9  6  5  3  3  3  5 10  1  8  9  8  5  7  6  9  5  6\n",
       "[1705] 10  9  4  3  7  8 10  5  3  5  6  5 10  8 10  6  6  2  3  7  7  7  5  4\n",
       "[1729]  5  7  5  9  5  8  9  5  6  5  5  4  9 10  9 10  4  9  3  9  3  5  7  6\n",
       "[1753]  5  7  6  6  5  5  9  7  8  9  9 10 10 10  6 10  2  7  1  5  1  1  9  8\n",
       "[1777]  4  8  3  3  2  1  2  2  1  9  5  2  4  5  7  7  8  6  6  4  1  3  9  3\n",
       "[1801]  5 10  3  3  7  3  4  3  3  6 10  3  4  9  6  1  9  7  2  5  4  4  3  6\n",
       "[1825]  2  2  2  2  2  9  2  9  3  4  2  5  7  5  2 10  4  6  1  7  9  7  8  7\n",
       "[1849]  4  7  7  7  5 10  3  1  4  7  2  8  8  7 10  2  9 10  4  2  4  7  9  5\n",
       "[1873]  1  6  1  5  8 10  8  8  4  6  4  2  6  9  4  5 10  5  3  3  4  2  4  2\n",
       "[1897]  7  3  6  8  5  6  2  9  8  5  6  4  3  5  3  2 10  5  4  1  8  1 10  4\n",
       "[1921]  3  4  7 10  5  3  3  5  3  3  8 10  8  7  4  7 10  4  5  4  3  2  6 10\n",
       "[1945] 10  2  2  3  5  5  3  6  2  1  5  8  3  7  9  9  2  7  6  8  1  5  5  9\n",
       "[1969]  3  9  6  3  5  4  6  2  4  6  9  3  4  5  7  3  7  5  3  4  3  3  3  1\n",
       "[1993]  4  5  1  1  6  3  9  7  3  2  7  3  4  8  3  6  2  2  2  3  4  3  2  1\n",
       "[2017]  6  4  4  2  2  6  5  1  8  1  1  7  3  4  5 10  3  6  2  8  4  8  1  1\n",
       "[2041] 10  1  6  4  9  4  2  3  4  1  4  3  4  2  2  1  3  8  2  1  4  3  1  2\n",
       "[2065]  4  3  2  7  6  5  4  6  7  3  9  6  8  1  2  6  5 10  5  6  5 10  9  9\n",
       "[2089] 10 10  5 10  9  7  7  7  6 10  7  8  8  9  9  6  7 10  8  7  4  5  2  1\n",
       "[2113]  2  2  3  1  1  6  6  3  9  3 10  7  5  5  9  2  3  2  3  2  5  4  9  9\n",
       "[2137]  5  6  1  1  6  7  4  7  1  7  2  5  1  6  5  6  1  5  1  3  1  5  3  1\n",
       "[2161]  1  7  2  1  7  1  6  5  6  3  2  1  4  7  7  1  4  3  5  5  4  4  5  8\n",
       "[2185]  5  6  3  4 10 10  9 10  4  6  7  7  9  3  6  5  9  5  8  8  7  6  6  5\n",
       "[2209]  4  8  7  4  5  6  9  8  7  8  3  6  4  5  6 10  9  5  7  4  8  6  6  4\n",
       "[2233]  9  8  5  7  5  6  6  9  6  4  5  4  5  9 10  5  4  8  7  9  7  8  6  4\n",
       "[2257]  7 10  8  8 10  9  7  8  7  8  6  9  7  8  7  6  8  7  7  7 10  6  2  9\n",
       "[2281]  6  9  1  1  1  1  1  2  2  2  1  3  1  4  1  2  4  2  3  8  2  1  2  4\n",
       "[2305]  1  1  4  5  1  1  2  4  8 10  9 10  9  4  5  6  6  6 10  7  5  8  4  5\n",
       "[2329]  5  9  5  4  4  5  7  6  4  5  3  8  6  7  5  3  3  5  2  6  6  6  3  6\n",
       "[2353]  7  2  9  5  7  2  6  1  7  9  7  8  7  7  6  6  6  7  6  9  4  9  6  7\n",
       "[2377]  9  9  8 10  6  6 10  3  9  3  3  6  5  2  5  9  4  8  1  4 10  3  4  9\n",
       "[2401]  8  2  8  4  2  1  1  1  8  3  2  2 10  4  3  5  3  5  2  3  1  6  2  2\n",
       "[2425]  2  1  8  2  7  4  4  7 10  6 10  4  8  4  7  2  4  1  3  1  2  7  3  1\n",
       "[2449]  3  2  2  1  1  6  7  8  8 10  5  8 10  9  5  7  7  7 10 10  8  7  8  6\n",
       "[2473]  9  7 10  9  6 10  7  8  7  9  7  5  7  8  5 10  7  8  9  3  8  8  8  7\n",
       "[2497]  7  6  8  9  7  8 10  8  7  4  6  7  8  9  7  7  8  9  9  8  7 10 10  9\n",
       "[2521]  9  9  9  7  5  7  9  4  8 10  7  8  7 10  7  1  2  1  1  1  1  1  3  1\n",
       "[2545]  2  1  2  1  1  2  1  9  2  1  7  8  2  9  1  1  3  2  1  1  1  1  1  2\n",
       "[2569]  5  4  5  4  1  4  5  1  3  6  1  3  8  1  5  1  1  4  1  3  8  2  3 10\n",
       "[2593]  5  1  6  1  1  1  1  2  1  2  1 10  9  6 10  2  3  5  6  5  7  3  1  5\n",
       "[2617]  1  1  9  3  2 10  6  1  5  1  5  1 10  1  1 10  1  9  5  1  5  9  1  7\n",
       "[2641]  1  1  1  9  2  2  9  2  1  1  3 10  6  2  2  2  1  1  5  2  6  7  1  4\n",
       "[2665]  2  2  4  2  1 10  2  2  4  1  4  8  1  5  7  2  7  6  2  1  6  4  8  1\n",
       "[2689]  1  9  1  3  2  5  2  1  5  5  1  1  1  2  2  7 10  1  3  2  6  2  4  1\n",
       "[2713]  2 10 10  6  4  8 10 10 10 10  9 10 10  6 10  1 10 10  9 10  2  1  5  7\n",
       "[2737]  3  6  3  9  1  8  3  2  6  7  3  5  3  3  1  5  3  6  5  3  1  8  3  1\n",
       "[2761]  1  4  3  1  4  7  4  5  3  3  1  8  7  7  2  6  8  8  6  4  4  7  5  8\n",
       "[2785]  1  8  7  5  8  2  7  9  4  6  8  2  5  8  8 10  9  7  1  7  8  8  6 10\n",
       "[2809]  4  9  3  7  9  2  7  9  8  7  3  8  6  6  7 10  9  1  4  9 10  4  6  6\n",
       "[2833]  4  2  2  6  5  1  4  2  2  8  4  1  1  1  6  3  4  8  4  7  3  5  4  3\n",
       "[2857] 10  7  7  2  7  7  6  2  8  5  8  8  6 10  9 10  3 10  8  4  8  8  8  4\n",
       "[2881] 10  9  6  7  8  5  8  6  4  9  9 10  6  6  8  9  8  4 10  3  4  1 10  6\n",
       "[2905]  5  7  7  3  9  6  8  7  7  7  9  4  4  7  5  9  6  6  7 10  6  6 10  7\n",
       "[2929]  7  8  6  3 10  8  9  5  8  5  7  4  6  9  7  8  3  8  7  3  8  9  6  6\n",
       "[2953]  7  7  8  7  9  7  8  9  8  8  7  7  7  8  9  7  8  4  9  8  7  8  5 10\n",
       "[2977]  7  4 10 10  7  9  7  9  8  5  5  4  8  9  8  6  7 10  7  9  8  8  5  7\n",
       "[3001]  9  9  9  8  9  6  5  4  4 10  9  4  5  7  9  6  7  7  3  6  5  8  6  3\n",
       "[3025]  6  9  6  3  4  6  8  4  9  6  5  4  6  6  7  7  2  7  6  7  8  7  4"
      ]
     },
     "metadata": {},
     "output_type": "display_data"
    }
   ],
   "source": [
    "data_cancer$binnedinc"
   ]
  },
  {
   "cell_type": "code",
   "execution_count": 41,
   "id": "61f16a57",
   "metadata": {
    "vscode": {
     "languageId": "r"
    }
   },
   "outputs": [],
   "source": [
    "#sumamos las dos columnas para crear una nueva\n",
    "data_cancer$over16 <- data_cancer$pctemployed16_over  + data_cancer$pctunemployed16_over    \n",
    "\n",
    "data <- select(data_cancer, -c(geography,pctemployed16_over, pctunemployed16_over))"
   ]
  },
  {
   "cell_type": "code",
   "execution_count": 42,
   "id": "fff1edd1",
   "metadata": {
    "vscode": {
     "languageId": "r"
    }
   },
   "outputs": [
    {
     "data": {
      "text/html": [
       "<table class=\"dataframe\">\n",
       "<caption>A data.frame: 3047 × 31</caption>\n",
       "<thead>\n",
       "\t<tr><th scope=col>avganncount</th><th scope=col>avgdeathsperyear</th><th scope=col>target_deathrate</th><th scope=col>incidencerate</th><th scope=col>medincome</th><th scope=col>popest2015</th><th scope=col>povertypercent</th><th scope=col>studypercap</th><th scope=col>binnedinc</th><th scope=col>medianage</th><th scope=col>⋯</th><th scope=col>pctempprivcoverage</th><th scope=col>pctpubliccoverage</th><th scope=col>pctpubliccoveragealone</th><th scope=col>pctwhite</th><th scope=col>pctblack</th><th scope=col>pctasian</th><th scope=col>pctotherrace</th><th scope=col>pctmarriedhouseholds</th><th scope=col>birthrate</th><th scope=col>over16</th></tr>\n",
       "\t<tr><th scope=col>&lt;dbl&gt;</th><th scope=col>&lt;int&gt;</th><th scope=col>&lt;dbl&gt;</th><th scope=col>&lt;dbl&gt;</th><th scope=col>&lt;int&gt;</th><th scope=col>&lt;int&gt;</th><th scope=col>&lt;dbl&gt;</th><th scope=col>&lt;dbl&gt;</th><th scope=col>&lt;dbl&gt;</th><th scope=col>&lt;dbl&gt;</th><th scope=col>⋯</th><th scope=col>&lt;dbl&gt;</th><th scope=col>&lt;dbl&gt;</th><th scope=col>&lt;dbl&gt;</th><th scope=col>&lt;dbl&gt;</th><th scope=col>&lt;dbl&gt;</th><th scope=col>&lt;dbl&gt;</th><th scope=col>&lt;dbl&gt;</th><th scope=col>&lt;dbl&gt;</th><th scope=col>&lt;dbl&gt;</th><th scope=col>&lt;dbl&gt;</th></tr>\n",
       "</thead>\n",
       "<tbody>\n",
       "\t<tr><td>1397</td><td> 469</td><td>164.9</td><td>489.8</td><td>61898</td><td>260131</td><td>11.2</td><td> 499.74820</td><td>10</td><td>39.3</td><td>⋯</td><td>41.6</td><td>32.9</td><td>14.0</td><td>81.78053</td><td>2.59472833</td><td>4.82185710</td><td> 1.84347853</td><td>52.85608</td><td>6.1188310</td><td>59.9</td></tr>\n",
       "\t<tr><td> 173</td><td>  70</td><td>161.3</td><td>411.6</td><td>48127</td><td> 43269</td><td>18.6</td><td>  23.11123</td><td> 7</td><td>33.0</td><td>⋯</td><td>43.6</td><td>31.1</td><td>15.3</td><td>89.22851</td><td>0.96910246</td><td>2.24623259</td><td> 3.74135153</td><td>45.37250</td><td>4.3330956</td><td>63.7</td></tr>\n",
       "\t<tr><td> 102</td><td>  50</td><td>174.7</td><td>349.7</td><td>49348</td><td> 21026</td><td>14.6</td><td>  47.56016</td><td> 7</td><td>45.0</td><td>⋯</td><td>34.9</td><td>42.1</td><td>21.1</td><td>90.92219</td><td>0.73967339</td><td>0.46589818</td><td> 2.74735831</td><td>54.44487</td><td>3.7294878</td><td>52.9</td></tr>\n",
       "\t<tr><td> 427</td><td> 202</td><td>194.8</td><td>430.4</td><td>44243</td><td> 75882</td><td>17.1</td><td> 342.63725</td><td> 5</td><td>42.8</td><td>⋯</td><td>35.0</td><td>45.3</td><td>25.0</td><td>91.74469</td><td>0.78262597</td><td>1.16135867</td><td> 1.36264318</td><td>51.02151</td><td>4.6038408</td><td>60.4</td></tr>\n",
       "\t<tr><td>  57</td><td>  26</td><td>144.4</td><td>350.1</td><td>49955</td><td> 10321</td><td>12.5</td><td>   0.00000</td><td> 7</td><td>48.3</td><td>⋯</td><td>35.1</td><td>44.0</td><td>22.7</td><td>94.10402</td><td>0.27019203</td><td>0.66583036</td><td> 0.49213548</td><td>54.02746</td><td>6.7966574</td><td>53.0</td></tr>\n",
       "\t<tr><td> 428</td><td> 152</td><td>176.0</td><td>505.4</td><td>52313</td><td> 61023</td><td>15.6</td><td> 180.25990</td><td> 8</td><td>45.4</td><td>⋯</td><td>32.6</td><td>43.2</td><td>20.2</td><td>84.88263</td><td>1.65320524</td><td>1.53805662</td><td> 3.31463539</td><td>51.22036</td><td>4.9644760</td><td>57.0</td></tr>\n",
       "\t<tr><td> 250</td><td>  97</td><td>175.9</td><td>461.8</td><td>37782</td><td> 41516</td><td>23.2</td><td>   0.00000</td><td> 3</td><td>42.6</td><td>⋯</td><td>28.3</td><td>46.4</td><td>28.7</td><td>75.10646</td><td>0.61695539</td><td>0.86615697</td><td> 8.35672118</td><td>51.01390</td><td>4.2043173</td><td>60.7</td></tr>\n",
       "\t<tr><td> 146</td><td>  71</td><td>183.6</td><td>404.0</td><td>40189</td><td> 20848</td><td>17.8</td><td>   0.00000</td><td> 3</td><td>51.7</td><td>⋯</td><td>25.9</td><td>50.9</td><td>24.1</td><td>89.40664</td><td>0.30515863</td><td>1.88907726</td><td> 2.28626786</td><td>48.96703</td><td>5.8891790</td><td>49.8</td></tr>\n",
       "\t<tr><td>  88</td><td>  36</td><td>190.5</td><td>459.4</td><td>42579</td><td> 13088</td><td>22.3</td><td>   0.00000</td><td> 4</td><td>49.3</td><td>⋯</td><td>29.9</td><td>48.1</td><td>26.6</td><td>91.78748</td><td>0.18507094</td><td>0.20820481</td><td> 0.61690315</td><td>53.44700</td><td>5.5875831</td><td>49.8</td></tr>\n",
       "\t<tr><td>4025</td><td>1380</td><td>177.8</td><td>510.9</td><td>60397</td><td>843954</td><td>13.1</td><td> 427.74843</td><td> 9</td><td>35.8</td><td>⋯</td><td>44.4</td><td>31.4</td><td>16.5</td><td>74.72967</td><td>6.71085416</td><td>6.04147201</td><td> 2.69918438</td><td>50.06357</td><td>5.5334302</td><td>65.8</td></tr>\n",
       "\t<tr><td> 113</td><td>  36</td><td>121.4</td><td>413.3</td><td>54721</td><td> 16252</td><td>12.7</td><td>   0.00000</td><td> 9</td><td>54.4</td><td>⋯</td><td>27.9</td><td>41.6</td><td>18.3</td><td>92.57333</td><td>0.65179243</td><td>1.42892956</td><td> 2.23740286</td><td>50.03892</td><td>4.5861298</td><td>60.5</td></tr>\n",
       "\t<tr><td> 740</td><td> 269</td><td>172.7</td><td>499.3</td><td>51395</td><td>121846</td><td>15.7</td><td> 837.12227</td><td> 8</td><td>41.0</td><td>⋯</td><td>38.0</td><td>38.1</td><td>20.2</td><td>85.59027</td><td>0.80607995</td><td>1.88783590</td><td> 6.22659058</td><td>52.93733</td><td>5.8181533</td><td>  NA</td></tr>\n",
       "\t<tr><td>  55</td><td>  26</td><td>188.3</td><td>398.9</td><td>52673</td><td> 11339</td><td>12.6</td><td>   0.00000</td><td> 8</td><td>45.2</td><td>⋯</td><td>42.6</td><td>36.1</td><td>20.5</td><td>93.41813</td><td>0.84497020</td><td>0.97838655</td><td> 0.77381482</td><td>52.94772</td><td>4.8055920</td><td>59.8</td></tr>\n",
       "\t<tr><td>3438</td><td>1118</td><td>165.3</td><td>493.4</td><td>71890</td><td>772501</td><td> 9.9</td><td> 138.51115</td><td>10</td><td>37.6</td><td>⋯</td><td>54.3</td><td>25.9</td><td>14.1</td><td>78.83274</td><td>2.59585109</td><td>9.51151338</td><td> 2.25271980</td><td>52.72050</td><td>4.7292511</td><td>69.6</td></tr>\n",
       "\t<tr><td>2265</td><td> 901</td><td>171.0</td><td>440.7</td><td>50083</td><td>490945</td><td>16.3</td><td> 462.37359</td><td> 7</td><td>37.2</td><td>⋯</td><td>42.5</td><td>36.5</td><td>21.4</td><td>89.03817</td><td>1.82704146</td><td>2.31598563</td><td> 1.03362505</td><td>48.18838</td><td>5.3558359</td><td>63.5</td></tr>\n",
       "\t<tr><td> 251</td><td> 106</td><td>174.2</td><td>423.8</td><td>43823</td><td> 43791</td><td>19.3</td><td>   0.00000</td><td> 5</td><td>46.2</td><td>⋯</td><td>33.9</td><td>45.8</td><td>24.1</td><td>89.17746</td><td>0.48911546</td><td>0.60393129</td><td> 0.86571140</td><td>55.21240</td><td>3.6310821</td><td>55.7</td></tr>\n",
       "\t<tr><td>1390</td><td> 483</td><td>169.9</td><td>495.9</td><td>61653</td><td>269536</td><td>11.9</td><td> 207.76445</td><td>10</td><td>38.5</td><td>⋯</td><td>43.5</td><td>30.7</td><td>13.7</td><td>82.58622</td><td>2.83987317</td><td>5.83580425</td><td> 1.22638673</td><td>50.87449</td><td>5.1801552</td><td>65.0</td></tr>\n",
       "\t<tr><td>  32</td><td>  12</td><td>153.8</td><td>463.2</td><td>51022</td><td>  4042</td><td>13.9</td><td>   0.00000</td><td> 7</td><td>52.1</td><td>⋯</td><td>35.2</td><td>49.7</td><td>20.4</td><td>92.96159</td><td>0.12391574</td><td>1.14002478</td><td> 0.00000000</td><td>53.37995</td><td>0.5354752</td><td>46.3</td></tr>\n",
       "\t<tr><td> 305</td><td> 120</td><td>162.8</td><td>442.5</td><td>49819</td><td> 60338</td><td>15.7</td><td> 464.05250</td><td> 7</td><td>36.9</td><td>⋯</td><td>40.0</td><td>38.0</td><td>18.8</td><td>86.23882</td><td>1.64919800</td><td>1.61738606</td><td> 5.63573653</td><td>49.32706</td><td>4.1387109</td><td>60.9</td></tr>\n",
       "\t<tr><td>1081</td><td> 367</td><td>163.3</td><td>490.9</td><td>53733</td><td>212284</td><td>15.7</td><td> 249.66554</td><td> 8</td><td>36.5</td><td>⋯</td><td>44.8</td><td>31.9</td><td>17.4</td><td>85.47030</td><td>0.88073395</td><td>3.92515693</td><td> 2.42588122</td><td>48.06875</td><td>4.4729858</td><td>66.0</td></tr>\n",
       "\t<tr><td> 134</td><td>  50</td><td>140.8</td><td>390.5</td><td>41837</td><td> 48177</td><td>28.4</td><td>   0.00000</td><td> 4</td><td>24.2</td><td>⋯</td><td>53.8</td><td>22.9</td><td>11.9</td><td>83.58260</td><td>2.15460984</td><td>7.61495175</td><td> 1.61542247</td><td>40.55405</td><td>3.3041590</td><td>62.2</td></tr>\n",
       "\t<tr><td> 958</td><td> 403</td><td>169.4</td><td>411.0</td><td>44342</td><td>248830</td><td>20.5</td><td> 301.41060</td><td> 5</td><td>32.5</td><td>⋯</td><td>30.8</td><td>35.7</td><td>22.4</td><td>78.02052</td><td>0.84273750</td><td>1.08969799</td><td>12.95026838</td><td>50.66898</td><td>6.5606117</td><td>65.0</td></tr>\n",
       "\t<tr><td>  94</td><td>  41</td><td>189.7</td><td>445.2</td><td>35615</td><td> 16704</td><td>21.5</td><td>   0.00000</td><td> 2</td><td>41.5</td><td>⋯</td><td>36.5</td><td>44.8</td><td>26.4</td><td>96.84418</td><td>0.83677007</td><td>0.37654653</td><td> 0.02988465</td><td>55.28886</td><td>2.2928609</td><td>55.5</td></tr>\n",
       "\t<tr><td> 499</td><td> 215</td><td>206.1</td><td>463.1</td><td>56737</td><td>111901</td><td>13.2</td><td>  89.36471</td><td> 9</td><td>38.4</td><td>⋯</td><td>49.7</td><td>33.1</td><td>17.3</td><td>87.80122</td><td>7.33324749</td><td>1.05220559</td><td> 0.90596372</td><td>51.52351</td><td>4.8724681</td><td>68.4</td></tr>\n",
       "\t<tr><td> 152</td><td>  70</td><td>236.7</td><td>501.8</td><td>37625</td><td> 23372</td><td>22.1</td><td>   0.00000</td><td> 3</td><td>41.9</td><td>⋯</td><td>41.3</td><td>46.3</td><td>25.4</td><td>98.31250</td><td>0.67500000</td><td>0.09166667</td><td> 0.12916667</td><td>53.06379</td><td>4.2202877</td><td>48.7</td></tr>\n",
       "\t<tr><td>  80</td><td>  40</td><td>196.3</td><td>396.6</td><td>33817</td><td> 14415</td><td>22.2</td><td>   0.00000</td><td> 1</td><td>44.5</td><td>⋯</td><td>38.9</td><td>43.4</td><td>25.4</td><td>97.91235</td><td>0.49771879</td><td>0.00000000</td><td> 0.00000000</td><td>53.27269</td><td>5.4690204</td><td>58.7</td></tr>\n",
       "\t<tr><td> 164</td><td>  69</td><td>186.2</td><td>481.6</td><td>43572</td><td> 23350</td><td>15.1</td><td>   0.00000</td><td> 5</td><td>45.9</td><td>⋯</td><td>46.4</td><td>39.7</td><td>19.4</td><td>96.81809</td><td>1.74519332</td><td>0.51552926</td><td> 0.06338475</td><td>47.58724</td><td>4.9705305</td><td>58.3</td></tr>\n",
       "\t<tr><td> 564</td><td> 237</td><td>194.0</td><td>483.4</td><td>34887</td><td> 96844</td><td>21.9</td><td> 330.42832</td><td> 2</td><td>38.5</td><td>⋯</td><td>44.4</td><td>39.0</td><td>21.7</td><td>91.06936</td><td>4.81802033</td><td>1.18978766</td><td> 0.22824919</td><td>40.76502</td><td>4.5219251</td><td>57.1</td></tr>\n",
       "\t<tr><td>  50</td><td>  25</td><td>226.5</td><td>459.9</td><td>32162</td><td>  7470</td><td>21.8</td><td>   0.00000</td><td> 1</td><td>47.0</td><td>⋯</td><td>35.1</td><td>46.0</td><td>25.2</td><td>98.25328</td><td>0.09262935</td><td>0.05293106</td><td> 0.02646553</td><td>53.33333</td><td>4.7801147</td><td>58.0</td></tr>\n",
       "\t<tr><td>  70</td><td>  26</td><td>212.9</td><td>591.0</td><td>32961</td><td>  8910</td><td>25.1</td><td>4938.27160</td><td> 1</td><td>43.3</td><td>⋯</td><td>32.6</td><td>52.0</td><td>32.5</td><td>98.04179</td><td>0.00000000</td><td>0.00000000</td><td> 0.04375889</td><td>58.09249</td><td>8.7530562</td><td>51.9</td></tr>\n",
       "\t<tr><td>⋮</td><td>⋮</td><td>⋮</td><td>⋮</td><td>⋮</td><td>⋮</td><td>⋮</td><td>⋮</td><td>⋮</td><td>⋮</td><td>⋱</td><td>⋮</td><td>⋮</td><td>⋮</td><td>⋮</td><td>⋮</td><td>⋮</td><td>⋮</td><td>⋮</td><td>⋮</td><td>⋮</td></tr>\n",
       "\t<tr><td>  87.000</td><td> 34</td><td>159.3</td><td>453.2000</td><td>50108</td><td> 12773</td><td>12.0</td><td>   0.0000</td><td>7</td><td>44.6</td><td>⋯</td><td>43.7</td><td>38.3</td><td>17.3</td><td>94.67378</td><td> 0.3787879</td><td>0.5024737</td><td> 2.83704391</td><td>51.02821</td><td> 6.486942</td><td>64.5</td></tr>\n",
       "\t<tr><td>1962.668</td><td> 36</td><td>196.4</td><td>453.5494</td><td>39196</td><td> 12717</td><td>18.2</td><td>   0.0000</td><td>3</td><td>41.2</td><td>⋯</td><td>42.7</td><td>37.7</td><td>19.6</td><td>93.46380</td><td> 1.7047626</td><td>0.5121933</td><td> 0.59628469</td><td>48.20957</td><td> 8.708822</td><td>63.7</td></tr>\n",
       "\t<tr><td>1962.668</td><td> 22</td><td>174.8</td><td>453.5494</td><td>45368</td><td>  7808</td><td>14.3</td><td>   0.0000</td><td>6</td><td>41.7</td><td>⋯</td><td>33.9</td><td>37.6</td><td>16.9</td><td>95.14944</td><td> 0.1139818</td><td>0.0000000</td><td> 0.00000000</td><td>55.73171</td><td> 8.419023</td><td>64.9</td></tr>\n",
       "\t<tr><td>1962.668</td><td> 37</td><td>180.2</td><td>453.5494</td><td>44199</td><td> 16398</td><td>17.4</td><td>   0.0000</td><td>5</td><td>35.9</td><td>⋯</td><td>46.0</td><td>32.0</td><td>15.6</td><td>90.57296</td><td> 4.0942704</td><td>0.3366801</td><td> 0.40281368</td><td>47.10757</td><td> 6.012885</td><td>64.6</td></tr>\n",
       "\t<tr><td>1962.668</td><td> 15</td><td>197.8</td><td>453.5494</td><td>51676</td><td>  4823</td><td>12.4</td><td>1451.3788</td><td>8</td><td>44.9</td><td>⋯</td><td>40.3</td><td>34.3</td><td>14.1</td><td>95.95388</td><td> 0.3354298</td><td>0.4612159</td><td> 0.25157233</td><td>57.39525</td><td> 8.417508</td><td>65.2</td></tr>\n",
       "\t<tr><td>1962.668</td><td> 67</td><td>178.3</td><td>453.5494</td><td>46942</td><td> 27103</td><td>17.8</td><td> 701.0294</td><td>6</td><td>39.3</td><td>⋯</td><td>42.4</td><td>34.0</td><td>17.6</td><td>91.89021</td><td> 1.7007920</td><td>0.1788386</td><td> 3.93080039</td><td>50.09729</td><td> 7.120636</td><td>68.2</td></tr>\n",
       "\t<tr><td>1962.668</td><td> 34</td><td>166.6</td><td>453.5494</td><td>38430</td><td> 14712</td><td>18.4</td><td>4282.2186</td><td>3</td><td>37.3</td><td>⋯</td><td>43.8</td><td>37.0</td><td>20.5</td><td>93.07994</td><td> 3.5241696</td><td>0.8709155</td><td> 0.14852822</td><td>52.63251</td><td>12.159893</td><td>60.3</td></tr>\n",
       "\t<tr><td>1962.668</td><td> 26</td><td>184.2</td><td>453.5494</td><td>45781</td><td>  9776</td><td>17.3</td><td> 306.8740</td><td>6</td><td>42.5</td><td>⋯</td><td>41.0</td><td>37.9</td><td>18.8</td><td>86.00202</td><td> 1.7510121</td><td>0.5668016</td><td> 0.16194332</td><td>50.87762</td><td> 7.974482</td><td>64.8</td></tr>\n",
       "\t<tr><td>1962.668</td><td>126</td><td>175.0</td><td>453.5494</td><td>60123</td><td> 66741</td><td>11.3</td><td> 973.9141</td><td>9</td><td>37.8</td><td>⋯</td><td>55.1</td><td>26.5</td><td>12.7</td><td>93.56654</td><td> 2.0426073</td><td>0.9395993</td><td> 0.40095624</td><td>57.05104</td><td> 5.706173</td><td>67.2</td></tr>\n",
       "\t<tr><td>1962.668</td><td>  8</td><td>177.8</td><td>453.5494</td><td>47025</td><td>  2679</td><td>13.2</td><td>   0.0000</td><td>6</td><td>46.2</td><td>⋯</td><td>44.3</td><td>35.3</td><td>14.0</td><td>95.77517</td><td> 0.8817046</td><td>0.0000000</td><td> 0.44085231</td><td>51.44144</td><td> 5.031447</td><td>57.0</td></tr>\n",
       "\t<tr><td>1962.668</td><td> 13</td><td>194.2</td><td>453.5494</td><td>39120</td><td>  3402</td><td>16.4</td><td>   0.0000</td><td>3</td><td>49.1</td><td>⋯</td><td>34.2</td><td>43.2</td><td>20.1</td><td>88.38068</td><td> 0.5681818</td><td>0.0000000</td><td> 0.00000000</td><td>53.43610</td><td> 2.613240</td><td>57.8</td></tr>\n",
       "\t<tr><td>1962.668</td><td>  9</td><td>150.0</td><td>453.5494</td><td>41797</td><td>  2679</td><td>11.5</td><td>   0.0000</td><td>4</td><td>49.6</td><td>⋯</td><td>39.3</td><td>33.5</td><td> 9.7</td><td>94.70544</td><td> 0.0000000</td><td>1.1558538</td><td> 3.24384788</td><td>52.77338</td><td>10.775862</td><td>61.6</td></tr>\n",
       "\t<tr><td>1962.668</td><td>  6</td><td>153.7</td><td>453.5494</td><td>47650</td><td>  2096</td><td>13.0</td><td>   0.0000</td><td>6</td><td>44.4</td><td>⋯</td><td>52.4</td><td>29.5</td><td>13.1</td><td>91.65501</td><td> 1.0256410</td><td>0.7459207</td><td> 1.72494173</td><td>50.48544</td><td> 6.746988</td><td>63.2</td></tr>\n",
       "\t<tr><td>1962.668</td><td> 24</td><td>169.2</td><td>453.5494</td><td>53131</td><td>  8347</td><td>10.9</td><td>   0.0000</td><td>8</td><td>42.2</td><td>⋯</td><td>43.3</td><td>33.8</td><td>12.2</td><td>96.71060</td><td> 0.6056288</td><td>0.5462534</td><td> 0.20187626</td><td>59.69796</td><td> 6.744329</td><td>65.1</td></tr>\n",
       "\t<tr><td>1962.668</td><td> 27</td><td>178.6</td><td>453.5494</td><td>42697</td><td>  9219</td><td>14.0</td><td>   0.0000</td><td>4</td><td>42.3</td><td>⋯</td><td>41.7</td><td>34.4</td><td>14.7</td><td>94.96734</td><td> 0.4283114</td><td>0.8137916</td><td> 1.76678445</td><td>45.56004</td><td> 7.082002</td><td>65.7</td></tr>\n",
       "\t<tr><td>1962.668</td><td> 22</td><td>176.6</td><td>453.5494</td><td>55705</td><td>  8384</td><td>10.9</td><td>   0.0000</td><td>9</td><td>44.1</td><td>⋯</td><td>50.2</td><td>32.1</td><td>14.6</td><td>96.16931</td><td> 0.7803263</td><td>0.6384488</td><td> 0.10640813</td><td>55.11348</td><td> 7.435159</td><td>67.2</td></tr>\n",
       "\t<tr><td>1962.668</td><td>  7</td><td>209.6</td><td>453.5494</td><td>45353</td><td>  1843</td><td>11.4</td><td>   0.0000</td><td>6</td><td>45.7</td><td>⋯</td><td>43.9</td><td>32.2</td><td> 9.2</td><td>97.96020</td><td> 0.0000000</td><td>0.5472637</td><td> 0.99502488</td><td>57.78061</td><td> 4.664723</td><td>68.6</td></tr>\n",
       "\t<tr><td>1962.668</td><td> 85</td><td>184.4</td><td>453.5494</td><td>45180</td><td> 35788</td><td>15.0</td><td>1900.0782</td><td>5</td><td>38.2</td><td>⋯</td><td>46.2</td><td>34.4</td><td>17.4</td><td>87.71862</td><td> 3.1680479</td><td>1.6103551</td><td> 1.89306799</td><td>50.73057</td><td> 7.404551</td><td>62.4</td></tr>\n",
       "\t<tr><td>1962.668</td><td> 13</td><td>214.7</td><td>453.5494</td><td>41434</td><td>  2932</td><td>13.9</td><td>   0.0000</td><td>4</td><td>52.3</td><td>⋯</td><td>35.6</td><td>40.0</td><td>16.1</td><td>96.52324</td><td> 0.4130809</td><td>0.0000000</td><td> 0.41308090</td><td>42.70197</td><td> 7.127430</td><td>60.9</td></tr>\n",
       "\t<tr><td>1962.668</td><td> 52</td><td>181.2</td><td>453.5494</td><td>47493</td><td> 19303</td><td>11.1</td><td>   0.0000</td><td>6</td><td>41.7</td><td>⋯</td><td>42.3</td><td>34.5</td><td>15.6</td><td>94.50195</td><td> 0.5175241</td><td>0.2920680</td><td> 0.79934413</td><td>55.21606</td><td> 6.565531</td><td>64.8</td></tr>\n",
       "\t<tr><td>1962.668</td><td> 16</td><td>160.3</td><td>453.5494</td><td>47599</td><td>  7797</td><td>15.0</td><td>   0.0000</td><td>6</td><td>38.8</td><td>⋯</td><td>45.7</td><td>29.5</td><td>14.5</td><td>91.72923</td><td> 3.6900369</td><td>0.2417610</td><td> 0.08906986</td><td>55.93438</td><td> 4.685714</td><td>65.3</td></tr>\n",
       "\t<tr><td>1962.668</td><td>138</td><td>153.7</td><td>453.5494</td><td>49246</td><td>118053</td><td>19.4</td><td> 660.7202</td><td>7</td><td>28.8</td><td>⋯</td><td>55.3</td><td>19.6</td><td> 8.7</td><td>84.29288</td><td> 3.9994085</td><td>4.4073517</td><td> 0.60713074</td><td>41.84409</td><td> 4.146877</td><td>  NA</td></tr>\n",
       "\t<tr><td>1962.668</td><td>  9</td><td>208.3</td><td>453.5494</td><td>49256</td><td>  2968</td><td>10.5</td><td> 673.8544</td><td>7</td><td>45.2</td><td>⋯</td><td>39.4</td><td>30.6</td><td>15.5</td><td>93.78134</td><td> 0.9027081</td><td>0.3009027</td><td> 3.44366433</td><td>55.96546</td><td> 4.210526</td><td>63.3</td></tr>\n",
       "\t<tr><td>1962.668</td><td> 12</td><td>215.9</td><td>453.5494</td><td>36471</td><td>  2605</td><td>17.4</td><td>   0.0000</td><td>2</td><td>50.4</td><td>⋯</td><td>36.2</td><td>45.5</td><td>20.3</td><td>94.37197</td><td> 0.7827059</td><td>0.4099888</td><td> 0.44726053</td><td>52.14968</td><td> 3.050109</td><td>56.0</td></tr>\n",
       "\t<tr><td>1962.668</td><td> 48</td><td>146.4</td><td>453.5494</td><td>49508</td><td> 29029</td><td>13.0</td><td> 723.4145</td><td>7</td><td>32.2</td><td>⋯</td><td>52.9</td><td>24.3</td><td> 9.5</td><td>94.29173</td><td> 1.1451040</td><td>1.3865416</td><td> 1.01403787</td><td>43.27678</td><td> 3.977583</td><td>73.1</td></tr>\n",
       "\t<tr><td>1962.668</td><td> 15</td><td>149.6</td><td>453.5494</td><td>46961</td><td>  6343</td><td>12.4</td><td>   0.0000</td><td>6</td><td>44.2</td><td>⋯</td><td>44.6</td><td>31.7</td><td>13.2</td><td>90.28081</td><td> 3.8377535</td><td>0.3276131</td><td> 1.70046802</td><td>51.06383</td><td> 7.773512</td><td>56.0</td></tr>\n",
       "\t<tr><td>1962.668</td><td> 43</td><td>150.1</td><td>453.5494</td><td>48609</td><td> 37118</td><td>18.8</td><td> 377.1755</td><td>7</td><td>30.4</td><td>⋯</td><td>48.6</td><td>28.8</td><td>17.7</td><td>75.70625</td><td> 2.3267713</td><td>4.0449196</td><td>14.13028842</td><td>52.00794</td><td> 8.186470</td><td>74.7</td></tr>\n",
       "\t<tr><td>1962.668</td><td> 46</td><td>153.9</td><td>453.5494</td><td>51144</td><td> 34536</td><td>15.0</td><td>1968.9599</td><td>8</td><td>30.9</td><td>⋯</td><td>47.8</td><td>26.6</td><td>16.8</td><td>87.96163</td><td> 2.3131878</td><td>1.3164717</td><td> 5.68070519</td><td>55.15395</td><td> 7.809192</td><td>71.2</td></tr>\n",
       "\t<tr><td>1962.668</td><td> 52</td><td>175.0</td><td>453.5494</td><td>50745</td><td> 25609</td><td>13.3</td><td>   0.0000</td><td>7</td><td>39.0</td><td>⋯</td><td>49.6</td><td>29.5</td><td>14.0</td><td>92.90568</td><td> 1.1765620</td><td>0.2446317</td><td> 2.13179047</td><td>58.48423</td><td> 7.582938</td><td>  NA</td></tr>\n",
       "\t<tr><td>1962.668</td><td> 48</td><td>213.6</td><td>453.5494</td><td>41193</td><td> 37030</td><td>13.9</td><td>   0.0000</td><td>4</td><td>26.2</td><td>⋯</td><td>22.9</td><td>25.1</td><td>12.6</td><td>70.09813</td><td>16.5900998</td><td>3.1777530</td><td> 1.35645744</td><td>56.04024</td><td> 8.981723</td><td>58.0</td></tr>\n",
       "</tbody>\n",
       "</table>\n"
      ],
      "text/latex": [
       "A data.frame: 3047 × 31\n",
       "\\begin{tabular}{lllllllllllllllllllll}\n",
       " avganncount & avgdeathsperyear & target\\_deathrate & incidencerate & medincome & popest2015 & povertypercent & studypercap & binnedinc & medianage & ⋯ & pctempprivcoverage & pctpubliccoverage & pctpubliccoveragealone & pctwhite & pctblack & pctasian & pctotherrace & pctmarriedhouseholds & birthrate & over16\\\\\n",
       " <dbl> & <int> & <dbl> & <dbl> & <int> & <int> & <dbl> & <dbl> & <dbl> & <dbl> & ⋯ & <dbl> & <dbl> & <dbl> & <dbl> & <dbl> & <dbl> & <dbl> & <dbl> & <dbl> & <dbl>\\\\\n",
       "\\hline\n",
       "\t 1397 &  469 & 164.9 & 489.8 & 61898 & 260131 & 11.2 &  499.74820 & 10 & 39.3 & ⋯ & 41.6 & 32.9 & 14.0 & 81.78053 & 2.59472833 & 4.82185710 &  1.84347853 & 52.85608 & 6.1188310 & 59.9\\\\\n",
       "\t  173 &   70 & 161.3 & 411.6 & 48127 &  43269 & 18.6 &   23.11123 &  7 & 33.0 & ⋯ & 43.6 & 31.1 & 15.3 & 89.22851 & 0.96910246 & 2.24623259 &  3.74135153 & 45.37250 & 4.3330956 & 63.7\\\\\n",
       "\t  102 &   50 & 174.7 & 349.7 & 49348 &  21026 & 14.6 &   47.56016 &  7 & 45.0 & ⋯ & 34.9 & 42.1 & 21.1 & 90.92219 & 0.73967339 & 0.46589818 &  2.74735831 & 54.44487 & 3.7294878 & 52.9\\\\\n",
       "\t  427 &  202 & 194.8 & 430.4 & 44243 &  75882 & 17.1 &  342.63725 &  5 & 42.8 & ⋯ & 35.0 & 45.3 & 25.0 & 91.74469 & 0.78262597 & 1.16135867 &  1.36264318 & 51.02151 & 4.6038408 & 60.4\\\\\n",
       "\t   57 &   26 & 144.4 & 350.1 & 49955 &  10321 & 12.5 &    0.00000 &  7 & 48.3 & ⋯ & 35.1 & 44.0 & 22.7 & 94.10402 & 0.27019203 & 0.66583036 &  0.49213548 & 54.02746 & 6.7966574 & 53.0\\\\\n",
       "\t  428 &  152 & 176.0 & 505.4 & 52313 &  61023 & 15.6 &  180.25990 &  8 & 45.4 & ⋯ & 32.6 & 43.2 & 20.2 & 84.88263 & 1.65320524 & 1.53805662 &  3.31463539 & 51.22036 & 4.9644760 & 57.0\\\\\n",
       "\t  250 &   97 & 175.9 & 461.8 & 37782 &  41516 & 23.2 &    0.00000 &  3 & 42.6 & ⋯ & 28.3 & 46.4 & 28.7 & 75.10646 & 0.61695539 & 0.86615697 &  8.35672118 & 51.01390 & 4.2043173 & 60.7\\\\\n",
       "\t  146 &   71 & 183.6 & 404.0 & 40189 &  20848 & 17.8 &    0.00000 &  3 & 51.7 & ⋯ & 25.9 & 50.9 & 24.1 & 89.40664 & 0.30515863 & 1.88907726 &  2.28626786 & 48.96703 & 5.8891790 & 49.8\\\\\n",
       "\t   88 &   36 & 190.5 & 459.4 & 42579 &  13088 & 22.3 &    0.00000 &  4 & 49.3 & ⋯ & 29.9 & 48.1 & 26.6 & 91.78748 & 0.18507094 & 0.20820481 &  0.61690315 & 53.44700 & 5.5875831 & 49.8\\\\\n",
       "\t 4025 & 1380 & 177.8 & 510.9 & 60397 & 843954 & 13.1 &  427.74843 &  9 & 35.8 & ⋯ & 44.4 & 31.4 & 16.5 & 74.72967 & 6.71085416 & 6.04147201 &  2.69918438 & 50.06357 & 5.5334302 & 65.8\\\\\n",
       "\t  113 &   36 & 121.4 & 413.3 & 54721 &  16252 & 12.7 &    0.00000 &  9 & 54.4 & ⋯ & 27.9 & 41.6 & 18.3 & 92.57333 & 0.65179243 & 1.42892956 &  2.23740286 & 50.03892 & 4.5861298 & 60.5\\\\\n",
       "\t  740 &  269 & 172.7 & 499.3 & 51395 & 121846 & 15.7 &  837.12227 &  8 & 41.0 & ⋯ & 38.0 & 38.1 & 20.2 & 85.59027 & 0.80607995 & 1.88783590 &  6.22659058 & 52.93733 & 5.8181533 &   NA\\\\\n",
       "\t   55 &   26 & 188.3 & 398.9 & 52673 &  11339 & 12.6 &    0.00000 &  8 & 45.2 & ⋯ & 42.6 & 36.1 & 20.5 & 93.41813 & 0.84497020 & 0.97838655 &  0.77381482 & 52.94772 & 4.8055920 & 59.8\\\\\n",
       "\t 3438 & 1118 & 165.3 & 493.4 & 71890 & 772501 &  9.9 &  138.51115 & 10 & 37.6 & ⋯ & 54.3 & 25.9 & 14.1 & 78.83274 & 2.59585109 & 9.51151338 &  2.25271980 & 52.72050 & 4.7292511 & 69.6\\\\\n",
       "\t 2265 &  901 & 171.0 & 440.7 & 50083 & 490945 & 16.3 &  462.37359 &  7 & 37.2 & ⋯ & 42.5 & 36.5 & 21.4 & 89.03817 & 1.82704146 & 2.31598563 &  1.03362505 & 48.18838 & 5.3558359 & 63.5\\\\\n",
       "\t  251 &  106 & 174.2 & 423.8 & 43823 &  43791 & 19.3 &    0.00000 &  5 & 46.2 & ⋯ & 33.9 & 45.8 & 24.1 & 89.17746 & 0.48911546 & 0.60393129 &  0.86571140 & 55.21240 & 3.6310821 & 55.7\\\\\n",
       "\t 1390 &  483 & 169.9 & 495.9 & 61653 & 269536 & 11.9 &  207.76445 & 10 & 38.5 & ⋯ & 43.5 & 30.7 & 13.7 & 82.58622 & 2.83987317 & 5.83580425 &  1.22638673 & 50.87449 & 5.1801552 & 65.0\\\\\n",
       "\t   32 &   12 & 153.8 & 463.2 & 51022 &   4042 & 13.9 &    0.00000 &  7 & 52.1 & ⋯ & 35.2 & 49.7 & 20.4 & 92.96159 & 0.12391574 & 1.14002478 &  0.00000000 & 53.37995 & 0.5354752 & 46.3\\\\\n",
       "\t  305 &  120 & 162.8 & 442.5 & 49819 &  60338 & 15.7 &  464.05250 &  7 & 36.9 & ⋯ & 40.0 & 38.0 & 18.8 & 86.23882 & 1.64919800 & 1.61738606 &  5.63573653 & 49.32706 & 4.1387109 & 60.9\\\\\n",
       "\t 1081 &  367 & 163.3 & 490.9 & 53733 & 212284 & 15.7 &  249.66554 &  8 & 36.5 & ⋯ & 44.8 & 31.9 & 17.4 & 85.47030 & 0.88073395 & 3.92515693 &  2.42588122 & 48.06875 & 4.4729858 & 66.0\\\\\n",
       "\t  134 &   50 & 140.8 & 390.5 & 41837 &  48177 & 28.4 &    0.00000 &  4 & 24.2 & ⋯ & 53.8 & 22.9 & 11.9 & 83.58260 & 2.15460984 & 7.61495175 &  1.61542247 & 40.55405 & 3.3041590 & 62.2\\\\\n",
       "\t  958 &  403 & 169.4 & 411.0 & 44342 & 248830 & 20.5 &  301.41060 &  5 & 32.5 & ⋯ & 30.8 & 35.7 & 22.4 & 78.02052 & 0.84273750 & 1.08969799 & 12.95026838 & 50.66898 & 6.5606117 & 65.0\\\\\n",
       "\t   94 &   41 & 189.7 & 445.2 & 35615 &  16704 & 21.5 &    0.00000 &  2 & 41.5 & ⋯ & 36.5 & 44.8 & 26.4 & 96.84418 & 0.83677007 & 0.37654653 &  0.02988465 & 55.28886 & 2.2928609 & 55.5\\\\\n",
       "\t  499 &  215 & 206.1 & 463.1 & 56737 & 111901 & 13.2 &   89.36471 &  9 & 38.4 & ⋯ & 49.7 & 33.1 & 17.3 & 87.80122 & 7.33324749 & 1.05220559 &  0.90596372 & 51.52351 & 4.8724681 & 68.4\\\\\n",
       "\t  152 &   70 & 236.7 & 501.8 & 37625 &  23372 & 22.1 &    0.00000 &  3 & 41.9 & ⋯ & 41.3 & 46.3 & 25.4 & 98.31250 & 0.67500000 & 0.09166667 &  0.12916667 & 53.06379 & 4.2202877 & 48.7\\\\\n",
       "\t   80 &   40 & 196.3 & 396.6 & 33817 &  14415 & 22.2 &    0.00000 &  1 & 44.5 & ⋯ & 38.9 & 43.4 & 25.4 & 97.91235 & 0.49771879 & 0.00000000 &  0.00000000 & 53.27269 & 5.4690204 & 58.7\\\\\n",
       "\t  164 &   69 & 186.2 & 481.6 & 43572 &  23350 & 15.1 &    0.00000 &  5 & 45.9 & ⋯ & 46.4 & 39.7 & 19.4 & 96.81809 & 1.74519332 & 0.51552926 &  0.06338475 & 47.58724 & 4.9705305 & 58.3\\\\\n",
       "\t  564 &  237 & 194.0 & 483.4 & 34887 &  96844 & 21.9 &  330.42832 &  2 & 38.5 & ⋯ & 44.4 & 39.0 & 21.7 & 91.06936 & 4.81802033 & 1.18978766 &  0.22824919 & 40.76502 & 4.5219251 & 57.1\\\\\n",
       "\t   50 &   25 & 226.5 & 459.9 & 32162 &   7470 & 21.8 &    0.00000 &  1 & 47.0 & ⋯ & 35.1 & 46.0 & 25.2 & 98.25328 & 0.09262935 & 0.05293106 &  0.02646553 & 53.33333 & 4.7801147 & 58.0\\\\\n",
       "\t   70 &   26 & 212.9 & 591.0 & 32961 &   8910 & 25.1 & 4938.27160 &  1 & 43.3 & ⋯ & 32.6 & 52.0 & 32.5 & 98.04179 & 0.00000000 & 0.00000000 &  0.04375889 & 58.09249 & 8.7530562 & 51.9\\\\\n",
       "\t ⋮ & ⋮ & ⋮ & ⋮ & ⋮ & ⋮ & ⋮ & ⋮ & ⋮ & ⋮ & ⋱ & ⋮ & ⋮ & ⋮ & ⋮ & ⋮ & ⋮ & ⋮ & ⋮ & ⋮ & ⋮\\\\\n",
       "\t   87.000 &  34 & 159.3 & 453.2000 & 50108 &  12773 & 12.0 &    0.0000 & 7 & 44.6 & ⋯ & 43.7 & 38.3 & 17.3 & 94.67378 &  0.3787879 & 0.5024737 &  2.83704391 & 51.02821 &  6.486942 & 64.5\\\\\n",
       "\t 1962.668 &  36 & 196.4 & 453.5494 & 39196 &  12717 & 18.2 &    0.0000 & 3 & 41.2 & ⋯ & 42.7 & 37.7 & 19.6 & 93.46380 &  1.7047626 & 0.5121933 &  0.59628469 & 48.20957 &  8.708822 & 63.7\\\\\n",
       "\t 1962.668 &  22 & 174.8 & 453.5494 & 45368 &   7808 & 14.3 &    0.0000 & 6 & 41.7 & ⋯ & 33.9 & 37.6 & 16.9 & 95.14944 &  0.1139818 & 0.0000000 &  0.00000000 & 55.73171 &  8.419023 & 64.9\\\\\n",
       "\t 1962.668 &  37 & 180.2 & 453.5494 & 44199 &  16398 & 17.4 &    0.0000 & 5 & 35.9 & ⋯ & 46.0 & 32.0 & 15.6 & 90.57296 &  4.0942704 & 0.3366801 &  0.40281368 & 47.10757 &  6.012885 & 64.6\\\\\n",
       "\t 1962.668 &  15 & 197.8 & 453.5494 & 51676 &   4823 & 12.4 & 1451.3788 & 8 & 44.9 & ⋯ & 40.3 & 34.3 & 14.1 & 95.95388 &  0.3354298 & 0.4612159 &  0.25157233 & 57.39525 &  8.417508 & 65.2\\\\\n",
       "\t 1962.668 &  67 & 178.3 & 453.5494 & 46942 &  27103 & 17.8 &  701.0294 & 6 & 39.3 & ⋯ & 42.4 & 34.0 & 17.6 & 91.89021 &  1.7007920 & 0.1788386 &  3.93080039 & 50.09729 &  7.120636 & 68.2\\\\\n",
       "\t 1962.668 &  34 & 166.6 & 453.5494 & 38430 &  14712 & 18.4 & 4282.2186 & 3 & 37.3 & ⋯ & 43.8 & 37.0 & 20.5 & 93.07994 &  3.5241696 & 0.8709155 &  0.14852822 & 52.63251 & 12.159893 & 60.3\\\\\n",
       "\t 1962.668 &  26 & 184.2 & 453.5494 & 45781 &   9776 & 17.3 &  306.8740 & 6 & 42.5 & ⋯ & 41.0 & 37.9 & 18.8 & 86.00202 &  1.7510121 & 0.5668016 &  0.16194332 & 50.87762 &  7.974482 & 64.8\\\\\n",
       "\t 1962.668 & 126 & 175.0 & 453.5494 & 60123 &  66741 & 11.3 &  973.9141 & 9 & 37.8 & ⋯ & 55.1 & 26.5 & 12.7 & 93.56654 &  2.0426073 & 0.9395993 &  0.40095624 & 57.05104 &  5.706173 & 67.2\\\\\n",
       "\t 1962.668 &   8 & 177.8 & 453.5494 & 47025 &   2679 & 13.2 &    0.0000 & 6 & 46.2 & ⋯ & 44.3 & 35.3 & 14.0 & 95.77517 &  0.8817046 & 0.0000000 &  0.44085231 & 51.44144 &  5.031447 & 57.0\\\\\n",
       "\t 1962.668 &  13 & 194.2 & 453.5494 & 39120 &   3402 & 16.4 &    0.0000 & 3 & 49.1 & ⋯ & 34.2 & 43.2 & 20.1 & 88.38068 &  0.5681818 & 0.0000000 &  0.00000000 & 53.43610 &  2.613240 & 57.8\\\\\n",
       "\t 1962.668 &   9 & 150.0 & 453.5494 & 41797 &   2679 & 11.5 &    0.0000 & 4 & 49.6 & ⋯ & 39.3 & 33.5 &  9.7 & 94.70544 &  0.0000000 & 1.1558538 &  3.24384788 & 52.77338 & 10.775862 & 61.6\\\\\n",
       "\t 1962.668 &   6 & 153.7 & 453.5494 & 47650 &   2096 & 13.0 &    0.0000 & 6 & 44.4 & ⋯ & 52.4 & 29.5 & 13.1 & 91.65501 &  1.0256410 & 0.7459207 &  1.72494173 & 50.48544 &  6.746988 & 63.2\\\\\n",
       "\t 1962.668 &  24 & 169.2 & 453.5494 & 53131 &   8347 & 10.9 &    0.0000 & 8 & 42.2 & ⋯ & 43.3 & 33.8 & 12.2 & 96.71060 &  0.6056288 & 0.5462534 &  0.20187626 & 59.69796 &  6.744329 & 65.1\\\\\n",
       "\t 1962.668 &  27 & 178.6 & 453.5494 & 42697 &   9219 & 14.0 &    0.0000 & 4 & 42.3 & ⋯ & 41.7 & 34.4 & 14.7 & 94.96734 &  0.4283114 & 0.8137916 &  1.76678445 & 45.56004 &  7.082002 & 65.7\\\\\n",
       "\t 1962.668 &  22 & 176.6 & 453.5494 & 55705 &   8384 & 10.9 &    0.0000 & 9 & 44.1 & ⋯ & 50.2 & 32.1 & 14.6 & 96.16931 &  0.7803263 & 0.6384488 &  0.10640813 & 55.11348 &  7.435159 & 67.2\\\\\n",
       "\t 1962.668 &   7 & 209.6 & 453.5494 & 45353 &   1843 & 11.4 &    0.0000 & 6 & 45.7 & ⋯ & 43.9 & 32.2 &  9.2 & 97.96020 &  0.0000000 & 0.5472637 &  0.99502488 & 57.78061 &  4.664723 & 68.6\\\\\n",
       "\t 1962.668 &  85 & 184.4 & 453.5494 & 45180 &  35788 & 15.0 & 1900.0782 & 5 & 38.2 & ⋯ & 46.2 & 34.4 & 17.4 & 87.71862 &  3.1680479 & 1.6103551 &  1.89306799 & 50.73057 &  7.404551 & 62.4\\\\\n",
       "\t 1962.668 &  13 & 214.7 & 453.5494 & 41434 &   2932 & 13.9 &    0.0000 & 4 & 52.3 & ⋯ & 35.6 & 40.0 & 16.1 & 96.52324 &  0.4130809 & 0.0000000 &  0.41308090 & 42.70197 &  7.127430 & 60.9\\\\\n",
       "\t 1962.668 &  52 & 181.2 & 453.5494 & 47493 &  19303 & 11.1 &    0.0000 & 6 & 41.7 & ⋯ & 42.3 & 34.5 & 15.6 & 94.50195 &  0.5175241 & 0.2920680 &  0.79934413 & 55.21606 &  6.565531 & 64.8\\\\\n",
       "\t 1962.668 &  16 & 160.3 & 453.5494 & 47599 &   7797 & 15.0 &    0.0000 & 6 & 38.8 & ⋯ & 45.7 & 29.5 & 14.5 & 91.72923 &  3.6900369 & 0.2417610 &  0.08906986 & 55.93438 &  4.685714 & 65.3\\\\\n",
       "\t 1962.668 & 138 & 153.7 & 453.5494 & 49246 & 118053 & 19.4 &  660.7202 & 7 & 28.8 & ⋯ & 55.3 & 19.6 &  8.7 & 84.29288 &  3.9994085 & 4.4073517 &  0.60713074 & 41.84409 &  4.146877 &   NA\\\\\n",
       "\t 1962.668 &   9 & 208.3 & 453.5494 & 49256 &   2968 & 10.5 &  673.8544 & 7 & 45.2 & ⋯ & 39.4 & 30.6 & 15.5 & 93.78134 &  0.9027081 & 0.3009027 &  3.44366433 & 55.96546 &  4.210526 & 63.3\\\\\n",
       "\t 1962.668 &  12 & 215.9 & 453.5494 & 36471 &   2605 & 17.4 &    0.0000 & 2 & 50.4 & ⋯ & 36.2 & 45.5 & 20.3 & 94.37197 &  0.7827059 & 0.4099888 &  0.44726053 & 52.14968 &  3.050109 & 56.0\\\\\n",
       "\t 1962.668 &  48 & 146.4 & 453.5494 & 49508 &  29029 & 13.0 &  723.4145 & 7 & 32.2 & ⋯ & 52.9 & 24.3 &  9.5 & 94.29173 &  1.1451040 & 1.3865416 &  1.01403787 & 43.27678 &  3.977583 & 73.1\\\\\n",
       "\t 1962.668 &  15 & 149.6 & 453.5494 & 46961 &   6343 & 12.4 &    0.0000 & 6 & 44.2 & ⋯ & 44.6 & 31.7 & 13.2 & 90.28081 &  3.8377535 & 0.3276131 &  1.70046802 & 51.06383 &  7.773512 & 56.0\\\\\n",
       "\t 1962.668 &  43 & 150.1 & 453.5494 & 48609 &  37118 & 18.8 &  377.1755 & 7 & 30.4 & ⋯ & 48.6 & 28.8 & 17.7 & 75.70625 &  2.3267713 & 4.0449196 & 14.13028842 & 52.00794 &  8.186470 & 74.7\\\\\n",
       "\t 1962.668 &  46 & 153.9 & 453.5494 & 51144 &  34536 & 15.0 & 1968.9599 & 8 & 30.9 & ⋯ & 47.8 & 26.6 & 16.8 & 87.96163 &  2.3131878 & 1.3164717 &  5.68070519 & 55.15395 &  7.809192 & 71.2\\\\\n",
       "\t 1962.668 &  52 & 175.0 & 453.5494 & 50745 &  25609 & 13.3 &    0.0000 & 7 & 39.0 & ⋯ & 49.6 & 29.5 & 14.0 & 92.90568 &  1.1765620 & 0.2446317 &  2.13179047 & 58.48423 &  7.582938 &   NA\\\\\n",
       "\t 1962.668 &  48 & 213.6 & 453.5494 & 41193 &  37030 & 13.9 &    0.0000 & 4 & 26.2 & ⋯ & 22.9 & 25.1 & 12.6 & 70.09813 & 16.5900998 & 3.1777530 &  1.35645744 & 56.04024 &  8.981723 & 58.0\\\\\n",
       "\\end{tabular}\n"
      ],
      "text/markdown": [
       "\n",
       "A data.frame: 3047 × 31\n",
       "\n",
       "| avganncount &lt;dbl&gt; | avgdeathsperyear &lt;int&gt; | target_deathrate &lt;dbl&gt; | incidencerate &lt;dbl&gt; | medincome &lt;int&gt; | popest2015 &lt;int&gt; | povertypercent &lt;dbl&gt; | studypercap &lt;dbl&gt; | binnedinc &lt;dbl&gt; | medianage &lt;dbl&gt; | ⋯ ⋯ | pctempprivcoverage &lt;dbl&gt; | pctpubliccoverage &lt;dbl&gt; | pctpubliccoveragealone &lt;dbl&gt; | pctwhite &lt;dbl&gt; | pctblack &lt;dbl&gt; | pctasian &lt;dbl&gt; | pctotherrace &lt;dbl&gt; | pctmarriedhouseholds &lt;dbl&gt; | birthrate &lt;dbl&gt; | over16 &lt;dbl&gt; |\n",
       "|---|---|---|---|---|---|---|---|---|---|---|---|---|---|---|---|---|---|---|---|---|\n",
       "| 1397 |  469 | 164.9 | 489.8 | 61898 | 260131 | 11.2 |  499.74820 | 10 | 39.3 | ⋯ | 41.6 | 32.9 | 14.0 | 81.78053 | 2.59472833 | 4.82185710 |  1.84347853 | 52.85608 | 6.1188310 | 59.9 |\n",
       "|  173 |   70 | 161.3 | 411.6 | 48127 |  43269 | 18.6 |   23.11123 |  7 | 33.0 | ⋯ | 43.6 | 31.1 | 15.3 | 89.22851 | 0.96910246 | 2.24623259 |  3.74135153 | 45.37250 | 4.3330956 | 63.7 |\n",
       "|  102 |   50 | 174.7 | 349.7 | 49348 |  21026 | 14.6 |   47.56016 |  7 | 45.0 | ⋯ | 34.9 | 42.1 | 21.1 | 90.92219 | 0.73967339 | 0.46589818 |  2.74735831 | 54.44487 | 3.7294878 | 52.9 |\n",
       "|  427 |  202 | 194.8 | 430.4 | 44243 |  75882 | 17.1 |  342.63725 |  5 | 42.8 | ⋯ | 35.0 | 45.3 | 25.0 | 91.74469 | 0.78262597 | 1.16135867 |  1.36264318 | 51.02151 | 4.6038408 | 60.4 |\n",
       "|   57 |   26 | 144.4 | 350.1 | 49955 |  10321 | 12.5 |    0.00000 |  7 | 48.3 | ⋯ | 35.1 | 44.0 | 22.7 | 94.10402 | 0.27019203 | 0.66583036 |  0.49213548 | 54.02746 | 6.7966574 | 53.0 |\n",
       "|  428 |  152 | 176.0 | 505.4 | 52313 |  61023 | 15.6 |  180.25990 |  8 | 45.4 | ⋯ | 32.6 | 43.2 | 20.2 | 84.88263 | 1.65320524 | 1.53805662 |  3.31463539 | 51.22036 | 4.9644760 | 57.0 |\n",
       "|  250 |   97 | 175.9 | 461.8 | 37782 |  41516 | 23.2 |    0.00000 |  3 | 42.6 | ⋯ | 28.3 | 46.4 | 28.7 | 75.10646 | 0.61695539 | 0.86615697 |  8.35672118 | 51.01390 | 4.2043173 | 60.7 |\n",
       "|  146 |   71 | 183.6 | 404.0 | 40189 |  20848 | 17.8 |    0.00000 |  3 | 51.7 | ⋯ | 25.9 | 50.9 | 24.1 | 89.40664 | 0.30515863 | 1.88907726 |  2.28626786 | 48.96703 | 5.8891790 | 49.8 |\n",
       "|   88 |   36 | 190.5 | 459.4 | 42579 |  13088 | 22.3 |    0.00000 |  4 | 49.3 | ⋯ | 29.9 | 48.1 | 26.6 | 91.78748 | 0.18507094 | 0.20820481 |  0.61690315 | 53.44700 | 5.5875831 | 49.8 |\n",
       "| 4025 | 1380 | 177.8 | 510.9 | 60397 | 843954 | 13.1 |  427.74843 |  9 | 35.8 | ⋯ | 44.4 | 31.4 | 16.5 | 74.72967 | 6.71085416 | 6.04147201 |  2.69918438 | 50.06357 | 5.5334302 | 65.8 |\n",
       "|  113 |   36 | 121.4 | 413.3 | 54721 |  16252 | 12.7 |    0.00000 |  9 | 54.4 | ⋯ | 27.9 | 41.6 | 18.3 | 92.57333 | 0.65179243 | 1.42892956 |  2.23740286 | 50.03892 | 4.5861298 | 60.5 |\n",
       "|  740 |  269 | 172.7 | 499.3 | 51395 | 121846 | 15.7 |  837.12227 |  8 | 41.0 | ⋯ | 38.0 | 38.1 | 20.2 | 85.59027 | 0.80607995 | 1.88783590 |  6.22659058 | 52.93733 | 5.8181533 |   NA |\n",
       "|   55 |   26 | 188.3 | 398.9 | 52673 |  11339 | 12.6 |    0.00000 |  8 | 45.2 | ⋯ | 42.6 | 36.1 | 20.5 | 93.41813 | 0.84497020 | 0.97838655 |  0.77381482 | 52.94772 | 4.8055920 | 59.8 |\n",
       "| 3438 | 1118 | 165.3 | 493.4 | 71890 | 772501 |  9.9 |  138.51115 | 10 | 37.6 | ⋯ | 54.3 | 25.9 | 14.1 | 78.83274 | 2.59585109 | 9.51151338 |  2.25271980 | 52.72050 | 4.7292511 | 69.6 |\n",
       "| 2265 |  901 | 171.0 | 440.7 | 50083 | 490945 | 16.3 |  462.37359 |  7 | 37.2 | ⋯ | 42.5 | 36.5 | 21.4 | 89.03817 | 1.82704146 | 2.31598563 |  1.03362505 | 48.18838 | 5.3558359 | 63.5 |\n",
       "|  251 |  106 | 174.2 | 423.8 | 43823 |  43791 | 19.3 |    0.00000 |  5 | 46.2 | ⋯ | 33.9 | 45.8 | 24.1 | 89.17746 | 0.48911546 | 0.60393129 |  0.86571140 | 55.21240 | 3.6310821 | 55.7 |\n",
       "| 1390 |  483 | 169.9 | 495.9 | 61653 | 269536 | 11.9 |  207.76445 | 10 | 38.5 | ⋯ | 43.5 | 30.7 | 13.7 | 82.58622 | 2.83987317 | 5.83580425 |  1.22638673 | 50.87449 | 5.1801552 | 65.0 |\n",
       "|   32 |   12 | 153.8 | 463.2 | 51022 |   4042 | 13.9 |    0.00000 |  7 | 52.1 | ⋯ | 35.2 | 49.7 | 20.4 | 92.96159 | 0.12391574 | 1.14002478 |  0.00000000 | 53.37995 | 0.5354752 | 46.3 |\n",
       "|  305 |  120 | 162.8 | 442.5 | 49819 |  60338 | 15.7 |  464.05250 |  7 | 36.9 | ⋯ | 40.0 | 38.0 | 18.8 | 86.23882 | 1.64919800 | 1.61738606 |  5.63573653 | 49.32706 | 4.1387109 | 60.9 |\n",
       "| 1081 |  367 | 163.3 | 490.9 | 53733 | 212284 | 15.7 |  249.66554 |  8 | 36.5 | ⋯ | 44.8 | 31.9 | 17.4 | 85.47030 | 0.88073395 | 3.92515693 |  2.42588122 | 48.06875 | 4.4729858 | 66.0 |\n",
       "|  134 |   50 | 140.8 | 390.5 | 41837 |  48177 | 28.4 |    0.00000 |  4 | 24.2 | ⋯ | 53.8 | 22.9 | 11.9 | 83.58260 | 2.15460984 | 7.61495175 |  1.61542247 | 40.55405 | 3.3041590 | 62.2 |\n",
       "|  958 |  403 | 169.4 | 411.0 | 44342 | 248830 | 20.5 |  301.41060 |  5 | 32.5 | ⋯ | 30.8 | 35.7 | 22.4 | 78.02052 | 0.84273750 | 1.08969799 | 12.95026838 | 50.66898 | 6.5606117 | 65.0 |\n",
       "|   94 |   41 | 189.7 | 445.2 | 35615 |  16704 | 21.5 |    0.00000 |  2 | 41.5 | ⋯ | 36.5 | 44.8 | 26.4 | 96.84418 | 0.83677007 | 0.37654653 |  0.02988465 | 55.28886 | 2.2928609 | 55.5 |\n",
       "|  499 |  215 | 206.1 | 463.1 | 56737 | 111901 | 13.2 |   89.36471 |  9 | 38.4 | ⋯ | 49.7 | 33.1 | 17.3 | 87.80122 | 7.33324749 | 1.05220559 |  0.90596372 | 51.52351 | 4.8724681 | 68.4 |\n",
       "|  152 |   70 | 236.7 | 501.8 | 37625 |  23372 | 22.1 |    0.00000 |  3 | 41.9 | ⋯ | 41.3 | 46.3 | 25.4 | 98.31250 | 0.67500000 | 0.09166667 |  0.12916667 | 53.06379 | 4.2202877 | 48.7 |\n",
       "|   80 |   40 | 196.3 | 396.6 | 33817 |  14415 | 22.2 |    0.00000 |  1 | 44.5 | ⋯ | 38.9 | 43.4 | 25.4 | 97.91235 | 0.49771879 | 0.00000000 |  0.00000000 | 53.27269 | 5.4690204 | 58.7 |\n",
       "|  164 |   69 | 186.2 | 481.6 | 43572 |  23350 | 15.1 |    0.00000 |  5 | 45.9 | ⋯ | 46.4 | 39.7 | 19.4 | 96.81809 | 1.74519332 | 0.51552926 |  0.06338475 | 47.58724 | 4.9705305 | 58.3 |\n",
       "|  564 |  237 | 194.0 | 483.4 | 34887 |  96844 | 21.9 |  330.42832 |  2 | 38.5 | ⋯ | 44.4 | 39.0 | 21.7 | 91.06936 | 4.81802033 | 1.18978766 |  0.22824919 | 40.76502 | 4.5219251 | 57.1 |\n",
       "|   50 |   25 | 226.5 | 459.9 | 32162 |   7470 | 21.8 |    0.00000 |  1 | 47.0 | ⋯ | 35.1 | 46.0 | 25.2 | 98.25328 | 0.09262935 | 0.05293106 |  0.02646553 | 53.33333 | 4.7801147 | 58.0 |\n",
       "|   70 |   26 | 212.9 | 591.0 | 32961 |   8910 | 25.1 | 4938.27160 |  1 | 43.3 | ⋯ | 32.6 | 52.0 | 32.5 | 98.04179 | 0.00000000 | 0.00000000 |  0.04375889 | 58.09249 | 8.7530562 | 51.9 |\n",
       "| ⋮ | ⋮ | ⋮ | ⋮ | ⋮ | ⋮ | ⋮ | ⋮ | ⋮ | ⋮ | ⋱ | ⋮ | ⋮ | ⋮ | ⋮ | ⋮ | ⋮ | ⋮ | ⋮ | ⋮ | ⋮ |\n",
       "|   87.000 |  34 | 159.3 | 453.2000 | 50108 |  12773 | 12.0 |    0.0000 | 7 | 44.6 | ⋯ | 43.7 | 38.3 | 17.3 | 94.67378 |  0.3787879 | 0.5024737 |  2.83704391 | 51.02821 |  6.486942 | 64.5 |\n",
       "| 1962.668 |  36 | 196.4 | 453.5494 | 39196 |  12717 | 18.2 |    0.0000 | 3 | 41.2 | ⋯ | 42.7 | 37.7 | 19.6 | 93.46380 |  1.7047626 | 0.5121933 |  0.59628469 | 48.20957 |  8.708822 | 63.7 |\n",
       "| 1962.668 |  22 | 174.8 | 453.5494 | 45368 |   7808 | 14.3 |    0.0000 | 6 | 41.7 | ⋯ | 33.9 | 37.6 | 16.9 | 95.14944 |  0.1139818 | 0.0000000 |  0.00000000 | 55.73171 |  8.419023 | 64.9 |\n",
       "| 1962.668 |  37 | 180.2 | 453.5494 | 44199 |  16398 | 17.4 |    0.0000 | 5 | 35.9 | ⋯ | 46.0 | 32.0 | 15.6 | 90.57296 |  4.0942704 | 0.3366801 |  0.40281368 | 47.10757 |  6.012885 | 64.6 |\n",
       "| 1962.668 |  15 | 197.8 | 453.5494 | 51676 |   4823 | 12.4 | 1451.3788 | 8 | 44.9 | ⋯ | 40.3 | 34.3 | 14.1 | 95.95388 |  0.3354298 | 0.4612159 |  0.25157233 | 57.39525 |  8.417508 | 65.2 |\n",
       "| 1962.668 |  67 | 178.3 | 453.5494 | 46942 |  27103 | 17.8 |  701.0294 | 6 | 39.3 | ⋯ | 42.4 | 34.0 | 17.6 | 91.89021 |  1.7007920 | 0.1788386 |  3.93080039 | 50.09729 |  7.120636 | 68.2 |\n",
       "| 1962.668 |  34 | 166.6 | 453.5494 | 38430 |  14712 | 18.4 | 4282.2186 | 3 | 37.3 | ⋯ | 43.8 | 37.0 | 20.5 | 93.07994 |  3.5241696 | 0.8709155 |  0.14852822 | 52.63251 | 12.159893 | 60.3 |\n",
       "| 1962.668 |  26 | 184.2 | 453.5494 | 45781 |   9776 | 17.3 |  306.8740 | 6 | 42.5 | ⋯ | 41.0 | 37.9 | 18.8 | 86.00202 |  1.7510121 | 0.5668016 |  0.16194332 | 50.87762 |  7.974482 | 64.8 |\n",
       "| 1962.668 | 126 | 175.0 | 453.5494 | 60123 |  66741 | 11.3 |  973.9141 | 9 | 37.8 | ⋯ | 55.1 | 26.5 | 12.7 | 93.56654 |  2.0426073 | 0.9395993 |  0.40095624 | 57.05104 |  5.706173 | 67.2 |\n",
       "| 1962.668 |   8 | 177.8 | 453.5494 | 47025 |   2679 | 13.2 |    0.0000 | 6 | 46.2 | ⋯ | 44.3 | 35.3 | 14.0 | 95.77517 |  0.8817046 | 0.0000000 |  0.44085231 | 51.44144 |  5.031447 | 57.0 |\n",
       "| 1962.668 |  13 | 194.2 | 453.5494 | 39120 |   3402 | 16.4 |    0.0000 | 3 | 49.1 | ⋯ | 34.2 | 43.2 | 20.1 | 88.38068 |  0.5681818 | 0.0000000 |  0.00000000 | 53.43610 |  2.613240 | 57.8 |\n",
       "| 1962.668 |   9 | 150.0 | 453.5494 | 41797 |   2679 | 11.5 |    0.0000 | 4 | 49.6 | ⋯ | 39.3 | 33.5 |  9.7 | 94.70544 |  0.0000000 | 1.1558538 |  3.24384788 | 52.77338 | 10.775862 | 61.6 |\n",
       "| 1962.668 |   6 | 153.7 | 453.5494 | 47650 |   2096 | 13.0 |    0.0000 | 6 | 44.4 | ⋯ | 52.4 | 29.5 | 13.1 | 91.65501 |  1.0256410 | 0.7459207 |  1.72494173 | 50.48544 |  6.746988 | 63.2 |\n",
       "| 1962.668 |  24 | 169.2 | 453.5494 | 53131 |   8347 | 10.9 |    0.0000 | 8 | 42.2 | ⋯ | 43.3 | 33.8 | 12.2 | 96.71060 |  0.6056288 | 0.5462534 |  0.20187626 | 59.69796 |  6.744329 | 65.1 |\n",
       "| 1962.668 |  27 | 178.6 | 453.5494 | 42697 |   9219 | 14.0 |    0.0000 | 4 | 42.3 | ⋯ | 41.7 | 34.4 | 14.7 | 94.96734 |  0.4283114 | 0.8137916 |  1.76678445 | 45.56004 |  7.082002 | 65.7 |\n",
       "| 1962.668 |  22 | 176.6 | 453.5494 | 55705 |   8384 | 10.9 |    0.0000 | 9 | 44.1 | ⋯ | 50.2 | 32.1 | 14.6 | 96.16931 |  0.7803263 | 0.6384488 |  0.10640813 | 55.11348 |  7.435159 | 67.2 |\n",
       "| 1962.668 |   7 | 209.6 | 453.5494 | 45353 |   1843 | 11.4 |    0.0000 | 6 | 45.7 | ⋯ | 43.9 | 32.2 |  9.2 | 97.96020 |  0.0000000 | 0.5472637 |  0.99502488 | 57.78061 |  4.664723 | 68.6 |\n",
       "| 1962.668 |  85 | 184.4 | 453.5494 | 45180 |  35788 | 15.0 | 1900.0782 | 5 | 38.2 | ⋯ | 46.2 | 34.4 | 17.4 | 87.71862 |  3.1680479 | 1.6103551 |  1.89306799 | 50.73057 |  7.404551 | 62.4 |\n",
       "| 1962.668 |  13 | 214.7 | 453.5494 | 41434 |   2932 | 13.9 |    0.0000 | 4 | 52.3 | ⋯ | 35.6 | 40.0 | 16.1 | 96.52324 |  0.4130809 | 0.0000000 |  0.41308090 | 42.70197 |  7.127430 | 60.9 |\n",
       "| 1962.668 |  52 | 181.2 | 453.5494 | 47493 |  19303 | 11.1 |    0.0000 | 6 | 41.7 | ⋯ | 42.3 | 34.5 | 15.6 | 94.50195 |  0.5175241 | 0.2920680 |  0.79934413 | 55.21606 |  6.565531 | 64.8 |\n",
       "| 1962.668 |  16 | 160.3 | 453.5494 | 47599 |   7797 | 15.0 |    0.0000 | 6 | 38.8 | ⋯ | 45.7 | 29.5 | 14.5 | 91.72923 |  3.6900369 | 0.2417610 |  0.08906986 | 55.93438 |  4.685714 | 65.3 |\n",
       "| 1962.668 | 138 | 153.7 | 453.5494 | 49246 | 118053 | 19.4 |  660.7202 | 7 | 28.8 | ⋯ | 55.3 | 19.6 |  8.7 | 84.29288 |  3.9994085 | 4.4073517 |  0.60713074 | 41.84409 |  4.146877 |   NA |\n",
       "| 1962.668 |   9 | 208.3 | 453.5494 | 49256 |   2968 | 10.5 |  673.8544 | 7 | 45.2 | ⋯ | 39.4 | 30.6 | 15.5 | 93.78134 |  0.9027081 | 0.3009027 |  3.44366433 | 55.96546 |  4.210526 | 63.3 |\n",
       "| 1962.668 |  12 | 215.9 | 453.5494 | 36471 |   2605 | 17.4 |    0.0000 | 2 | 50.4 | ⋯ | 36.2 | 45.5 | 20.3 | 94.37197 |  0.7827059 | 0.4099888 |  0.44726053 | 52.14968 |  3.050109 | 56.0 |\n",
       "| 1962.668 |  48 | 146.4 | 453.5494 | 49508 |  29029 | 13.0 |  723.4145 | 7 | 32.2 | ⋯ | 52.9 | 24.3 |  9.5 | 94.29173 |  1.1451040 | 1.3865416 |  1.01403787 | 43.27678 |  3.977583 | 73.1 |\n",
       "| 1962.668 |  15 | 149.6 | 453.5494 | 46961 |   6343 | 12.4 |    0.0000 | 6 | 44.2 | ⋯ | 44.6 | 31.7 | 13.2 | 90.28081 |  3.8377535 | 0.3276131 |  1.70046802 | 51.06383 |  7.773512 | 56.0 |\n",
       "| 1962.668 |  43 | 150.1 | 453.5494 | 48609 |  37118 | 18.8 |  377.1755 | 7 | 30.4 | ⋯ | 48.6 | 28.8 | 17.7 | 75.70625 |  2.3267713 | 4.0449196 | 14.13028842 | 52.00794 |  8.186470 | 74.7 |\n",
       "| 1962.668 |  46 | 153.9 | 453.5494 | 51144 |  34536 | 15.0 | 1968.9599 | 8 | 30.9 | ⋯ | 47.8 | 26.6 | 16.8 | 87.96163 |  2.3131878 | 1.3164717 |  5.68070519 | 55.15395 |  7.809192 | 71.2 |\n",
       "| 1962.668 |  52 | 175.0 | 453.5494 | 50745 |  25609 | 13.3 |    0.0000 | 7 | 39.0 | ⋯ | 49.6 | 29.5 | 14.0 | 92.90568 |  1.1765620 | 0.2446317 |  2.13179047 | 58.48423 |  7.582938 |   NA |\n",
       "| 1962.668 |  48 | 213.6 | 453.5494 | 41193 |  37030 | 13.9 |    0.0000 | 4 | 26.2 | ⋯ | 22.9 | 25.1 | 12.6 | 70.09813 | 16.5900998 | 3.1777530 |  1.35645744 | 56.04024 |  8.981723 | 58.0 |\n",
       "\n"
      ],
      "text/plain": [
       "     avganncount avgdeathsperyear target_deathrate incidencerate medincome\n",
       "1    1397         469             164.9            489.8         61898    \n",
       "2     173          70             161.3            411.6         48127    \n",
       "3     102          50             174.7            349.7         49348    \n",
       "4     427         202             194.8            430.4         44243    \n",
       "5      57          26             144.4            350.1         49955    \n",
       "6     428         152             176.0            505.4         52313    \n",
       "7     250          97             175.9            461.8         37782    \n",
       "8     146          71             183.6            404.0         40189    \n",
       "9      88          36             190.5            459.4         42579    \n",
       "10   4025        1380             177.8            510.9         60397    \n",
       "11    113          36             121.4            413.3         54721    \n",
       "12    740         269             172.7            499.3         51395    \n",
       "13     55          26             188.3            398.9         52673    \n",
       "14   3438        1118             165.3            493.4         71890    \n",
       "15   2265         901             171.0            440.7         50083    \n",
       "16    251         106             174.2            423.8         43823    \n",
       "17   1390         483             169.9            495.9         61653    \n",
       "18     32          12             153.8            463.2         51022    \n",
       "19    305         120             162.8            442.5         49819    \n",
       "20   1081         367             163.3            490.9         53733    \n",
       "21    134          50             140.8            390.5         41837    \n",
       "22    958         403             169.4            411.0         44342    \n",
       "23     94          41             189.7            445.2         35615    \n",
       "24    499         215             206.1            463.1         56737    \n",
       "25    152          70             236.7            501.8         37625    \n",
       "26     80          40             196.3            396.6         33817    \n",
       "27    164          69             186.2            481.6         43572    \n",
       "28    564         237             194.0            483.4         34887    \n",
       "29     50          25             226.5            459.9         32162    \n",
       "30     70          26             212.9            591.0         32961    \n",
       "⋮    ⋮           ⋮                ⋮                ⋮             ⋮        \n",
       "3018   87.000     34              159.3            453.2000      50108    \n",
       "3019 1962.668     36              196.4            453.5494      39196    \n",
       "3020 1962.668     22              174.8            453.5494      45368    \n",
       "3021 1962.668     37              180.2            453.5494      44199    \n",
       "3022 1962.668     15              197.8            453.5494      51676    \n",
       "3023 1962.668     67              178.3            453.5494      46942    \n",
       "3024 1962.668     34              166.6            453.5494      38430    \n",
       "3025 1962.668     26              184.2            453.5494      45781    \n",
       "3026 1962.668    126              175.0            453.5494      60123    \n",
       "3027 1962.668      8              177.8            453.5494      47025    \n",
       "3028 1962.668     13              194.2            453.5494      39120    \n",
       "3029 1962.668      9              150.0            453.5494      41797    \n",
       "3030 1962.668      6              153.7            453.5494      47650    \n",
       "3031 1962.668     24              169.2            453.5494      53131    \n",
       "3032 1962.668     27              178.6            453.5494      42697    \n",
       "3033 1962.668     22              176.6            453.5494      55705    \n",
       "3034 1962.668      7              209.6            453.5494      45353    \n",
       "3035 1962.668     85              184.4            453.5494      45180    \n",
       "3036 1962.668     13              214.7            453.5494      41434    \n",
       "3037 1962.668     52              181.2            453.5494      47493    \n",
       "3038 1962.668     16              160.3            453.5494      47599    \n",
       "3039 1962.668    138              153.7            453.5494      49246    \n",
       "3040 1962.668      9              208.3            453.5494      49256    \n",
       "3041 1962.668     12              215.9            453.5494      36471    \n",
       "3042 1962.668     48              146.4            453.5494      49508    \n",
       "3043 1962.668     15              149.6            453.5494      46961    \n",
       "3044 1962.668     43              150.1            453.5494      48609    \n",
       "3045 1962.668     46              153.9            453.5494      51144    \n",
       "3046 1962.668     52              175.0            453.5494      50745    \n",
       "3047 1962.668     48              213.6            453.5494      41193    \n",
       "     popest2015 povertypercent studypercap binnedinc medianage ⋯\n",
       "1    260131     11.2            499.74820  10        39.3      ⋯\n",
       "2     43269     18.6             23.11123   7        33.0      ⋯\n",
       "3     21026     14.6             47.56016   7        45.0      ⋯\n",
       "4     75882     17.1            342.63725   5        42.8      ⋯\n",
       "5     10321     12.5              0.00000   7        48.3      ⋯\n",
       "6     61023     15.6            180.25990   8        45.4      ⋯\n",
       "7     41516     23.2              0.00000   3        42.6      ⋯\n",
       "8     20848     17.8              0.00000   3        51.7      ⋯\n",
       "9     13088     22.3              0.00000   4        49.3      ⋯\n",
       "10   843954     13.1            427.74843   9        35.8      ⋯\n",
       "11    16252     12.7              0.00000   9        54.4      ⋯\n",
       "12   121846     15.7            837.12227   8        41.0      ⋯\n",
       "13    11339     12.6              0.00000   8        45.2      ⋯\n",
       "14   772501      9.9            138.51115  10        37.6      ⋯\n",
       "15   490945     16.3            462.37359   7        37.2      ⋯\n",
       "16    43791     19.3              0.00000   5        46.2      ⋯\n",
       "17   269536     11.9            207.76445  10        38.5      ⋯\n",
       "18     4042     13.9              0.00000   7        52.1      ⋯\n",
       "19    60338     15.7            464.05250   7        36.9      ⋯\n",
       "20   212284     15.7            249.66554   8        36.5      ⋯\n",
       "21    48177     28.4              0.00000   4        24.2      ⋯\n",
       "22   248830     20.5            301.41060   5        32.5      ⋯\n",
       "23    16704     21.5              0.00000   2        41.5      ⋯\n",
       "24   111901     13.2             89.36471   9        38.4      ⋯\n",
       "25    23372     22.1              0.00000   3        41.9      ⋯\n",
       "26    14415     22.2              0.00000   1        44.5      ⋯\n",
       "27    23350     15.1              0.00000   5        45.9      ⋯\n",
       "28    96844     21.9            330.42832   2        38.5      ⋯\n",
       "29     7470     21.8              0.00000   1        47.0      ⋯\n",
       "30     8910     25.1           4938.27160   1        43.3      ⋯\n",
       "⋮    ⋮          ⋮              ⋮           ⋮         ⋮         ⋱\n",
       "3018  12773     12.0              0.0000   7         44.6      ⋯\n",
       "3019  12717     18.2              0.0000   3         41.2      ⋯\n",
       "3020   7808     14.3              0.0000   6         41.7      ⋯\n",
       "3021  16398     17.4              0.0000   5         35.9      ⋯\n",
       "3022   4823     12.4           1451.3788   8         44.9      ⋯\n",
       "3023  27103     17.8            701.0294   6         39.3      ⋯\n",
       "3024  14712     18.4           4282.2186   3         37.3      ⋯\n",
       "3025   9776     17.3            306.8740   6         42.5      ⋯\n",
       "3026  66741     11.3            973.9141   9         37.8      ⋯\n",
       "3027   2679     13.2              0.0000   6         46.2      ⋯\n",
       "3028   3402     16.4              0.0000   3         49.1      ⋯\n",
       "3029   2679     11.5              0.0000   4         49.6      ⋯\n",
       "3030   2096     13.0              0.0000   6         44.4      ⋯\n",
       "3031   8347     10.9              0.0000   8         42.2      ⋯\n",
       "3032   9219     14.0              0.0000   4         42.3      ⋯\n",
       "3033   8384     10.9              0.0000   9         44.1      ⋯\n",
       "3034   1843     11.4              0.0000   6         45.7      ⋯\n",
       "3035  35788     15.0           1900.0782   5         38.2      ⋯\n",
       "3036   2932     13.9              0.0000   4         52.3      ⋯\n",
       "3037  19303     11.1              0.0000   6         41.7      ⋯\n",
       "3038   7797     15.0              0.0000   6         38.8      ⋯\n",
       "3039 118053     19.4            660.7202   7         28.8      ⋯\n",
       "3040   2968     10.5            673.8544   7         45.2      ⋯\n",
       "3041   2605     17.4              0.0000   2         50.4      ⋯\n",
       "3042  29029     13.0            723.4145   7         32.2      ⋯\n",
       "3043   6343     12.4              0.0000   6         44.2      ⋯\n",
       "3044  37118     18.8            377.1755   7         30.4      ⋯\n",
       "3045  34536     15.0           1968.9599   8         30.9      ⋯\n",
       "3046  25609     13.3              0.0000   7         39.0      ⋯\n",
       "3047  37030     13.9              0.0000   4         26.2      ⋯\n",
       "     pctempprivcoverage pctpubliccoverage pctpubliccoveragealone pctwhite\n",
       "1    41.6               32.9              14.0                   81.78053\n",
       "2    43.6               31.1              15.3                   89.22851\n",
       "3    34.9               42.1              21.1                   90.92219\n",
       "4    35.0               45.3              25.0                   91.74469\n",
       "5    35.1               44.0              22.7                   94.10402\n",
       "6    32.6               43.2              20.2                   84.88263\n",
       "7    28.3               46.4              28.7                   75.10646\n",
       "8    25.9               50.9              24.1                   89.40664\n",
       "9    29.9               48.1              26.6                   91.78748\n",
       "10   44.4               31.4              16.5                   74.72967\n",
       "11   27.9               41.6              18.3                   92.57333\n",
       "12   38.0               38.1              20.2                   85.59027\n",
       "13   42.6               36.1              20.5                   93.41813\n",
       "14   54.3               25.9              14.1                   78.83274\n",
       "15   42.5               36.5              21.4                   89.03817\n",
       "16   33.9               45.8              24.1                   89.17746\n",
       "17   43.5               30.7              13.7                   82.58622\n",
       "18   35.2               49.7              20.4                   92.96159\n",
       "19   40.0               38.0              18.8                   86.23882\n",
       "20   44.8               31.9              17.4                   85.47030\n",
       "21   53.8               22.9              11.9                   83.58260\n",
       "22   30.8               35.7              22.4                   78.02052\n",
       "23   36.5               44.8              26.4                   96.84418\n",
       "24   49.7               33.1              17.3                   87.80122\n",
       "25   41.3               46.3              25.4                   98.31250\n",
       "26   38.9               43.4              25.4                   97.91235\n",
       "27   46.4               39.7              19.4                   96.81809\n",
       "28   44.4               39.0              21.7                   91.06936\n",
       "29   35.1               46.0              25.2                   98.25328\n",
       "30   32.6               52.0              32.5                   98.04179\n",
       "⋮    ⋮                  ⋮                 ⋮                      ⋮       \n",
       "3018 43.7               38.3              17.3                   94.67378\n",
       "3019 42.7               37.7              19.6                   93.46380\n",
       "3020 33.9               37.6              16.9                   95.14944\n",
       "3021 46.0               32.0              15.6                   90.57296\n",
       "3022 40.3               34.3              14.1                   95.95388\n",
       "3023 42.4               34.0              17.6                   91.89021\n",
       "3024 43.8               37.0              20.5                   93.07994\n",
       "3025 41.0               37.9              18.8                   86.00202\n",
       "3026 55.1               26.5              12.7                   93.56654\n",
       "3027 44.3               35.3              14.0                   95.77517\n",
       "3028 34.2               43.2              20.1                   88.38068\n",
       "3029 39.3               33.5               9.7                   94.70544\n",
       "3030 52.4               29.5              13.1                   91.65501\n",
       "3031 43.3               33.8              12.2                   96.71060\n",
       "3032 41.7               34.4              14.7                   94.96734\n",
       "3033 50.2               32.1              14.6                   96.16931\n",
       "3034 43.9               32.2               9.2                   97.96020\n",
       "3035 46.2               34.4              17.4                   87.71862\n",
       "3036 35.6               40.0              16.1                   96.52324\n",
       "3037 42.3               34.5              15.6                   94.50195\n",
       "3038 45.7               29.5              14.5                   91.72923\n",
       "3039 55.3               19.6               8.7                   84.29288\n",
       "3040 39.4               30.6              15.5                   93.78134\n",
       "3041 36.2               45.5              20.3                   94.37197\n",
       "3042 52.9               24.3               9.5                   94.29173\n",
       "3043 44.6               31.7              13.2                   90.28081\n",
       "3044 48.6               28.8              17.7                   75.70625\n",
       "3045 47.8               26.6              16.8                   87.96163\n",
       "3046 49.6               29.5              14.0                   92.90568\n",
       "3047 22.9               25.1              12.6                   70.09813\n",
       "     pctblack   pctasian   pctotherrace pctmarriedhouseholds birthrate over16\n",
       "1    2.59472833 4.82185710  1.84347853  52.85608             6.1188310 59.9  \n",
       "2    0.96910246 2.24623259  3.74135153  45.37250             4.3330956 63.7  \n",
       "3    0.73967339 0.46589818  2.74735831  54.44487             3.7294878 52.9  \n",
       "4    0.78262597 1.16135867  1.36264318  51.02151             4.6038408 60.4  \n",
       "5    0.27019203 0.66583036  0.49213548  54.02746             6.7966574 53.0  \n",
       "6    1.65320524 1.53805662  3.31463539  51.22036             4.9644760 57.0  \n",
       "7    0.61695539 0.86615697  8.35672118  51.01390             4.2043173 60.7  \n",
       "8    0.30515863 1.88907726  2.28626786  48.96703             5.8891790 49.8  \n",
       "9    0.18507094 0.20820481  0.61690315  53.44700             5.5875831 49.8  \n",
       "10   6.71085416 6.04147201  2.69918438  50.06357             5.5334302 65.8  \n",
       "11   0.65179243 1.42892956  2.23740286  50.03892             4.5861298 60.5  \n",
       "12   0.80607995 1.88783590  6.22659058  52.93733             5.8181533   NA  \n",
       "13   0.84497020 0.97838655  0.77381482  52.94772             4.8055920 59.8  \n",
       "14   2.59585109 9.51151338  2.25271980  52.72050             4.7292511 69.6  \n",
       "15   1.82704146 2.31598563  1.03362505  48.18838             5.3558359 63.5  \n",
       "16   0.48911546 0.60393129  0.86571140  55.21240             3.6310821 55.7  \n",
       "17   2.83987317 5.83580425  1.22638673  50.87449             5.1801552 65.0  \n",
       "18   0.12391574 1.14002478  0.00000000  53.37995             0.5354752 46.3  \n",
       "19   1.64919800 1.61738606  5.63573653  49.32706             4.1387109 60.9  \n",
       "20   0.88073395 3.92515693  2.42588122  48.06875             4.4729858 66.0  \n",
       "21   2.15460984 7.61495175  1.61542247  40.55405             3.3041590 62.2  \n",
       "22   0.84273750 1.08969799 12.95026838  50.66898             6.5606117 65.0  \n",
       "23   0.83677007 0.37654653  0.02988465  55.28886             2.2928609 55.5  \n",
       "24   7.33324749 1.05220559  0.90596372  51.52351             4.8724681 68.4  \n",
       "25   0.67500000 0.09166667  0.12916667  53.06379             4.2202877 48.7  \n",
       "26   0.49771879 0.00000000  0.00000000  53.27269             5.4690204 58.7  \n",
       "27   1.74519332 0.51552926  0.06338475  47.58724             4.9705305 58.3  \n",
       "28   4.81802033 1.18978766  0.22824919  40.76502             4.5219251 57.1  \n",
       "29   0.09262935 0.05293106  0.02646553  53.33333             4.7801147 58.0  \n",
       "30   0.00000000 0.00000000  0.04375889  58.09249             8.7530562 51.9  \n",
       "⋮    ⋮          ⋮          ⋮            ⋮                    ⋮         ⋮     \n",
       "3018  0.3787879 0.5024737   2.83704391  51.02821              6.486942 64.5  \n",
       "3019  1.7047626 0.5121933   0.59628469  48.20957              8.708822 63.7  \n",
       "3020  0.1139818 0.0000000   0.00000000  55.73171              8.419023 64.9  \n",
       "3021  4.0942704 0.3366801   0.40281368  47.10757              6.012885 64.6  \n",
       "3022  0.3354298 0.4612159   0.25157233  57.39525              8.417508 65.2  \n",
       "3023  1.7007920 0.1788386   3.93080039  50.09729              7.120636 68.2  \n",
       "3024  3.5241696 0.8709155   0.14852822  52.63251             12.159893 60.3  \n",
       "3025  1.7510121 0.5668016   0.16194332  50.87762              7.974482 64.8  \n",
       "3026  2.0426073 0.9395993   0.40095624  57.05104              5.706173 67.2  \n",
       "3027  0.8817046 0.0000000   0.44085231  51.44144              5.031447 57.0  \n",
       "3028  0.5681818 0.0000000   0.00000000  53.43610              2.613240 57.8  \n",
       "3029  0.0000000 1.1558538   3.24384788  52.77338             10.775862 61.6  \n",
       "3030  1.0256410 0.7459207   1.72494173  50.48544              6.746988 63.2  \n",
       "3031  0.6056288 0.5462534   0.20187626  59.69796              6.744329 65.1  \n",
       "3032  0.4283114 0.8137916   1.76678445  45.56004              7.082002 65.7  \n",
       "3033  0.7803263 0.6384488   0.10640813  55.11348              7.435159 67.2  \n",
       "3034  0.0000000 0.5472637   0.99502488  57.78061              4.664723 68.6  \n",
       "3035  3.1680479 1.6103551   1.89306799  50.73057              7.404551 62.4  \n",
       "3036  0.4130809 0.0000000   0.41308090  42.70197              7.127430 60.9  \n",
       "3037  0.5175241 0.2920680   0.79934413  55.21606              6.565531 64.8  \n",
       "3038  3.6900369 0.2417610   0.08906986  55.93438              4.685714 65.3  \n",
       "3039  3.9994085 4.4073517   0.60713074  41.84409              4.146877   NA  \n",
       "3040  0.9027081 0.3009027   3.44366433  55.96546              4.210526 63.3  \n",
       "3041  0.7827059 0.4099888   0.44726053  52.14968              3.050109 56.0  \n",
       "3042  1.1451040 1.3865416   1.01403787  43.27678              3.977583 73.1  \n",
       "3043  3.8377535 0.3276131   1.70046802  51.06383              7.773512 56.0  \n",
       "3044  2.3267713 4.0449196  14.13028842  52.00794              8.186470 74.7  \n",
       "3045  2.3131878 1.3164717   5.68070519  55.15395              7.809192 71.2  \n",
       "3046  1.1765620 0.2446317   2.13179047  58.48423              7.582938   NA  \n",
       "3047 16.5900998 3.1777530   1.35645744  56.04024              8.981723 58.0  "
      ]
     },
     "metadata": {},
     "output_type": "display_data"
    }
   ],
   "source": [
    "data"
   ]
  },
  {
   "cell_type": "code",
   "execution_count": 45,
   "id": "fa576027",
   "metadata": {
    "vscode": {
     "languageId": "r"
    }
   },
   "outputs": [
    {
     "name": "stdout",
     "output_type": "stream",
     "text": [
      "[1] \"target_deathrate\"       \"incidencerate\"          \"medincome\"             \n",
      "[4] \"povertypercent\"         \"binnedinc\"              \"pcths25_over\"          \n",
      "[7] \"pctbachdeg25_over\"      \"pctpubliccoverage\"      \"pctpubliccoveragealone\"\n"
     ]
    },
    {
     "name": "stdout",
     "output_type": "stream",
     "text": [
      "                       target_deathrate incidencerate    medincome\n",
      "target_deathrate              1.0000000   0.449431698 -0.428614927\n",
      "incidencerate                 0.4494317   1.000000000 -0.001036186\n",
      "medincome                    -0.4286149  -0.001036186  1.000000000\n",
      "povertypercent                0.4293890   0.009046252 -0.788965239\n",
      "binnedinc                    -0.4445743   0.013893127  0.902273145\n",
      "pcths25_over                  0.4045891   0.121724595 -0.471348267\n",
      "pctbachdeg25_over            -0.4854773  -0.038177165  0.704928245\n",
      "pctpubliccoverage             0.4045717   0.046108610 -0.754821751\n",
      "pctpubliccoveragealone        0.4493576   0.040812287 -0.719756152\n",
      "                       povertypercent   binnedinc pcths25_over\n",
      "target_deathrate          0.429388980 -0.44457426    0.4045891\n",
      "incidencerate             0.009046252  0.01389313    0.1217246\n",
      "medincome                -0.788965239  0.90227315   -0.4713483\n",
      "povertypercent            1.000000000 -0.83685543    0.1943612\n",
      "binnedinc                -0.836855426  1.00000000   -0.4016506\n",
      "pcths25_over              0.194361157 -0.40165061    1.0000000\n",
      "pctbachdeg25_over        -0.531599691  0.64956654   -0.7406112\n",
      "pctpubliccoverage         0.651162060 -0.75508180    0.4279738\n",
      "pctpubliccoveragealone    0.798642030 -0.74866960    0.2971434\n",
      "                       pctbachdeg25_over pctpubliccoverage\n",
      "target_deathrate             -0.48547732        0.40457166\n",
      "incidencerate                -0.03817717        0.04610861\n",
      "medincome                     0.70492824       -0.75482175\n",
      "povertypercent               -0.53159969        0.65116206\n",
      "binnedinc                     0.64956654       -0.75508180\n",
      "pcths25_over                 -0.74061122        0.42797377\n",
      "pctbachdeg25_over             1.00000000       -0.63609480\n",
      "pctpubliccoverage            -0.63609480        1.00000000\n",
      "pctpubliccoveragealone       -0.60575990        0.86583279\n",
      "                       pctpubliccoveragealone\n",
      "target_deathrate                   0.44935758\n",
      "incidencerate                      0.04081229\n",
      "medincome                         -0.71975615\n",
      "povertypercent                     0.79864203\n",
      "binnedinc                         -0.74866960\n",
      "pcths25_over                       0.29714338\n",
      "pctbachdeg25_over                 -0.60575990\n",
      "pctpubliccoverage                  0.86583279\n",
      "pctpubliccoveragealone             1.00000000\n"
     ]
    },
    {
     "data": {
      "image/png": "[encoded data removed]",
      "text/plain": [
       "Plot with title \"\""
      ]
     },
     "metadata": {
      "image/png": {
       "height": 420,
       "width": 420
      }
     },
     "output_type": "display_data"
    }
   ],
   "source": [
    "# Asumiendo que 'datos' es tu data frame\n",
    "matriz_correlacion <- cor(data, use = \"pairwise.complete.obs\", method = \"pearson\")\n",
    "\n",
    "# Seleccionamos un Umbral de correlación\n",
    "umbral <- 0.4\n",
    "\n",
    "#print(matriz_correlacion)\n",
    "# Obtener los nombres de las variables con correlación por encima del umbral con la variable objetivo\n",
    "variables_relevantes <- names(which(abs(matriz_correlacion['target_deathrate',]) >= umbral))\n",
    "\n",
    "print(variables_relevantes)\n",
    "\n",
    "# Seleccionar las columnas relevantes en el dataframe\n",
    "df_filtrado <- data[, variables_relevantes]\n",
    "\n",
    "matriz_correlacion <- cor(df_filtrado, use = \"pairwise.complete.obs\", method = \"pearson\")\n",
    "\n",
    "par(cex = 1.2)\n",
    "\n",
    "corrplot(matriz_correlacion, method = \"color\",addCoef.col = \"black\", tl.cex = 0.8, number.cex = 0.6)\n",
    "print(matriz_correlacion)"
   ]
  },
  {
   "cell_type": "code",
   "execution_count": 46,
   "id": "d5f4a91e",
   "metadata": {
    "vscode": {
     "languageId": "r"
    }
   },
   "outputs": [
    {
     "name": "stderr",
     "output_type": "stream",
     "text": [
      "Registered S3 method overwritten by 'GGally':\n",
      "  method from   \n",
      "  +.gg   ggplot2\n",
      "\n"
     ]
    }
   ],
   "source": [
    "library(GGally)"
   ]
  },
  {
   "cell_type": "code",
   "execution_count": 50,
   "id": "6943d1d5",
   "metadata": {
    "vscode": {
     "languageId": "r"
    }
   },
   "outputs": [],
   "source": [
    "options(repr.plot.width=15, repr.plot.height=15)"
   ]
  },
  {
   "cell_type": "code",
   "execution_count": 51,
   "id": "67ed754b",
   "metadata": {
    "vscode": {
     "languageId": "r"
    }
   },
   "outputs": [
    {
     "data": {
      "image/png": "[encoded data removed]",
      "text/plain": [
       "plot without title"
      ]
     },
     "metadata": {
      "image/png": {
       "height": 900,
       "width": 900
      }
     },
     "output_type": "display_data"
    }
   ],
   "source": [
    "#Hacemos un pairplot para entender las relaciones que tenemos\n",
    "ggpairs(df_filtrado)"
   ]
  },
  {
   "cell_type": "markdown",
   "id": "e46aca6d",
   "metadata": {},
   "source": [
    "Viendo este analálisis pues, vemos que la variable que mejor se ajusta es \"incidencerate\", que además tiene todo el sentido del mundo, ya que es el índice de casos diagnosticados por cancer. Con la misma correlación con nuestra variable objetivo, encontramos otra variable \"pctpubliccoveragealone\", y vemos como tambiñen se genera una nube de puntos y es que tiene sentido puesto que al ser un país principalmente capitalista, en estados unidos la salud que pueda proporcionar el gobierno es pagando, por lo tanto, si tienes cancer los tratamientos no todo el mundo se los pueda permitir, así pues esto acabe en un fallecimiento. Cogeremos las dos, y las analizaremos con detalle.\n",
    "\n"
   ]
  },
  {
   "cell_type": "code",
   "execution_count": 52,
   "id": "32be33a5",
   "metadata": {
    "vscode": {
     "languageId": "r"
    }
   },
   "outputs": [
    {
     "data": {
      "text/html": [
       "<table class=\"dataframe\">\n",
       "<caption>A data.frame: 3047 × 3</caption>\n",
       "<thead>\n",
       "\t<tr><th scope=col>target_deathrate</th><th scope=col>incidencerate</th><th scope=col>pctpubliccoveragealone</th></tr>\n",
       "\t<tr><th scope=col>&lt;dbl&gt;</th><th scope=col>&lt;dbl&gt;</th><th scope=col>&lt;dbl&gt;</th></tr>\n",
       "</thead>\n",
       "<tbody>\n",
       "\t<tr><td>164.9</td><td>489.8</td><td>14.0</td></tr>\n",
       "\t<tr><td>161.3</td><td>411.6</td><td>15.3</td></tr>\n",
       "\t<tr><td>174.7</td><td>349.7</td><td>21.1</td></tr>\n",
       "\t<tr><td>194.8</td><td>430.4</td><td>25.0</td></tr>\n",
       "\t<tr><td>144.4</td><td>350.1</td><td>22.7</td></tr>\n",
       "\t<tr><td>176.0</td><td>505.4</td><td>20.2</td></tr>\n",
       "\t<tr><td>175.9</td><td>461.8</td><td>28.7</td></tr>\n",
       "\t<tr><td>183.6</td><td>404.0</td><td>24.1</td></tr>\n",
       "\t<tr><td>190.5</td><td>459.4</td><td>26.6</td></tr>\n",
       "\t<tr><td>177.8</td><td>510.9</td><td>16.5</td></tr>\n",
       "\t<tr><td>121.4</td><td>413.3</td><td>18.3</td></tr>\n",
       "\t<tr><td>172.7</td><td>499.3</td><td>20.2</td></tr>\n",
       "\t<tr><td>188.3</td><td>398.9</td><td>20.5</td></tr>\n",
       "\t<tr><td>165.3</td><td>493.4</td><td>14.1</td></tr>\n",
       "\t<tr><td>171.0</td><td>440.7</td><td>21.4</td></tr>\n",
       "\t<tr><td>174.2</td><td>423.8</td><td>24.1</td></tr>\n",
       "\t<tr><td>169.9</td><td>495.9</td><td>13.7</td></tr>\n",
       "\t<tr><td>153.8</td><td>463.2</td><td>20.4</td></tr>\n",
       "\t<tr><td>162.8</td><td>442.5</td><td>18.8</td></tr>\n",
       "\t<tr><td>163.3</td><td>490.9</td><td>17.4</td></tr>\n",
       "\t<tr><td>140.8</td><td>390.5</td><td>11.9</td></tr>\n",
       "\t<tr><td>169.4</td><td>411.0</td><td>22.4</td></tr>\n",
       "\t<tr><td>189.7</td><td>445.2</td><td>26.4</td></tr>\n",
       "\t<tr><td>206.1</td><td>463.1</td><td>17.3</td></tr>\n",
       "\t<tr><td>236.7</td><td>501.8</td><td>25.4</td></tr>\n",
       "\t<tr><td>196.3</td><td>396.6</td><td>25.4</td></tr>\n",
       "\t<tr><td>186.2</td><td>481.6</td><td>19.4</td></tr>\n",
       "\t<tr><td>194.0</td><td>483.4</td><td>21.7</td></tr>\n",
       "\t<tr><td>226.5</td><td>459.9</td><td>25.2</td></tr>\n",
       "\t<tr><td>212.9</td><td>591.0</td><td>32.5</td></tr>\n",
       "\t<tr><td>⋮</td><td>⋮</td><td>⋮</td></tr>\n",
       "\t<tr><td>159.3</td><td>453.2000</td><td>17.3</td></tr>\n",
       "\t<tr><td>196.4</td><td>453.5494</td><td>19.6</td></tr>\n",
       "\t<tr><td>174.8</td><td>453.5494</td><td>16.9</td></tr>\n",
       "\t<tr><td>180.2</td><td>453.5494</td><td>15.6</td></tr>\n",
       "\t<tr><td>197.8</td><td>453.5494</td><td>14.1</td></tr>\n",
       "\t<tr><td>178.3</td><td>453.5494</td><td>17.6</td></tr>\n",
       "\t<tr><td>166.6</td><td>453.5494</td><td>20.5</td></tr>\n",
       "\t<tr><td>184.2</td><td>453.5494</td><td>18.8</td></tr>\n",
       "\t<tr><td>175.0</td><td>453.5494</td><td>12.7</td></tr>\n",
       "\t<tr><td>177.8</td><td>453.5494</td><td>14.0</td></tr>\n",
       "\t<tr><td>194.2</td><td>453.5494</td><td>20.1</td></tr>\n",
       "\t<tr><td>150.0</td><td>453.5494</td><td> 9.7</td></tr>\n",
       "\t<tr><td>153.7</td><td>453.5494</td><td>13.1</td></tr>\n",
       "\t<tr><td>169.2</td><td>453.5494</td><td>12.2</td></tr>\n",
       "\t<tr><td>178.6</td><td>453.5494</td><td>14.7</td></tr>\n",
       "\t<tr><td>176.6</td><td>453.5494</td><td>14.6</td></tr>\n",
       "\t<tr><td>209.6</td><td>453.5494</td><td> 9.2</td></tr>\n",
       "\t<tr><td>184.4</td><td>453.5494</td><td>17.4</td></tr>\n",
       "\t<tr><td>214.7</td><td>453.5494</td><td>16.1</td></tr>\n",
       "\t<tr><td>181.2</td><td>453.5494</td><td>15.6</td></tr>\n",
       "\t<tr><td>160.3</td><td>453.5494</td><td>14.5</td></tr>\n",
       "\t<tr><td>153.7</td><td>453.5494</td><td> 8.7</td></tr>\n",
       "\t<tr><td>208.3</td><td>453.5494</td><td>15.5</td></tr>\n",
       "\t<tr><td>215.9</td><td>453.5494</td><td>20.3</td></tr>\n",
       "\t<tr><td>146.4</td><td>453.5494</td><td> 9.5</td></tr>\n",
       "\t<tr><td>149.6</td><td>453.5494</td><td>13.2</td></tr>\n",
       "\t<tr><td>150.1</td><td>453.5494</td><td>17.7</td></tr>\n",
       "\t<tr><td>153.9</td><td>453.5494</td><td>16.8</td></tr>\n",
       "\t<tr><td>175.0</td><td>453.5494</td><td>14.0</td></tr>\n",
       "\t<tr><td>213.6</td><td>453.5494</td><td>12.6</td></tr>\n",
       "</tbody>\n",
       "</table>\n"
      ],
      "text/latex": [
       "A data.frame: 3047 × 3\n",
       "\\begin{tabular}{lll}\n",
       " target\\_deathrate & incidencerate & pctpubliccoveragealone\\\\\n",
       " <dbl> & <dbl> & <dbl>\\\\\n",
       "\\hline\n",
       "\t 164.9 & 489.8 & 14.0\\\\\n",
       "\t 161.3 & 411.6 & 15.3\\\\\n",
       "\t 174.7 & 349.7 & 21.1\\\\\n",
       "\t 194.8 & 430.4 & 25.0\\\\\n",
       "\t 144.4 & 350.1 & 22.7\\\\\n",
       "\t 176.0 & 505.4 & 20.2\\\\\n",
       "\t 175.9 & 461.8 & 28.7\\\\\n",
       "\t 183.6 & 404.0 & 24.1\\\\\n",
       "\t 190.5 & 459.4 & 26.6\\\\\n",
       "\t 177.8 & 510.9 & 16.5\\\\\n",
       "\t 121.4 & 413.3 & 18.3\\\\\n",
       "\t 172.7 & 499.3 & 20.2\\\\\n",
       "\t 188.3 & 398.9 & 20.5\\\\\n",
       "\t 165.3 & 493.4 & 14.1\\\\\n",
       "\t 171.0 & 440.7 & 21.4\\\\\n",
       "\t 174.2 & 423.8 & 24.1\\\\\n",
       "\t 169.9 & 495.9 & 13.7\\\\\n",
       "\t 153.8 & 463.2 & 20.4\\\\\n",
       "\t 162.8 & 442.5 & 18.8\\\\\n",
       "\t 163.3 & 490.9 & 17.4\\\\\n",
       "\t 140.8 & 390.5 & 11.9\\\\\n",
       "\t 169.4 & 411.0 & 22.4\\\\\n",
       "\t 189.7 & 445.2 & 26.4\\\\\n",
       "\t 206.1 & 463.1 & 17.3\\\\\n",
       "\t 236.7 & 501.8 & 25.4\\\\\n",
       "\t 196.3 & 396.6 & 25.4\\\\\n",
       "\t 186.2 & 481.6 & 19.4\\\\\n",
       "\t 194.0 & 483.4 & 21.7\\\\\n",
       "\t 226.5 & 459.9 & 25.2\\\\\n",
       "\t 212.9 & 591.0 & 32.5\\\\\n",
       "\t ⋮ & ⋮ & ⋮\\\\\n",
       "\t 159.3 & 453.2000 & 17.3\\\\\n",
       "\t 196.4 & 453.5494 & 19.6\\\\\n",
       "\t 174.8 & 453.5494 & 16.9\\\\\n",
       "\t 180.2 & 453.5494 & 15.6\\\\\n",
       "\t 197.8 & 453.5494 & 14.1\\\\\n",
       "\t 178.3 & 453.5494 & 17.6\\\\\n",
       "\t 166.6 & 453.5494 & 20.5\\\\\n",
       "\t 184.2 & 453.5494 & 18.8\\\\\n",
       "\t 175.0 & 453.5494 & 12.7\\\\\n",
       "\t 177.8 & 453.5494 & 14.0\\\\\n",
       "\t 194.2 & 453.5494 & 20.1\\\\\n",
       "\t 150.0 & 453.5494 &  9.7\\\\\n",
       "\t 153.7 & 453.5494 & 13.1\\\\\n",
       "\t 169.2 & 453.5494 & 12.2\\\\\n",
       "\t 178.6 & 453.5494 & 14.7\\\\\n",
       "\t 176.6 & 453.5494 & 14.6\\\\\n",
       "\t 209.6 & 453.5494 &  9.2\\\\\n",
       "\t 184.4 & 453.5494 & 17.4\\\\\n",
       "\t 214.7 & 453.5494 & 16.1\\\\\n",
       "\t 181.2 & 453.5494 & 15.6\\\\\n",
       "\t 160.3 & 453.5494 & 14.5\\\\\n",
       "\t 153.7 & 453.5494 &  8.7\\\\\n",
       "\t 208.3 & 453.5494 & 15.5\\\\\n",
       "\t 215.9 & 453.5494 & 20.3\\\\\n",
       "\t 146.4 & 453.5494 &  9.5\\\\\n",
       "\t 149.6 & 453.5494 & 13.2\\\\\n",
       "\t 150.1 & 453.5494 & 17.7\\\\\n",
       "\t 153.9 & 453.5494 & 16.8\\\\\n",
       "\t 175.0 & 453.5494 & 14.0\\\\\n",
       "\t 213.6 & 453.5494 & 12.6\\\\\n",
       "\\end{tabular}\n"
      ],
      "text/markdown": [
       "\n",
       "A data.frame: 3047 × 3\n",
       "\n",
       "| target_deathrate &lt;dbl&gt; | incidencerate &lt;dbl&gt; | pctpubliccoveragealone &lt;dbl&gt; |\n",
       "|---|---|---|\n",
       "| 164.9 | 489.8 | 14.0 |\n",
       "| 161.3 | 411.6 | 15.3 |\n",
       "| 174.7 | 349.7 | 21.1 |\n",
       "| 194.8 | 430.4 | 25.0 |\n",
       "| 144.4 | 350.1 | 22.7 |\n",
       "| 176.0 | 505.4 | 20.2 |\n",
       "| 175.9 | 461.8 | 28.7 |\n",
       "| 183.6 | 404.0 | 24.1 |\n",
       "| 190.5 | 459.4 | 26.6 |\n",
       "| 177.8 | 510.9 | 16.5 |\n",
       "| 121.4 | 413.3 | 18.3 |\n",
       "| 172.7 | 499.3 | 20.2 |\n",
       "| 188.3 | 398.9 | 20.5 |\n",
       "| 165.3 | 493.4 | 14.1 |\n",
       "| 171.0 | 440.7 | 21.4 |\n",
       "| 174.2 | 423.8 | 24.1 |\n",
       "| 169.9 | 495.9 | 13.7 |\n",
       "| 153.8 | 463.2 | 20.4 |\n",
       "| 162.8 | 442.5 | 18.8 |\n",
       "| 163.3 | 490.9 | 17.4 |\n",
       "| 140.8 | 390.5 | 11.9 |\n",
       "| 169.4 | 411.0 | 22.4 |\n",
       "| 189.7 | 445.2 | 26.4 |\n",
       "| 206.1 | 463.1 | 17.3 |\n",
       "| 236.7 | 501.8 | 25.4 |\n",
       "| 196.3 | 396.6 | 25.4 |\n",
       "| 186.2 | 481.6 | 19.4 |\n",
       "| 194.0 | 483.4 | 21.7 |\n",
       "| 226.5 | 459.9 | 25.2 |\n",
       "| 212.9 | 591.0 | 32.5 |\n",
       "| ⋮ | ⋮ | ⋮ |\n",
       "| 159.3 | 453.2000 | 17.3 |\n",
       "| 196.4 | 453.5494 | 19.6 |\n",
       "| 174.8 | 453.5494 | 16.9 |\n",
       "| 180.2 | 453.5494 | 15.6 |\n",
       "| 197.8 | 453.5494 | 14.1 |\n",
       "| 178.3 | 453.5494 | 17.6 |\n",
       "| 166.6 | 453.5494 | 20.5 |\n",
       "| 184.2 | 453.5494 | 18.8 |\n",
       "| 175.0 | 453.5494 | 12.7 |\n",
       "| 177.8 | 453.5494 | 14.0 |\n",
       "| 194.2 | 453.5494 | 20.1 |\n",
       "| 150.0 | 453.5494 |  9.7 |\n",
       "| 153.7 | 453.5494 | 13.1 |\n",
       "| 169.2 | 453.5494 | 12.2 |\n",
       "| 178.6 | 453.5494 | 14.7 |\n",
       "| 176.6 | 453.5494 | 14.6 |\n",
       "| 209.6 | 453.5494 |  9.2 |\n",
       "| 184.4 | 453.5494 | 17.4 |\n",
       "| 214.7 | 453.5494 | 16.1 |\n",
       "| 181.2 | 453.5494 | 15.6 |\n",
       "| 160.3 | 453.5494 | 14.5 |\n",
       "| 153.7 | 453.5494 |  8.7 |\n",
       "| 208.3 | 453.5494 | 15.5 |\n",
       "| 215.9 | 453.5494 | 20.3 |\n",
       "| 146.4 | 453.5494 |  9.5 |\n",
       "| 149.6 | 453.5494 | 13.2 |\n",
       "| 150.1 | 453.5494 | 17.7 |\n",
       "| 153.9 | 453.5494 | 16.8 |\n",
       "| 175.0 | 453.5494 | 14.0 |\n",
       "| 213.6 | 453.5494 | 12.6 |\n",
       "\n"
      ],
      "text/plain": [
       "     target_deathrate incidencerate pctpubliccoveragealone\n",
       "1    164.9            489.8         14.0                  \n",
       "2    161.3            411.6         15.3                  \n",
       "3    174.7            349.7         21.1                  \n",
       "4    194.8            430.4         25.0                  \n",
       "5    144.4            350.1         22.7                  \n",
       "6    176.0            505.4         20.2                  \n",
       "7    175.9            461.8         28.7                  \n",
       "8    183.6            404.0         24.1                  \n",
       "9    190.5            459.4         26.6                  \n",
       "10   177.8            510.9         16.5                  \n",
       "11   121.4            413.3         18.3                  \n",
       "12   172.7            499.3         20.2                  \n",
       "13   188.3            398.9         20.5                  \n",
       "14   165.3            493.4         14.1                  \n",
       "15   171.0            440.7         21.4                  \n",
       "16   174.2            423.8         24.1                  \n",
       "17   169.9            495.9         13.7                  \n",
       "18   153.8            463.2         20.4                  \n",
       "19   162.8            442.5         18.8                  \n",
       "20   163.3            490.9         17.4                  \n",
       "21   140.8            390.5         11.9                  \n",
       "22   169.4            411.0         22.4                  \n",
       "23   189.7            445.2         26.4                  \n",
       "24   206.1            463.1         17.3                  \n",
       "25   236.7            501.8         25.4                  \n",
       "26   196.3            396.6         25.4                  \n",
       "27   186.2            481.6         19.4                  \n",
       "28   194.0            483.4         21.7                  \n",
       "29   226.5            459.9         25.2                  \n",
       "30   212.9            591.0         32.5                  \n",
       "⋮    ⋮                ⋮             ⋮                     \n",
       "3018 159.3            453.2000      17.3                  \n",
       "3019 196.4            453.5494      19.6                  \n",
       "3020 174.8            453.5494      16.9                  \n",
       "3021 180.2            453.5494      15.6                  \n",
       "3022 197.8            453.5494      14.1                  \n",
       "3023 178.3            453.5494      17.6                  \n",
       "3024 166.6            453.5494      20.5                  \n",
       "3025 184.2            453.5494      18.8                  \n",
       "3026 175.0            453.5494      12.7                  \n",
       "3027 177.8            453.5494      14.0                  \n",
       "3028 194.2            453.5494      20.1                  \n",
       "3029 150.0            453.5494       9.7                  \n",
       "3030 153.7            453.5494      13.1                  \n",
       "3031 169.2            453.5494      12.2                  \n",
       "3032 178.6            453.5494      14.7                  \n",
       "3033 176.6            453.5494      14.6                  \n",
       "3034 209.6            453.5494       9.2                  \n",
       "3035 184.4            453.5494      17.4                  \n",
       "3036 214.7            453.5494      16.1                  \n",
       "3037 181.2            453.5494      15.6                  \n",
       "3038 160.3            453.5494      14.5                  \n",
       "3039 153.7            453.5494       8.7                  \n",
       "3040 208.3            453.5494      15.5                  \n",
       "3041 215.9            453.5494      20.3                  \n",
       "3042 146.4            453.5494       9.5                  \n",
       "3043 149.6            453.5494      13.2                  \n",
       "3044 150.1            453.5494      17.7                  \n",
       "3045 153.9            453.5494      16.8                  \n",
       "3046 175.0            453.5494      14.0                  \n",
       "3047 213.6            453.5494      12.6                  "
      ]
     },
     "metadata": {},
     "output_type": "display_data"
    }
   ],
   "source": [
    "mydf <- select(df_filtrado, c(target_deathrate,incidencerate, pctpubliccoveragealone))\n",
    "mydf"
   ]
  },
  {
   "cell_type": "code",
   "execution_count": 53,
   "id": "d4b08126",
   "metadata": {
    "vscode": {
     "languageId": "r"
    }
   },
   "outputs": [
    {
     "data": {
      "text/html": [
       "<style>\n",
       ".dl-inline {width: auto; margin:0; padding: 0}\n",
       ".dl-inline>dt, .dl-inline>dd {float: none; width: auto; display: inline-block}\n",
       ".dl-inline>dt::after {content: \":\\0020\"; padding-right: .5ex}\n",
       ".dl-inline>dt:not(:first-of-type) {padding-left: .5ex}\n",
       "</style><dl class=dl-inline><dt>target_deathrate</dt><dd>0</dd><dt>incidencerate</dt><dd>0</dd><dt>pctpubliccoveragealone</dt><dd>0</dd></dl>\n"
      ],
      "text/latex": [
       "\\begin{description*}\n",
       "\\item[target\\textbackslash{}\\_deathrate] 0\n",
       "\\item[incidencerate] 0\n",
       "\\item[pctpubliccoveragealone] 0\n",
       "\\end{description*}\n"
      ],
      "text/markdown": [
       "target_deathrate\n",
       ":   0incidencerate\n",
       ":   0pctpubliccoveragealone\n",
       ":   0\n",
       "\n"
      ],
      "text/plain": [
       "      target_deathrate          incidencerate pctpubliccoveragealone \n",
       "                     0                      0                      0 "
      ]
     },
     "metadata": {},
     "output_type": "display_data"
    }
   ],
   "source": [
    "#miramos si tenemos nulos\n",
    "colSums(is.na(mydf))"
   ]
  },
  {
   "cell_type": "code",
   "execution_count": 61,
   "id": "ea4900c4",
   "metadata": {
    "vscode": {
     "languageId": "r"
    }
   },
   "outputs": [
    {
     "data": {
      "text/html": [
       "<table class=\"dataframe\">\n",
       "<caption>A psych: 3 × 13</caption>\n",
       "<thead>\n",
       "\t<tr><th></th><th scope=col>vars</th><th scope=col>n</th><th scope=col>mean</th><th scope=col>sd</th><th scope=col>median</th><th scope=col>trimmed</th><th scope=col>mad</th><th scope=col>min</th><th scope=col>max</th><th scope=col>range</th><th scope=col>skew</th><th scope=col>kurtosis</th><th scope=col>se</th></tr>\n",
       "\t<tr><th></th><th scope=col>&lt;int&gt;</th><th scope=col>&lt;dbl&gt;</th><th scope=col>&lt;dbl&gt;</th><th scope=col>&lt;dbl&gt;</th><th scope=col>&lt;dbl&gt;</th><th scope=col>&lt;dbl&gt;</th><th scope=col>&lt;dbl&gt;</th><th scope=col>&lt;dbl&gt;</th><th scope=col>&lt;dbl&gt;</th><th scope=col>&lt;dbl&gt;</th><th scope=col>&lt;dbl&gt;</th><th scope=col>&lt;dbl&gt;</th><th scope=col>&lt;dbl&gt;</th></tr>\n",
       "</thead>\n",
       "<tbody>\n",
       "\t<tr><th scope=row>target_deathrate</th><td>1</td><td>3047</td><td>178.66406</td><td>27.751511</td><td>178.1000</td><td>178.26466</td><td>25.20420</td><td> 59.7</td><td> 362.8</td><td> 303.1</td><td>0.2744537</td><td> 1.3475763</td><td>0.5027481</td></tr>\n",
       "\t<tr><th scope=row>incidencerate</th><td>2</td><td>3047</td><td>448.26859</td><td>54.560733</td><td>453.5494</td><td>450.36969</td><td>44.40301</td><td>201.3</td><td>1206.9</td><td>1005.6</td><td>0.7711749</td><td>16.7539989</td><td>0.9884256</td></tr>\n",
       "\t<tr><th scope=row>pctpubliccoveragealone</th><td>3</td><td>3047</td><td> 19.24007</td><td> 6.113041</td><td> 18.8000</td><td> 18.97872</td><td> 6.07866</td><td>  2.6</td><td>  46.6</td><td>  44.0</td><td>0.4704858</td><td> 0.3570623</td><td>0.1107442</td></tr>\n",
       "</tbody>\n",
       "</table>\n"
      ],
      "text/latex": [
       "A psych: 3 × 13\n",
       "\\begin{tabular}{r|lllllllllllll}\n",
       "  & vars & n & mean & sd & median & trimmed & mad & min & max & range & skew & kurtosis & se\\\\\n",
       "  & <int> & <dbl> & <dbl> & <dbl> & <dbl> & <dbl> & <dbl> & <dbl> & <dbl> & <dbl> & <dbl> & <dbl> & <dbl>\\\\\n",
       "\\hline\n",
       "\ttarget\\_deathrate & 1 & 3047 & 178.66406 & 27.751511 & 178.1000 & 178.26466 & 25.20420 &  59.7 &  362.8 &  303.1 & 0.2744537 &  1.3475763 & 0.5027481\\\\\n",
       "\tincidencerate & 2 & 3047 & 448.26859 & 54.560733 & 453.5494 & 450.36969 & 44.40301 & 201.3 & 1206.9 & 1005.6 & 0.7711749 & 16.7539989 & 0.9884256\\\\\n",
       "\tpctpubliccoveragealone & 3 & 3047 &  19.24007 &  6.113041 &  18.8000 &  18.97872 &  6.07866 &   2.6 &   46.6 &   44.0 & 0.4704858 &  0.3570623 & 0.1107442\\\\\n",
       "\\end{tabular}\n"
      ],
      "text/markdown": [
       "\n",
       "A psych: 3 × 13\n",
       "\n",
       "| <!--/--> | vars &lt;int&gt; | n &lt;dbl&gt; | mean &lt;dbl&gt; | sd &lt;dbl&gt; | median &lt;dbl&gt; | trimmed &lt;dbl&gt; | mad &lt;dbl&gt; | min &lt;dbl&gt; | max &lt;dbl&gt; | range &lt;dbl&gt; | skew &lt;dbl&gt; | kurtosis &lt;dbl&gt; | se &lt;dbl&gt; |\n",
       "|---|---|---|---|---|---|---|---|---|---|---|---|---|---|\n",
       "| target_deathrate | 1 | 3047 | 178.66406 | 27.751511 | 178.1000 | 178.26466 | 25.20420 |  59.7 |  362.8 |  303.1 | 0.2744537 |  1.3475763 | 0.5027481 |\n",
       "| incidencerate | 2 | 3047 | 448.26859 | 54.560733 | 453.5494 | 450.36969 | 44.40301 | 201.3 | 1206.9 | 1005.6 | 0.7711749 | 16.7539989 | 0.9884256 |\n",
       "| pctpubliccoveragealone | 3 | 3047 |  19.24007 |  6.113041 |  18.8000 |  18.97872 |  6.07866 |   2.6 |   46.6 |   44.0 | 0.4704858 |  0.3570623 | 0.1107442 |\n",
       "\n"
      ],
      "text/plain": [
       "                       vars n    mean      sd        median   trimmed  \n",
       "target_deathrate       1    3047 178.66406 27.751511 178.1000 178.26466\n",
       "incidencerate          2    3047 448.26859 54.560733 453.5494 450.36969\n",
       "pctpubliccoveragealone 3    3047  19.24007  6.113041  18.8000  18.97872\n",
       "                       mad      min   max    range  skew      kurtosis  \n",
       "target_deathrate       25.20420  59.7  362.8  303.1 0.2744537  1.3475763\n",
       "incidencerate          44.40301 201.3 1206.9 1005.6 0.7711749 16.7539989\n",
       "pctpubliccoveragealone  6.07866   2.6   46.6   44.0 0.4704858  0.3570623\n",
       "                       se       \n",
       "target_deathrate       0.5027481\n",
       "incidencerate          0.9884256\n",
       "pctpubliccoveragealone 0.1107442"
      ]
     },
     "metadata": {},
     "output_type": "display_data"
    }
   ],
   "source": [
    "library(psych)\n",
    "\n",
    "describe(mydf)"
   ]
  },
  {
   "cell_type": "code",
   "execution_count": 62,
   "id": "36049e4e",
   "metadata": {
    "vscode": {
     "languageId": "r"
    }
   },
   "outputs": [
    {
     "data": {
      "image/png": "[encoded data removed]",
      "text/plain": [
       "plot without title"
      ]
     },
     "metadata": {
      "image/png": {
       "height": 900,
       "width": 900
      }
     },
     "output_type": "display_data"
    }
   ],
   "source": [
    "df_standard  <- as.data.frame(lapply(mydf, scale))\n",
    "boxplot(df_standard)"
   ]
  },
  {
   "cell_type": "markdown",
   "id": "9f81b9ad",
   "metadata": {},
   "source": [
    "Después de estandarizar los datos, vemos como la caja del incidencerate es más corta lo que indica una menor dispersión en la mitad central de los datos."
   ]
  },
  {
   "cell_type": "code",
   "execution_count": 64,
   "id": "17d6507e",
   "metadata": {
    "vscode": {
     "languageId": "r"
    }
   },
   "outputs": [
    {
     "data": {
      "image/png": "[encoded data removed]",
      "text/plain": [
       "plot without title"
      ]
     },
     "metadata": {
      "image/png": {
       "height": 900,
       "width": 900
      }
     },
     "output_type": "display_data"
    }
   ],
   "source": [
    "ggpairs(mydf)"
   ]
  },
  {
   "cell_type": "markdown",
   "id": "0cc06058",
   "metadata": {},
   "source": [
    "## Desarrollo del modelo"
   ]
  },
  {
   "cell_type": "markdown",
   "id": "e108ab9d",
   "metadata": {},
   "source": [
    "### Comprobación de linealidad"
   ]
  },
  {
   "cell_type": "code",
   "execution_count": 66,
   "id": "be7da530",
   "metadata": {
    "vscode": {
     "languageId": "r"
    }
   },
   "outputs": [
    {
     "name": "stdout",
     "output_type": "stream",
     "text": [
      "\n",
      "\tPearson's product-moment correlation\n",
      "\n",
      "data:  mydf$target_deathrate and mydf$incidencerate\n",
      "t = 27.762, df = 3045, p-value < 2.2e-16\n",
      "alternative hypothesis: true correlation is not equal to 0\n",
      "95 percent confidence interval:\n",
      " 0.4206352 0.4773235\n",
      "sample estimates:\n",
      "      cor \n",
      "0.4494317 \n",
      "\n",
      "\n",
      "\tPearson's product-moment correlation\n",
      "\n",
      "data:  mydf$target_deathrate and mydf$pctpubliccoveragealone\n",
      "t = 27.756, df = 3045, p-value < 2.2e-16\n",
      "alternative hypothesis: true correlation is not equal to 0\n",
      "95 percent confidence interval:\n",
      " 0.4205588 0.4772517\n",
      "sample estimates:\n",
      "      cor \n",
      "0.4493576 \n",
      "\n"
     ]
    }
   ],
   "source": [
    "print(cor.test(mydf$target_deathrate , mydf$incidencerate))\n",
    "print(cor.test(mydf$target_deathrate , mydf$pctpubliccoveragealone))"
   ]
  },
  {
   "cell_type": "markdown",
   "id": "da6719c0",
   "metadata": {},
   "source": [
    "Dado que, el valor **p-value es menor que 0.05 >> rechazamos H0** (es decir correlación igual a 0) "
   ]
  },
  {
   "cell_type": "markdown",
   "id": "9541d676",
   "metadata": {},
   "source": [
    "### División Train y Test"
   ]
  },
  {
   "cell_type": "code",
   "execution_count": 75,
   "id": "56e6857a",
   "metadata": {
    "vscode": {
     "languageId": "r"
    }
   },
   "outputs": [],
   "source": [
    "set.seed(500) \n",
    "\n",
    "# Creamos el data partition de la función caret con un 70 - 30 split\n",
    "inTrain = createDataPartition(y = mydf$target_deathrate\n",
    "                              ,p = 0.7\n",
    "                              , list = FALSE\n",
    "                              , times = 1)\n",
    "data_train  = mydf[inTrain, ]\n",
    "data_test = mydf[-inTrain, ]\n"
   ]
  },
  {
   "cell_type": "code",
   "execution_count": 76,
   "id": "03e85f68",
   "metadata": {
    "vscode": {
     "languageId": "r"
    }
   },
   "outputs": [
    {
     "name": "stdout",
     "output_type": "stream",
     "text": [
      "'data.frame':\t2135 obs. of  3 variables:\n",
      " $ target_deathrate      : num  165 161 195 184 190 ...\n",
      " $ incidencerate         : num  490 412 430 404 459 ...\n",
      " $ pctpubliccoveragealone: num  14 15.3 25 24.1 26.6 18.3 20.2 14.1 21.4 24.1 ...\n"
     ]
    }
   ],
   "source": [
    "str(data_train)"
   ]
  },
  {
   "cell_type": "markdown",
   "id": "02b24153",
   "metadata": {},
   "source": [
    "### Modelo ajuste"
   ]
  },
  {
   "cell_type": "code",
   "execution_count": 77,
   "id": "44d23e88",
   "metadata": {
    "vscode": {
     "languageId": "r"
    }
   },
   "outputs": [
    {
     "data": {
      "text/plain": [
       "\n",
       "Call:\n",
       "lm(formula = target_deathrate ~ incidencerate, data = data_train)\n",
       "\n",
       "Residuals:\n",
       "     Min       1Q   Median       3Q      Max \n",
       "-143.372  -16.629   -1.405   15.734   86.158 \n",
       "\n",
       "Coefficients:\n",
       "               Estimate Std. Error t value Pr(>|t|)    \n",
       "(Intercept)   77.446766   4.373852   17.71   <2e-16 ***\n",
       "incidencerate  0.224833   0.009658   23.28   <2e-16 ***\n",
       "---\n",
       "Signif. codes:  0 '***' 0.001 '**' 0.01 '*' 0.05 '.' 0.1 ' ' 1\n",
       "\n",
       "Residual standard error: 24.72 on 2133 degrees of freedom\n",
       "Multiple R-squared:  0.2026,\tAdjusted R-squared:  0.2022 \n",
       "F-statistic:   542 on 1 and 2133 DF,  p-value: < 2.2e-16\n"
      ]
     },
     "metadata": {},
     "output_type": "display_data"
    },
    {
     "data": {
      "text/plain": [
       "\n",
       "Call:\n",
       "lm(formula = target_deathrate ~ pctpubliccoveragealone, data = data_train)\n",
       "\n",
       "Residuals:\n",
       "     Min       1Q   Median       3Q      Max \n",
       "-119.055  -13.278    1.244   14.709  177.844 \n",
       "\n",
       "Coefficients:\n",
       "                        Estimate Std. Error t value Pr(>|t|)    \n",
       "(Intercept)            140.14975    1.76391   79.45   <2e-16 ***\n",
       "pctpubliccoveragealone   1.99141    0.08723   22.83   <2e-16 ***\n",
       "---\n",
       "Signif. codes:  0 '***' 0.001 '**' 0.01 '*' 0.05 '.' 0.1 ' ' 1\n",
       "\n",
       "Residual standard error: 24.81 on 2133 degrees of freedom\n",
       "Multiple R-squared:  0.1964,\tAdjusted R-squared:  0.196 \n",
       "F-statistic: 521.2 on 1 and 2133 DF,  p-value: < 2.2e-16\n"
      ]
     },
     "metadata": {},
     "output_type": "display_data"
    }
   ],
   "source": [
    "inc_modelo_lm = lm(target_deathrate ~ incidencerate , data = data_train) # Entrenamos el modelo\n",
    "pct_modelo_lm = lm(target_deathrate ~ pctpubliccoveragealone , data = data_train) # Entrenamos el modelo\n",
    "summary(inc_modelo_lm)\n",
    "summary(pct_modelo_lm)"
   ]
  },
  {
   "cell_type": "markdown",
   "id": "e47751c9",
   "metadata": {},
   "source": [
    "vemos como con el primer modelo el R cuadrado ajustado es ligeramente mejor, por lo que eso significa que explica mas conjunto de datos. Los dos tienen un p valor muy pequeño por lo tanto se confirma que las variables si que tienen correlación."
   ]
  },
  {
   "cell_type": "code",
   "execution_count": 79,
   "id": "fac70e3c",
   "metadata": {
    "vscode": {
     "languageId": "r"
    }
   },
   "outputs": [
    {
     "data": {
      "text/html": [
       "0.202606242484073"
      ],
      "text/latex": [
       "0.202606242484073"
      ],
      "text/markdown": [
       "0.202606242484073"
      ],
      "text/plain": [
       "[1] 0.2026062"
      ]
     },
     "metadata": {},
     "output_type": "display_data"
    },
    {
     "data": {
      "text/html": [
       "24.7168156475976"
      ],
      "text/latex": [
       "24.7168156475976"
      ],
      "text/markdown": [
       "24.7168156475976"
      ],
      "text/plain": [
       "[1] 24.71682"
      ]
     },
     "metadata": {},
     "output_type": "display_data"
    },
    {
     "data": {
      "text/html": [
       "<dl>\n",
       "\t<dt>$names</dt>\n",
       "\t\t<dd><style>\n",
       ".list-inline {list-style: none; margin:0; padding: 0}\n",
       ".list-inline>li {display: inline-block}\n",
       ".list-inline>li:not(:last-child)::after {content: \"\\00b7\"; padding: 0 .5ex}\n",
       "</style>\n",
       "<ol class=list-inline><li>'coefficients'</li><li>'residuals'</li><li>'effects'</li><li>'rank'</li><li>'fitted.values'</li><li>'assign'</li><li>'qr'</li><li>'df.residual'</li><li>'xlevels'</li><li>'call'</li><li>'terms'</li><li>'model'</li></ol>\n",
       "</dd>\n",
       "\t<dt>$class</dt>\n",
       "\t\t<dd>'lm'</dd>\n",
       "</dl>\n"
      ],
      "text/latex": [
       "\\begin{description}\n",
       "\\item[\\$names] \\begin{enumerate*}\n",
       "\\item 'coefficients'\n",
       "\\item 'residuals'\n",
       "\\item 'effects'\n",
       "\\item 'rank'\n",
       "\\item 'fitted.values'\n",
       "\\item 'assign'\n",
       "\\item 'qr'\n",
       "\\item 'df.residual'\n",
       "\\item 'xlevels'\n",
       "\\item 'call'\n",
       "\\item 'terms'\n",
       "\\item 'model'\n",
       "\\end{enumerate*}\n",
       "\n",
       "\\item[\\$class] 'lm'\n",
       "\\end{description}\n"
      ],
      "text/markdown": [
       "$names\n",
       ":   1. 'coefficients'\n",
       "2. 'residuals'\n",
       "3. 'effects'\n",
       "4. 'rank'\n",
       "5. 'fitted.values'\n",
       "6. 'assign'\n",
       "7. 'qr'\n",
       "8. 'df.residual'\n",
       "9. 'xlevels'\n",
       "10. 'call'\n",
       "11. 'terms'\n",
       "12. 'model'\n",
       "\n",
       "\n",
       "\n",
       "$class\n",
       ":   'lm'\n",
       "\n",
       "\n"
      ],
      "text/plain": [
       "$names\n",
       " [1] \"coefficients\"  \"residuals\"     \"effects\"       \"rank\"         \n",
       " [5] \"fitted.values\" \"assign\"        \"qr\"            \"df.residual\"  \n",
       " [9] \"xlevels\"       \"call\"          \"terms\"         \"model\"        \n",
       "\n",
       "$class\n",
       "[1] \"lm\"\n"
      ]
     },
     "metadata": {},
     "output_type": "display_data"
    },
    {
     "data": {
      "text/html": [
       "<style>\n",
       ".dl-inline {width: auto; margin:0; padding: 0}\n",
       ".dl-inline>dt, .dl-inline>dd {float: none; width: auto; display: inline-block}\n",
       ".dl-inline>dt::after {content: \":\\0020\"; padding-right: .5ex}\n",
       ".dl-inline>dt:not(:first-of-type) {padding-left: .5ex}\n",
       "</style><dl class=dl-inline><dt>(Intercept)</dt><dd>77.4467655659604</dd><dt>incidencerate</dt><dd>0.224832854439789</dd></dl>\n"
      ],
      "text/latex": [
       "\\begin{description*}\n",
       "\\item[(Intercept)] 77.4467655659604\n",
       "\\item[incidencerate] 0.224832854439789\n",
       "\\end{description*}\n"
      ],
      "text/markdown": [
       "(Intercept)\n",
       ":   77.4467655659604incidencerate\n",
       ":   0.224832854439789\n",
       "\n"
      ],
      "text/plain": [
       "  (Intercept) incidencerate \n",
       "   77.4467656     0.2248329 "
      ]
     },
     "metadata": {},
     "output_type": "display_data"
    }
   ],
   "source": [
    "#Otra manera de acceder a las variables\n",
    "resumen_modelo = summary(inc_modelo_lm)\n",
    "resumen_modelo$r.squared\n",
    "resumen_modelo$sigma #Residual standard error\n",
    "attributes(inc_modelo_lm)\n",
    "inc_modelo_lm$coefficients"
   ]
  },
  {
   "cell_type": "markdown",
   "id": "39b6327c",
   "metadata": {},
   "source": [
    "### Comprobamos el resto de supuestos"
   ]
  },
  {
   "cell_type": "markdown",
   "id": "0726754b",
   "metadata": {},
   "source": [
    "#### Normalidad\n",
    "- Visualización: Q-Q Plot de residuos.\n",
    "- Prueba estadística: la prueba de Shapiro-wilk sobre los residuos (muestras con pocas observaciones).\n",
    "\n",
    "H0: La variable presenta una distribución normal\n",
    "<br>\n",
    "H1: La variable presenta una distribución no normal\n",
    "\n",
    "\n",
    "Sig(p valor) > 0.05: No rechazar H0 (normal)\n",
    "<br>\n",
    "Sig(p valor) < 0.05: Rechazar H0"
   ]
  },
  {
   "cell_type": "markdown",
   "id": "55507d59",
   "metadata": {},
   "source": [
    "Comprobamos normalidad de la variable incidencerate"
   ]
  },
  {
   "cell_type": "code",
   "execution_count": 85,
   "id": "63a9ff41",
   "metadata": {
    "vscode": {
     "languageId": "r"
    }
   },
   "outputs": [
    {
     "data": {
      "text/plain": [
       "\n",
       "\tShapiro-Wilk normality test\n",
       "\n",
       "data:  inc_modelo_lm$residuals\n",
       "W = 0.99269, p-value = 7.642e-09\n"
      ]
     },
     "metadata": {},
     "output_type": "display_data"
    },
    {
     "data": {
      "image/png": "[encoded data removed]",
      "text/plain": [
       "Plot with title \"Normal Q-Q Plot\""
      ]
     },
     "metadata": {
      "image/png": {
       "height": 900,
       "width": 900
      }
     },
     "output_type": "display_data"
    }
   ],
   "source": [
    "# Visualization\n",
    "qqnorm(inc_modelo_lm$residuals,pch =19,col =\"#8c0052\", cex=2)\n",
    "qqline(inc_modelo_lm$residuals , col = \"#3650b2\", lwd = 2 )  \n",
    "\n",
    "# Statistical Test\n",
    "shapiro.test(inc_modelo_lm$residuals)"
   ]
  },
  {
   "cell_type": "markdown",
   "id": "198c31ab",
   "metadata": {},
   "source": [
    "p valor mucho menor que 0.05 por lo tanto, rechazamos hipotésis nula y vemos que la variable presenta una distribución no normal"
   ]
  },
  {
   "cell_type": "code",
   "execution_count": 101,
   "id": "1083ddb2",
   "metadata": {
    "vscode": {
     "languageId": "r"
    }
   },
   "outputs": [
    {
     "data": {
      "image/png": "[encoded data removed]",
      "text/plain": [
       "Plot with title \"Histogram of df_standard$incidencerate\""
      ]
     },
     "metadata": {
      "image/png": {
       "height": 900,
       "width": 900
      }
     },
     "output_type": "display_data"
    }
   ],
   "source": [
    "hist(df_standard$incidencerate, breaks = 30)"
   ]
  },
  {
   "cell_type": "markdown",
   "id": "d809b548",
   "metadata": {},
   "source": [
    "Aparentemente luce como una Normal, pero debido a que hay valores muy extremos, esto lo verificabamos anteriormente con Kurtosis. Esta variable tiene un valor de kurtosis de 16.75 lo que indica que todos los valores están acumulados en el centro y que las colas son mucho más pesadas tal y como se puede apreciar en la imagen superior. En la celda de abajo se verifica como debería de lucir una distribución normal."
   ]
  },
  {
   "cell_type": "code",
   "execution_count": 102,
   "id": "1ef09683",
   "metadata": {
    "vscode": {
     "languageId": "r"
    }
   },
   "outputs": [
    {
     "name": "stdout",
     "output_type": "stream",
     "text": [
      "\n",
      "\tShapiro-Wilk normality test\n",
      "\n",
      "data:  datos\n",
      "W = 0.99942, p-value = 0.1214\n",
      "\n"
     ]
    },
    {
     "data": {
      "image/png": "[encoded data removed]",
      "text/plain": [
       "Plot with title \"Histogram of datos\""
      ]
     },
     "metadata": {
      "image/png": {
       "height": 900,
       "width": 900
      }
     },
     "output_type": "display_data"
    }
   ],
   "source": [
    "datos <- rnorm(5000) # Esto crea una muestra de datos normalmente distribuida\n",
    "\n",
    "# Realizar el test de Shapiro-Wilk\n",
    "resultado <- shapiro.test(datos)\n",
    "\n",
    "# Mostrar resultados\n",
    "print(resultado)\n",
    "hist(datos, breaks =30)"
   ]
  },
  {
   "cell_type": "markdown",
   "id": "cf1a371c",
   "metadata": {},
   "source": [
    "Comprobamos normalidad del otro modelo (pctpubliccoveragealone)"
   ]
  },
  {
   "cell_type": "code",
   "execution_count": 104,
   "id": "c34b3173",
   "metadata": {
    "vscode": {
     "languageId": "r"
    }
   },
   "outputs": [
    {
     "data": {
      "text/plain": [
       "\n",
       "\tShapiro-Wilk normality test\n",
       "\n",
       "data:  pct_modelo_lm$residuals\n",
       "W = 0.98147, p-value = 4.834e-16\n"
      ]
     },
     "metadata": {},
     "output_type": "display_data"
    },
    {
     "data": {
      "image/png": "[encoded data removed]",
      "text/plain": [
       "Plot with title \"Normal Q-Q Plot\""
      ]
     },
     "metadata": {
      "image/png": {
       "height": 900,
       "width": 900
      }
     },
     "output_type": "display_data"
    }
   ],
   "source": [
    "# Visualization\n",
    "qqnorm(pct_modelo_lm$residuals,pch =19,col =\"#8c0052\", cex=2)\n",
    "qqline(pct_modelo_lm$residuals , col = \"#3650b2\", lwd = 2 )  \n",
    "\n",
    "# Statistical Test\n",
    "shapiro.test(pct_modelo_lm$residuals)"
   ]
  },
  {
   "cell_type": "markdown",
   "id": "93e3b2d6",
   "metadata": {},
   "source": [
    "Verificamos que esta variable tampoco cumple normalidad, todo y que la kurtosis estaba entre -0.5 y 0.5, puesto que estops valores se suelen considerar cercanos a la normalidad. Lo que demuestra que siempre hay que realizar el test de shapiro para verificar normalidad."
   ]
  },
  {
   "cell_type": "code",
   "execution_count": 107,
   "id": "da5d4117",
   "metadata": {
    "vscode": {
     "languageId": "r"
    }
   },
   "outputs": [
    {
     "data": {
      "image/png": "[encoded data removed]",
      "text/plain": [
       "Plot with title \"Histogram of df_standard$pctpubliccoveragealone\""
      ]
     },
     "metadata": {
      "image/png": {
       "height": 900,
       "width": 900
      }
     },
     "output_type": "display_data"
    }
   ],
   "source": [
    "hist(df_standard$pctpubliccoveragealone, breaks = 30)"
   ]
  },
  {
   "cell_type": "markdown",
   "id": "d2a15016",
   "metadata": {},
   "source": [
    "### Homocedastidad"
   ]
  },
  {
   "cell_type": "markdown",
   "id": "b1eabc6c",
   "metadata": {},
   "source": [
    "- Visualización: Residuos vs valores ajustados.\n",
    "\n",
    "- Prueba estadística: la prueba de Breusch Pagan"
   ]
  },
  {
   "cell_type": "markdown",
   "id": "425af54a",
   "metadata": {},
   "source": [
    "Comprobamos la homocedastidad de la variable incidencerate"
   ]
  },
  {
   "cell_type": "code",
   "execution_count": 108,
   "id": "fad549bf",
   "metadata": {
    "vscode": {
     "languageId": "r"
    }
   },
   "outputs": [
    {
     "data": {
      "text/plain": [
       "\n",
       "\tstudentized Breusch-Pagan test\n",
       "\n",
       "data:  inc_modelo_lm\n",
       "BP = 9.1835, df = 1, p-value = 0.002442\n"
      ]
     },
     "metadata": {},
     "output_type": "display_data"
    },
    {
     "data": {
      "image/png": "[encoded data removed]",
      "text/plain": [
       "plot without title"
      ]
     },
     "metadata": {
      "image/png": {
       "height": 900,
       "width": 900
      }
     },
     "output_type": "display_data"
    }
   ],
   "source": [
    "# Visualization\n",
    "plot(inc_modelo_lm$fitted.values , inc_modelo_lm$residuals , pch =19,col =\"#8c0052\", cex=2 )\n",
    "\n",
    "# Test Breusch-Pagan\n",
    "bptest(inc_modelo_lm)"
   ]
  }
 ],
 "metadata": {
  "kernelspec": {
   "display_name": "R",
   "language": "R",
   "name": "ir"
  },
  "language_info": {
   "codemirror_mode": "r",
   "file_extension": ".r",
   "mimetype": "text/x-r-source",
   "name": "R",
   "pygments_lexer": "r",
   "version": "4.3.2"
  }
 },
 "nbformat": 4,
 "nbformat_minor": 5
}

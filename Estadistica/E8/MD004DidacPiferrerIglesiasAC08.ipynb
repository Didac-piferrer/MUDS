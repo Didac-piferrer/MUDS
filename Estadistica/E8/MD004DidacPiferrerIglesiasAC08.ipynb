{
 "cells": [
  {
   "cell_type": "markdown",
   "id": "27c340cd",
   "metadata": {},
   "source": [
    "# MD004 ENTREGA8 NAIVE BAYES & ANÁLISIS DE SENTIMIENTO\n",
    "\n",
    "\n",
    "###### **Trabajo del Tema 8**\n",
    "\n",
    "**Descripción de la tarea:**\n",
    "\n",
    "El csv adjunto incluye reviews que han dejado usuarios en la Google Play Store en referencia a 23 apps, incluyendo una valoración categórica sobre el análisis de sentimiento. Los datos son los siguientes:\n",
    "\n",
    "- package_name: Nombre de la app\n",
    "- review: Texto del usuario con la review\n",
    "- polarity: Sentimiento de polaridad de la review:\n",
    "    - 1: Review con un sentimiento muy positivo o muy negativo\n",
    "    - 0: Review con un sentimiento neutro (-->realizo una pequeña corrección, el enunciado ponía '2')\n",
    "\n",
    "**Se pide:**\n",
    "\n",
    "1. **Limpieza de instancias (3.5p)**: Limpieza de texto de las instancias. Se valorará el uso de las técnicas empleadas y las explicaciones en el notebook\n",
    "2. **Creación de modelo clasificador de Naive Bayes (3.5p)**: Se valorará el uso de técnicas empleadas como el split entre entrenamiento y validación y selección de métrica de optimización\n",
    "3. **Optimización del modelo (2p)**: En base a los resultados obtenidos, ¿Somos capaces de mejorar nuestro modelo? Se valorará el uso de ténicas como Laplace smoothing, uso de \n",
    "la variable categórica package_name\n",
    "4. **Conclusiones y vías abiertas (1p)**: ¿Qué resultados obtenemos en el modelo?, ¿Predice correctamente?, ¿En todas las apps?, ¿Qué datos podrían ayudarnos a mejorar la predicción?\n",
    "\n",
    "**>> este ejercicio no tiene una solución única<<** Muchas opciones pueden ser válidas, pero se espera que se haga una interpretación de los datos obtenidos en todos los puntos y que se construya un modelo de Naive Bayes acorde a lo analizado (Si la clasificación es válida, por qué lo es y si no llega a serlo, por qué no lo es y cómo podrían mejorarse los resultados)\n",
    "\n",
    "<font color='red'> **Entrega: fichero Jupyter Notebook con MD004NombreApellidosAC08.ipynb y fichero .pdf con MD004NombreApellidosAC08.pdf** </font>"
   ]
  }
 ],
 "metadata": {
  "kernelspec": {
   "display_name": "R",
   "language": "R",
   "name": "ir"
  },
  "language_info": {
   "codemirror_mode": "r",
   "file_extension": ".r",
   "mimetype": "text/x-r-source",
   "name": "R",
   "pygments_lexer": "r",
   "version": "4.1.1"
  }
 },
 "nbformat": 4,
 "nbformat_minor": 5
}

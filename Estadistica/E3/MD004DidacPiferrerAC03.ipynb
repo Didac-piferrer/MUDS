{
 "cells": [
  {
   "cell_type": "markdown",
   "id": "2d410b77",
   "metadata": {},
   "source": [
    "# <font color='#3d59c6'> MD004 ENTREGA SESIÓN TEST DE HIPÓTESIS </font>"
   ]
  },
  {
   "cell_type": "markdown",
   "id": "17b01419",
   "metadata": {},
   "source": [
    "### <font color='#3d59c6'> PARTE I </font>\n",
    "\n",
    "1. Plantea un diseño de test de hipótesis que te gustaría aplicar (1pt)\n",
    "\n",
    "**Un neurólogo esta probando el efecto en el tiempo de respuesta de un fármaco. Para probarlo ha inyectado en 100 ratas una dosis unitaria y ha registrado el tiempo de respuesta de estas. El neurólogo sabe que el tiempo de respuesta para las ratas que no han sido inyectadas con el fármaco es de 1.2s. La media del tiempo de respuesta de las 100 ratas inyectadas es de 1.05 segundos con una desviación estándar de 0.5s. Queremos verificar si el tiempo de respuesta es afectado por el fármaco haciendo que el tiempo de respuesta sea menor.**\n",
    "\n",
    "Hipótesis nula: H0: μ => 1.2 <br>\n",
    "Hipótesis alternativa H: μ < 1.2\n",
    "\n",
    "Definimos el valor de significancia del 5%.\n",
    "\n",
    "Ya que tenemos n > 30, podemos definir que Z = (X - u)/(α/sqrt(n))\n",
    "\n",
    "La Z = -3\n",
    "\n",
    "En este caso tenemos un problema de una sola cola, teniendo en cuenta que el límite para la acceptación con una significancia del 5% se encuentra en Z = -1.65, y que nuestra Z es menor, vemos que nuestra Z se encuentra en la región de rechazo, por lo tanto podemos rechazar hipotesis nula ya que nuestra p-valor si miramos la tabla es del 0.0013.\n",
    "\n",
    "2. Indica la respuesta correcta de este pequeño test y justifica tu respuesta (1pt):\n",
    "\n",
    "**¿Cuál es el propósito del valor crítico en un test de hipótesis?**\n",
    "1. Indicar la significancia estadística de la prueba\n",
    "2. Establecer el nivel de confianza\n",
    "3. Marcar el límite entre rechazar y no rechazar la hipótesis nula **Correcta**\n",
    "4. Calcular el tamaño de muestra necesario\n",
    "\n",
    "Ya que la primera y la segunda se referien a la misma cosa, que es establecer el % de error de tipo 1 que estas dispuesto a cometer en tu investigación. Y la última no tiene sentido, puesto el tamañano de la muestra necesario siempre dependerá del problema que estemos tratando y no hay un valor que lo defina como tal. Si que por norma general, la n tiene que ser mayor de 30 para considerarse que engloba a la población, pero esto en algunas situaciones puede no darse.\n",
    "\n",
    "**¿Qué representa el Error Tipo II?**\n",
    "1. Rechazar incorrectamente la hipótesis nula\n",
    "2. No rechazar incorrectamente la hipótesis nula **Correcta**\n",
    "3. La probabilidad de cometer un error Tipo I\n",
    "4. La probabilidad de obtener un resultado significativo\n",
    "\n",
    "Rechazar incorrectamente la hipótesis nula cuando esta es verdadera se trata de un error de tipo 1.\n",
    "Y la tres y la 4 no son, ya que el error tipo 2 no es una probabilidad, sino es un tipo de error, tal y como el nombre indica, después que ese tipo de error se cometa si que irá ligado a una probabilidad (Beta).\n",
    "\n",
    "**Si realizas un test de una cola y obtienes un p-valor de 0.02 con un nivel de significancia de 0.05, ¿qué decisión tomarías?**\n",
    "1. Rechazar la hipótesis nula **Correcta**\n",
    "2. No rechazar la hipótesis nula\n",
    "3. No hay información suficiente para tomar una decisión\n",
    "4. Dependiendo de la región de no rechazo\n",
    "\n",
    "Se rechaza la hipótesis nula ya que el p valor es menor que el nivel de significancia por lo tanto, nos encontramos dentro del area de rechazo definida.\n",
    "\n",
    "**¿Cuál es la relación entre nivel de significancia y la probabilidad de cometer un Error Tipo I?**\n",
    "1. Aumentar el nivel de significancia disminuye la probabilidad de cometer un error Tipo I\n",
    "2. Reducir el nivel de significancia aumenta la probabilidad de cometer un error Tipo I **Correcta**\n",
    "3. El nivel de significancia y la probabilidad de cometer un error Tipo I no están relacionados\n",
    "4. El nivel de significancia no afecta la probabilidad de cometer un error Tipo I\n",
    "\n",
    "El error de tipo 1 viene definido por el rechazo de la hipótesis nula siendo esta verdadera en realidad, por lo tanto, si aumentamos el nivel de significancia tenemos menos probabilidades de rechazar la hipotesis nula, y más de aceptarla aunque esta no sea cierta, sin embargo, si reducimos el nivel de significancia aumentamos la probabilidad de rechazar la hipotesis nula siendo esta cierta. Las dos últimos no son correctas ya que si estan estrechamente relacionados."
   ]
  },
  {
   "cell_type": "markdown",
   "id": "71030792",
   "metadata": {},
   "source": [
    "### <font color='#3d59c6'> PARTE II </font>\n",
    "Una empresa de ecommerce B2B se plantea utilizar una funcionalidad para su web que le permite hacer una recomendación de producto a sus usuarios con el objetivo de aumentar el valor medio de las ventas. De cara a validar que este sistema de recomendación tiene un efecto positivo nuestra empresa decide plantear un Test de Hipótesis y testear el servicio durante 3 meses antes de decidir si lo deben adoptar o no en base al posible efecto incremental en las ventas. El dataset adjunto incluye los datos finales del test y contiene tres columnas. La primera es el identificador de la venta, la segunda es el valor de la venta y el tercero es la clase (1 para las ventas en las que el sistema de recomendación ha participado y 0 en las que no ha participado) \n",
    "\n",
    "###### Data: \n",
    "202311s20_b2b_ecommerce_sales_data.csv\n",
    "\n",
    "###### Se pide:\n",
    "1. Exploración de los datos: análisis descriptivos de los datos, gráficación y conclusiones ¿siguen una distribución normal?(2pts)\n",
    "2. Diseña un test de hipótesis: ¿cuál es nuestro objetivo? ¿se trataría de un test de 2 colas? ¿Qué estadístico debemos usar para este Test?(2pts)\n",
    "3. Validación y ejecución del test de hipótesis (2pts) \n",
    "4. Conclusiones: ¿Recomendarías el uso de este sistema de recomendación? (justifica tu respuesta) ¿Qué factores se deben tener en cuenta para la toma de esta decisión? (2pts)"
   ]
  },
  {
   "cell_type": "markdown",
   "id": "55fe986d",
   "metadata": {},
   "source": [
    "Entrega: fichero Jupyter Notebook con MD004NombreApellidosAC03.ipynb y MD004NombreApellidosAC03.pdf\n",
    "\n",
    "Plazo: Miércoles, 29 de Noviembre a las 19h"
   ]
  },
  {
   "cell_type": "code",
   "execution_count": null,
   "id": "784656b3",
   "metadata": {
    "vscode": {
     "languageId": "r"
    }
   },
   "outputs": [],
   "source": []
  }
 ],
 "metadata": {
  "kernelspec": {
   "display_name": "R",
   "language": "R",
   "name": "ir"
  },
  "language_info": {
   "codemirror_mode": "r",
   "file_extension": ".r",
   "mimetype": "text/x-r-source",
   "name": "R",
   "pygments_lexer": "r",
   "version": "4.3.2"
  }
 },
 "nbformat": 4,
 "nbformat_minor": 5
}

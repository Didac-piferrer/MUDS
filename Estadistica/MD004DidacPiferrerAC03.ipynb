{
 "cells": [
  {
   "cell_type": "markdown",
   "id": "2d410b77",
   "metadata": {},
   "source": [
    "# <font color='#3d59c6'> MD004 ENTREGA SESIÓN TEST DE HIPÓTESIS </font>"
   ]
  },
  {
   "cell_type": "markdown",
   "id": "17b01419",
   "metadata": {},
   "source": [
    "### <font color='#3d59c6'> PARTE I </font>\n",
    "\n",
    "1. Plantea un diseño de test de hipótesis que te gustaría aplicar (1pt)\n",
    "\n",
    "Enunciado\n",
    "\n",
    "2. Indica la respuesta correcta de este pequeño test y justifica tu respuesta (1pt):\n",
    "\n",
    "**¿Cuál es el propósito del valor crítico en un test de hipótesis?**\n",
    "1. Indicar la significancia estadística de la prueba\n",
    "2. Establecer el nivel de confianza\n",
    "3. Marcar el límite entre rechazar y no rechazar la hipótesis nula\n",
    "4. Calcular el tamaño de muestra necesario\n",
    "\n",
    "**¿Qué representa el Error Tipo II?**\n",
    "1. Rechazar incorrectamente la hipótesis nula\n",
    "2. No rechazar incorrectamente la hipótesis nula\n",
    "3. La probabilidad de cometer un error Tipo I\n",
    "4. La probabilidad de obtener un resultado significativo\n",
    "\n",
    "**Si realizas un test de una cola y obtienes un p-valor de 0.02 con un nivel de significancia de 0.05, ¿qué decisión tomarías?**\n",
    "1. Rechazar la hipótesis nula\n",
    "2. No rechazar la hipótesis nula\n",
    "3. No hay información suficiente para tomar una decisión\n",
    "4. Dependiendo de la región de no rechazo\n",
    "\n",
    "**¿Cuál es la relación entre nivel de significancia y la probabilidad de cometer un Error Tipo I?**\n",
    "1. Aumentar el nivel de significancia disminuye la probabilidad de cometer un error Tipo I\n",
    "2. Reducir el nivel de significancia aumenta la probabilidad de cometer un error Tipo I\n",
    "3. El nivel de significancia y la probabilidad de cometer un error Tipo I no están relacionados\n",
    "4. El nivel de significancia no afecta la probabilidad de cometer un error Tipo I"
   ]
  },
  {
   "cell_type": "markdown",
   "id": "71030792",
   "metadata": {},
   "source": [
    "### <font color='#3d59c6'> PARTE II </font>\n",
    "Una empresa de ecommerce B2B se plantea utilizar una funcionalidad para su web que le permite hacer una recomendación de producto a sus usuarios con el objetivo de aumentar el valor medio de las ventas. De cara a validar que este sistema de recomendación tiene un efecto positivo nuestra empresa decide plantear un Test de Hipótesis y testear el servicio durante 3 meses antes de decidir si lo deben adoptar o no en base al posible efecto incremental en las ventas. El dataset adjunto incluye los datos finales del test y contiene tres columnas. La primera es el identificador de la venta, la segunda es el valor de la venta y el tercero es la clase (1 para las ventas en las que el sistema de recomendación ha participado y 0 en las que no ha participado) \n",
    "\n",
    "###### Data: \n",
    "202311s20_b2b_ecommerce_sales_data.csv\n",
    "\n",
    "###### Se pide:\n",
    "1. Exploración de los datos: análisis descriptivos de los datos, gráficación y conclusiones ¿siguen una distribución normal?(2pts)\n",
    "2. Diseña un test de hipótesis: ¿cuál es nuestro objetivo? ¿se trataría de un test de 2 colas? ¿Qué estadístico debemos usar para este Test?(2pts)\n",
    "3. Validación y ejecución del test de hipótesis (2pts) \n",
    "4. Conclusiones: ¿Recomendarías el uso de este sistema de recomendación? (justifica tu respuesta) ¿Qué factores se deben tener en cuenta para la toma de esta decisión? (2pts)"
   ]
  },
  {
   "cell_type": "markdown",
   "id": "55fe986d",
   "metadata": {},
   "source": [
    "Entrega: fichero Jupyter Notebook con MD004NombreApellidosAC03.ipynb y MD004NombreApellidosAC03.pdf\n",
    "\n",
    "Plazo: Miércoles, 29 de Noviembre a las 19h"
   ]
  },
  {
   "cell_type": "code",
   "execution_count": null,
   "id": "784656b3",
   "metadata": {
    "vscode": {
     "languageId": "r"
    }
   },
   "outputs": [],
   "source": []
  }
 ],
 "metadata": {
  "kernelspec": {
   "display_name": "R",
   "language": "R",
   "name": "ir"
  },
  "language_info": {
   "codemirror_mode": "r",
   "file_extension": ".r",
   "mimetype": "text/x-r-source",
   "name": "R",
   "pygments_lexer": "r",
   "version": "4.3.2"
  }
 },
 "nbformat": 4,
 "nbformat_minor": 5
}

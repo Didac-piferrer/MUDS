{
 "cells": [
  {
   "cell_type": "markdown",
   "metadata": {},
   "source": [
    "# Procesado Inicial"
   ]
  },
  {
   "cell_type": "markdown",
   "metadata": {},
   "source": [
    "## Limpieza y procesado\n",
    "\n",
    "Como este apartado se realizo en la primera entrega \"MD005_DidacPiferrerIglesias_Agrupacion.ipynb\" se colocará una celda completa que realice todas las limpieza y operaciones."
   ]
  },
  {
   "cell_type": "code",
   "execution_count": 1,
   "metadata": {},
   "outputs": [
    {
     "name": "stderr",
     "output_type": "stream",
     "text": [
      "C:\\Users\\Didac\\AppData\\Local\\Temp\\ipykernel_24320\\1932699180.py:1: DeprecationWarning: \n",
      "Pyarrow will become a required dependency of pandas in the next major release of pandas (pandas 3.0),\n",
      "(to allow more performant data types, such as the Arrow string type, and better interoperability with other libraries)\n",
      "but was not found to be installed on your system.\n",
      "If this would cause problems for you,\n",
      "please provide us feedback at https://github.com/pandas-dev/pandas/issues/54466\n",
      "        \n",
      "  import pandas as pd\n"
     ]
    }
   ],
   "source": [
    "import pandas as pd\n",
    "import numpy as np\n",
    "import matplotlib.pyplot as plt\n",
    "import seaborn as sns\n",
    "import random"
   ]
  },
  {
   "cell_type": "code",
   "execution_count": 2,
   "metadata": {},
   "outputs": [
    {
     "name": "stdout",
     "output_type": "stream",
     "text": [
      "Ready to create a dictionary:\n",
      "{'CountryID': 'CountryID', 'Country': 'Country', 'Year': 'Year', 'Aer': 'AMA exchange rate', 'Iber': 'IMF based exchange rate', 'Population': 'Population', 'Currency': 'Currency', 'PcG': 'Per capita GNI', 'Ahff': 'Agriculture, hunting, forestry, fishing (ISIC A-B)', 'Cii': 'Changes in inventories', 'C': 'Construction (ISIC F)', 'Eogas': 'Exports of goods and services', 'Fce': 'Final consumption expenditure', 'Ggfce': 'General government final consumption expenditure', 'Gcf': 'Gross capital formation', 'Gfcf': 'Gross fixed capital formation (including Acquisitions less disposals of valuables)', 'Hce': 'Household consumption expenditure (including Non-profit institutions serving households)', 'Iogas': 'Imports of goods and services', 'M': 'Manufacturing (ISIC D)', 'MMU': 'Mining, Manufacturing, Utilities (ISIC C-E)', 'OA': 'Other Activities (ISIC J-P)', 'TVA': 'Total Value Added', 'Tsac': 'Transport, storage and communication (ISIC I)', 'Wrtrah': 'Wholesale, retail trade, restaurants and hotels (ISIC G-H)', 'GNIiU': 'Gross National Income(GNI) in USD', 'GDP': 'Gross Domestic Product (GDP)'}\n",
      "Rename Succesfull\n"
     ]
    },
    {
     "data": {
      "text/html": [
       "<div>\n",
       "<style scoped>\n",
       "    .dataframe tbody tr th:only-of-type {\n",
       "        vertical-align: middle;\n",
       "    }\n",
       "\n",
       "    .dataframe tbody tr th {\n",
       "        vertical-align: top;\n",
       "    }\n",
       "\n",
       "    .dataframe thead th {\n",
       "        text-align: right;\n",
       "    }\n",
       "</style>\n",
       "<table border=\"1\" class=\"dataframe\">\n",
       "  <thead>\n",
       "    <tr style=\"text-align: right;\">\n",
       "      <th></th>\n",
       "      <th>CountryID</th>\n",
       "      <th>Country</th>\n",
       "      <th>Year</th>\n",
       "      <th>Aer</th>\n",
       "      <th>Iber</th>\n",
       "      <th>Population</th>\n",
       "      <th>Currency</th>\n",
       "      <th>PcG</th>\n",
       "      <th>Ahff</th>\n",
       "      <th>Cii</th>\n",
       "      <th>...</th>\n",
       "      <th>Hce</th>\n",
       "      <th>Iogas</th>\n",
       "      <th>M</th>\n",
       "      <th>MMU</th>\n",
       "      <th>OA</th>\n",
       "      <th>TVA</th>\n",
       "      <th>Tsac</th>\n",
       "      <th>Wrtrah</th>\n",
       "      <th>GNIiU</th>\n",
       "      <th>GDP</th>\n",
       "    </tr>\n",
       "  </thead>\n",
       "  <tbody>\n",
       "    <tr>\n",
       "      <th>0</th>\n",
       "      <td>4</td>\n",
       "      <td>Afghanistan</td>\n",
       "      <td>1970</td>\n",
       "      <td>0.044998</td>\n",
       "      <td>0.044998</td>\n",
       "      <td>10752971</td>\n",
       "      <td>Afghani</td>\n",
       "      <td>164</td>\n",
       "      <td>8.699174e+08</td>\n",
       "      <td>NaN</td>\n",
       "      <td>...</td>\n",
       "      <td>1.551094e+09</td>\n",
       "      <td>1.952772e+08</td>\n",
       "      <td>3.701468e+08</td>\n",
       "      <td>3.766908e+08</td>\n",
       "      <td>1.277478e+08</td>\n",
       "      <td>1.731454e+09</td>\n",
       "      <td>8.391720e+07</td>\n",
       "      <td>2.263871e+08</td>\n",
       "      <td>1.766528e+09</td>\n",
       "      <td>1.731436e+09</td>\n",
       "    </tr>\n",
       "    <tr>\n",
       "      <th>1</th>\n",
       "      <td>4</td>\n",
       "      <td>Afghanistan</td>\n",
       "      <td>1971</td>\n",
       "      <td>0.044998</td>\n",
       "      <td>0.044998</td>\n",
       "      <td>11015857</td>\n",
       "      <td>Afghani</td>\n",
       "      <td>168</td>\n",
       "      <td>9.108281e+08</td>\n",
       "      <td>NaN</td>\n",
       "      <td>...</td>\n",
       "      <td>1.675426e+09</td>\n",
       "      <td>2.762965e+08</td>\n",
       "      <td>3.875495e+08</td>\n",
       "      <td>3.944012e+08</td>\n",
       "      <td>1.337541e+08</td>\n",
       "      <td>1.812857e+09</td>\n",
       "      <td>8.786038e+07</td>\n",
       "      <td>2.370192e+08</td>\n",
       "      <td>1.850122e+09</td>\n",
       "      <td>1.812838e+09</td>\n",
       "    </tr>\n",
       "    <tr>\n",
       "      <th>2</th>\n",
       "      <td>4</td>\n",
       "      <td>Afghanistan</td>\n",
       "      <td>1972</td>\n",
       "      <td>0.044998</td>\n",
       "      <td>0.044998</td>\n",
       "      <td>11286753</td>\n",
       "      <td>Afghani</td>\n",
       "      <td>149</td>\n",
       "      <td>8.279453e+08</td>\n",
       "      <td>NaN</td>\n",
       "      <td>...</td>\n",
       "      <td>1.498812e+09</td>\n",
       "      <td>2.903704e+08</td>\n",
       "      <td>3.522847e+08</td>\n",
       "      <td>3.585129e+08</td>\n",
       "      <td>1.215827e+08</td>\n",
       "      <td>1.647918e+09</td>\n",
       "      <td>7.986452e+07</td>\n",
       "      <td>2.154773e+08</td>\n",
       "      <td>1.683948e+09</td>\n",
       "      <td>1.647900e+09</td>\n",
       "    </tr>\n",
       "    <tr>\n",
       "      <th>3</th>\n",
       "      <td>4</td>\n",
       "      <td>Afghanistan</td>\n",
       "      <td>1973</td>\n",
       "      <td>0.044998</td>\n",
       "      <td>0.044998</td>\n",
       "      <td>11575305</td>\n",
       "      <td>Afghani</td>\n",
       "      <td>150</td>\n",
       "      <td>8.554869e+08</td>\n",
       "      <td>NaN</td>\n",
       "      <td>...</td>\n",
       "      <td>1.508024e+09</td>\n",
       "      <td>2.629629e+08</td>\n",
       "      <td>3.640103e+08</td>\n",
       "      <td>3.704458e+08</td>\n",
       "      <td>1.256302e+08</td>\n",
       "      <td>1.702735e+09</td>\n",
       "      <td>8.252888e+07</td>\n",
       "      <td>2.226243e+08</td>\n",
       "      <td>1.739998e+09</td>\n",
       "      <td>1.702716e+09</td>\n",
       "    </tr>\n",
       "    <tr>\n",
       "      <th>4</th>\n",
       "      <td>4</td>\n",
       "      <td>Afghanistan</td>\n",
       "      <td>1974</td>\n",
       "      <td>0.044998</td>\n",
       "      <td>0.044998</td>\n",
       "      <td>11869879</td>\n",
       "      <td>Afghani</td>\n",
       "      <td>177</td>\n",
       "      <td>1.035913e+09</td>\n",
       "      <td>NaN</td>\n",
       "      <td>...</td>\n",
       "      <td>1.778819e+09</td>\n",
       "      <td>3.056792e+08</td>\n",
       "      <td>4.407604e+08</td>\n",
       "      <td>4.485528e+08</td>\n",
       "      <td>1.521192e+08</td>\n",
       "      <td>2.061752e+09</td>\n",
       "      <td>9.991860e+07</td>\n",
       "      <td>2.695259e+08</td>\n",
       "      <td>2.106420e+09</td>\n",
       "      <td>2.061729e+09</td>\n",
       "    </tr>\n",
       "    <tr>\n",
       "      <th>...</th>\n",
       "      <td>...</td>\n",
       "      <td>...</td>\n",
       "      <td>...</td>\n",
       "      <td>...</td>\n",
       "      <td>...</td>\n",
       "      <td>...</td>\n",
       "      <td>...</td>\n",
       "      <td>...</td>\n",
       "      <td>...</td>\n",
       "      <td>...</td>\n",
       "      <td>...</td>\n",
       "      <td>...</td>\n",
       "      <td>...</td>\n",
       "      <td>...</td>\n",
       "      <td>...</td>\n",
       "      <td>...</td>\n",
       "      <td>...</td>\n",
       "      <td>...</td>\n",
       "      <td>...</td>\n",
       "      <td>...</td>\n",
       "      <td>...</td>\n",
       "    </tr>\n",
       "    <tr>\n",
       "      <th>10507</th>\n",
       "      <td>894</td>\n",
       "      <td>Zambia</td>\n",
       "      <td>2017</td>\n",
       "      <td>9.519501</td>\n",
       "      <td>9.519501</td>\n",
       "      <td>17298054</td>\n",
       "      <td>Kwacha</td>\n",
       "      <td>1448</td>\n",
       "      <td>1.041005e+09</td>\n",
       "      <td>567729313.0</td>\n",
       "      <td>...</td>\n",
       "      <td>1.215309e+10</td>\n",
       "      <td>9.465895e+09</td>\n",
       "      <td>2.102369e+09</td>\n",
       "      <td>7.194153e+09</td>\n",
       "      <td>6.187124e+09</td>\n",
       "      <td>2.416662e+10</td>\n",
       "      <td>1.965026e+09</td>\n",
       "      <td>5.323590e+09</td>\n",
       "      <td>2.505604e+10</td>\n",
       "      <td>2.586816e+10</td>\n",
       "    </tr>\n",
       "    <tr>\n",
       "      <th>10508</th>\n",
       "      <td>894</td>\n",
       "      <td>Zambia</td>\n",
       "      <td>2018</td>\n",
       "      <td>10.458143</td>\n",
       "      <td>10.458143</td>\n",
       "      <td>17835893</td>\n",
       "      <td>Kwacha</td>\n",
       "      <td>1451</td>\n",
       "      <td>8.791160e+08</td>\n",
       "      <td>929063411.0</td>\n",
       "      <td>...</td>\n",
       "      <td>1.183200e+10</td>\n",
       "      <td>9.717269e+09</td>\n",
       "      <td>1.801783e+09</td>\n",
       "      <td>6.556884e+09</td>\n",
       "      <td>5.791375e+09</td>\n",
       "      <td>2.422570e+10</td>\n",
       "      <td>2.490720e+09</td>\n",
       "      <td>5.990720e+09</td>\n",
       "      <td>2.588455e+10</td>\n",
       "      <td>2.631198e+10</td>\n",
       "    </tr>\n",
       "    <tr>\n",
       "      <th>10509</th>\n",
       "      <td>894</td>\n",
       "      <td>Zambia</td>\n",
       "      <td>2019</td>\n",
       "      <td>12.889418</td>\n",
       "      <td>12.889418</td>\n",
       "      <td>18380477</td>\n",
       "      <td>Kwacha</td>\n",
       "      <td>1246</td>\n",
       "      <td>6.668385e+08</td>\n",
       "      <td>817104395.0</td>\n",
       "      <td>...</td>\n",
       "      <td>9.848112e+09</td>\n",
       "      <td>7.961415e+09</td>\n",
       "      <td>1.582484e+09</td>\n",
       "      <td>5.584425e+09</td>\n",
       "      <td>5.231062e+09</td>\n",
       "      <td>2.153971e+10</td>\n",
       "      <td>2.537646e+09</td>\n",
       "      <td>4.959277e+09</td>\n",
       "      <td>2.291011e+10</td>\n",
       "      <td>2.331036e+10</td>\n",
       "    </tr>\n",
       "    <tr>\n",
       "      <th>10510</th>\n",
       "      <td>894</td>\n",
       "      <td>Zambia</td>\n",
       "      <td>2020</td>\n",
       "      <td>18.344093</td>\n",
       "      <td>18.344093</td>\n",
       "      <td>18927715</td>\n",
       "      <td>Kwacha</td>\n",
       "      <td>928</td>\n",
       "      <td>5.391694e+08</td>\n",
       "      <td>439295787.0</td>\n",
       "      <td>...</td>\n",
       "      <td>6.969267e+09</td>\n",
       "      <td>5.892353e+09</td>\n",
       "      <td>1.397303e+09</td>\n",
       "      <td>4.269405e+09</td>\n",
       "      <td>4.217431e+09</td>\n",
       "      <td>1.718020e+10</td>\n",
       "      <td>2.258715e+09</td>\n",
       "      <td>3.234123e+09</td>\n",
       "      <td>1.756233e+10</td>\n",
       "      <td>1.811064e+10</td>\n",
       "    </tr>\n",
       "    <tr>\n",
       "      <th>10511</th>\n",
       "      <td>894</td>\n",
       "      <td>Zambia</td>\n",
       "      <td>2021</td>\n",
       "      <td>20.018487</td>\n",
       "      <td>20.018487</td>\n",
       "      <td>19473125</td>\n",
       "      <td>Kwacha</td>\n",
       "      <td>1062</td>\n",
       "      <td>6.285287e+08</td>\n",
       "      <td>293485060.0</td>\n",
       "      <td>...</td>\n",
       "      <td>8.423339e+09</td>\n",
       "      <td>7.735235e+09</td>\n",
       "      <td>1.876458e+09</td>\n",
       "      <td>6.639510e+09</td>\n",
       "      <td>4.250492e+09</td>\n",
       "      <td>2.071254e+10</td>\n",
       "      <td>2.060541e+09</td>\n",
       "      <td>3.881353e+09</td>\n",
       "      <td>2.067962e+10</td>\n",
       "      <td>2.131337e+10</td>\n",
       "    </tr>\n",
       "  </tbody>\n",
       "</table>\n",
       "<p>10512 rows × 26 columns</p>\n",
       "</div>"
      ],
      "text/plain": [
       "       CountryID      Country  Year        Aer       Iber  Population  \\\n",
       "0              4  Afghanistan  1970   0.044998   0.044998    10752971   \n",
       "1              4  Afghanistan  1971   0.044998   0.044998    11015857   \n",
       "2              4  Afghanistan  1972   0.044998   0.044998    11286753   \n",
       "3              4  Afghanistan  1973   0.044998   0.044998    11575305   \n",
       "4              4  Afghanistan  1974   0.044998   0.044998    11869879   \n",
       "...          ...          ...   ...        ...        ...         ...   \n",
       "10507        894       Zambia  2017   9.519501   9.519501    17298054   \n",
       "10508        894       Zambia  2018  10.458143  10.458143    17835893   \n",
       "10509        894       Zambia  2019  12.889418  12.889418    18380477   \n",
       "10510        894       Zambia  2020  18.344093  18.344093    18927715   \n",
       "10511        894       Zambia  2021  20.018487  20.018487    19473125   \n",
       "\n",
       "      Currency   PcG          Ahff          Cii  ...           Hce  \\\n",
       "0      Afghani   164  8.699174e+08          NaN  ...  1.551094e+09   \n",
       "1      Afghani   168  9.108281e+08          NaN  ...  1.675426e+09   \n",
       "2      Afghani   149  8.279453e+08          NaN  ...  1.498812e+09   \n",
       "3      Afghani   150  8.554869e+08          NaN  ...  1.508024e+09   \n",
       "4      Afghani   177  1.035913e+09          NaN  ...  1.778819e+09   \n",
       "...        ...   ...           ...          ...  ...           ...   \n",
       "10507   Kwacha  1448  1.041005e+09  567729313.0  ...  1.215309e+10   \n",
       "10508   Kwacha  1451  8.791160e+08  929063411.0  ...  1.183200e+10   \n",
       "10509   Kwacha  1246  6.668385e+08  817104395.0  ...  9.848112e+09   \n",
       "10510   Kwacha   928  5.391694e+08  439295787.0  ...  6.969267e+09   \n",
       "10511   Kwacha  1062  6.285287e+08  293485060.0  ...  8.423339e+09   \n",
       "\n",
       "              Iogas             M           MMU            OA           TVA  \\\n",
       "0      1.952772e+08  3.701468e+08  3.766908e+08  1.277478e+08  1.731454e+09   \n",
       "1      2.762965e+08  3.875495e+08  3.944012e+08  1.337541e+08  1.812857e+09   \n",
       "2      2.903704e+08  3.522847e+08  3.585129e+08  1.215827e+08  1.647918e+09   \n",
       "3      2.629629e+08  3.640103e+08  3.704458e+08  1.256302e+08  1.702735e+09   \n",
       "4      3.056792e+08  4.407604e+08  4.485528e+08  1.521192e+08  2.061752e+09   \n",
       "...             ...           ...           ...           ...           ...   \n",
       "10507  9.465895e+09  2.102369e+09  7.194153e+09  6.187124e+09  2.416662e+10   \n",
       "10508  9.717269e+09  1.801783e+09  6.556884e+09  5.791375e+09  2.422570e+10   \n",
       "10509  7.961415e+09  1.582484e+09  5.584425e+09  5.231062e+09  2.153971e+10   \n",
       "10510  5.892353e+09  1.397303e+09  4.269405e+09  4.217431e+09  1.718020e+10   \n",
       "10511  7.735235e+09  1.876458e+09  6.639510e+09  4.250492e+09  2.071254e+10   \n",
       "\n",
       "               Tsac        Wrtrah         GNIiU           GDP  \n",
       "0      8.391720e+07  2.263871e+08  1.766528e+09  1.731436e+09  \n",
       "1      8.786038e+07  2.370192e+08  1.850122e+09  1.812838e+09  \n",
       "2      7.986452e+07  2.154773e+08  1.683948e+09  1.647900e+09  \n",
       "3      8.252888e+07  2.226243e+08  1.739998e+09  1.702716e+09  \n",
       "4      9.991860e+07  2.695259e+08  2.106420e+09  2.061729e+09  \n",
       "...             ...           ...           ...           ...  \n",
       "10507  1.965026e+09  5.323590e+09  2.505604e+10  2.586816e+10  \n",
       "10508  2.490720e+09  5.990720e+09  2.588455e+10  2.631198e+10  \n",
       "10509  2.537646e+09  4.959277e+09  2.291011e+10  2.331036e+10  \n",
       "10510  2.258715e+09  3.234123e+09  1.756233e+10  1.811064e+10  \n",
       "10511  2.060541e+09  3.881353e+09  2.067962e+10  2.131337e+10  \n",
       "\n",
       "[10512 rows x 26 columns]"
      ]
     },
     "execution_count": 2,
     "metadata": {},
     "output_type": "execute_result"
    }
   ],
   "source": [
    "\n",
    "df = pd.read_csv(\"global-economy-indicators/Global Economy Indicators.csv\")\n",
    "#df = pd.read_csv(\"sample_data/Global Economy Indicators.csv\")\n",
    "\n",
    "\n",
    "df.columns=df.columns.str.strip()\n",
    "\n",
    "#Vamos a crear un diccionario que nos asocie los nombre originales con los nuevos nombres abreviados\n",
    "data_names = {}\n",
    "for col in df.columns:\n",
    "    primeras_letras = []\n",
    "    for palabra in col.split():\n",
    "        if palabra[0] == \"(\": #Aqui podemos añadir más caracteres que queramos para nuestro diccionario\n",
    "            break\n",
    "        else:\n",
    "            if len(col.split()) > 1:\n",
    "                primeras_letras.append(palabra[0])\n",
    "            else:\n",
    "                primeras_letras.append(palabra)\n",
    "\n",
    "    key = ''.join(primeras_letras)\n",
    "    data_names[key] = col\n",
    "if len(set(data_names)) == len(data_names):\n",
    "    print(\"Ready to create a dictionary:\")\n",
    "    print(data_names)\n",
    "else:\n",
    "    pass\n",
    "    #Aquí deberíamos, en caso de que fuera necesario, separar los elementos que son iguales, y añadirles distintos valores hasta hacerlos únicos.\n",
    "\n",
    "#definimos una función que nos permita obtener el valor del diccionario a traves del valor del diccionario\n",
    "def get_key_from_value(diccionario,value):\n",
    "    for k,v in diccionario.items():\n",
    "        if v == value:\n",
    "            return k\n",
    "    return \"None\" #si el valor no se encuentra\n",
    "\n",
    "#Renombramos todas las cabeceras de las columnas con los nuevos nombres\n",
    "for col in df.columns:\n",
    "    new_name = get_key_from_value(data_names,col)\n",
    "    df.rename(columns = {col: new_name},inplace=True)\n",
    "\n",
    "if not \"None\" in df.columns: print(\"Rename Succesfull\")\n",
    "\n",
    "#Tenemos espacios extras, por lo tanto tenemos que limpiar también estos datos\n",
    "df['Country']=df['Country'].str.strip()\n",
    "df['Currency']=df['Currency'].str.strip()\n",
    "\n",
    "#Prevenir malos formatos en los numeros\n",
    "for col in df.select_dtypes(['float64']):\n",
    "    df[col]=pd.to_numeric(df[col])\n",
    "df\n"
   ]
  },
  {
   "cell_type": "code",
   "execution_count": 57,
   "metadata": {},
   "outputs": [
    {
     "data": {
      "text/plain": [
       "CountryID        0\n",
       "Country          0\n",
       "Year             0\n",
       "Aer              0\n",
       "Iber             0\n",
       "Population       0\n",
       "Currency         0\n",
       "PcG              0\n",
       "Ahff           121\n",
       "Cii           1841\n",
       "C                0\n",
       "Eogas           21\n",
       "Fce              0\n",
       "Ggfce           52\n",
       "Gcf             52\n",
       "Gfcf            52\n",
       "Hce             52\n",
       "Iogas           42\n",
       "M               43\n",
       "MMU              0\n",
       "OA               0\n",
       "TVA              0\n",
       "Tsac            49\n",
       "Wrtrah          49\n",
       "GNIiU            0\n",
       "GDP              0\n",
       "dtype: int64"
      ]
     },
     "execution_count": 57,
     "metadata": {},
     "output_type": "execute_result"
    }
   ],
   "source": [
    "df.isna().sum()"
   ]
  },
  {
   "cell_type": "markdown",
   "metadata": {},
   "source": [
    "# Algoritmos"
   ]
  },
  {
   "cell_type": "markdown",
   "metadata": {},
   "source": [
    "## Parametrización de los datos y selección del subset de datos"
   ]
  },
  {
   "cell_type": "code",
   "execution_count": 107,
   "metadata": {},
   "outputs": [],
   "source": [
    "#Como se han tenido que probar diferentes sets de datos, se ha creado esta celda para ir variando desde que año queríamos los datos\n",
    "#y cuantos países queríamos contemplar como potencia mundial.\n",
    "\n",
    "year = 2015 # 2000 para adelante\n",
    "num_countries = 10 # 10 paises considerados potencia mundial"
   ]
  },
  {
   "cell_type": "code",
   "execution_count": 108,
   "metadata": {},
   "outputs": [
    {
     "name": "stdout",
     "output_type": "stream",
     "text": [
      "{4: 'Afghanistan', 8: 'Albania', 12: 'Algeria', 20: 'Andorra', 24: 'Angola', 28: 'Antigua and Barbuda', 31: 'Azerbaijan', 32: 'Argentina', 36: 'Australia', 40: 'Austria', 44: 'Bahamas', 48: 'Bahrain', 50: 'Bangladesh', 51: 'Armenia', 52: 'Barbados', 56: 'Belgium', 60: 'Bermuda', 64: 'Bhutan', 68: 'Bolivia (Plurinational State of)', 70: 'Bosnia and Herzegovina', 72: 'Botswana', 76: 'Brazil', 84: 'Belize', 90: 'Solomon Islands', 92: 'British Virgin Islands', 96: 'Brunei Darussalam', 100: 'Bulgaria', 104: 'Myanmar', 108: 'Burundi', 112: 'Belarus', 116: 'Cambodia', 120: 'Cameroon', 124: 'Canada', 132: 'Cabo Verde', 136: 'Cayman Islands', 140: 'Central African Republic', 144: 'Sri Lanka', 148: 'Chad', 152: 'Chile', 156: 'China', 170: 'Colombia', 174: 'Comoros', 178: 'Congo', 180: 'D.R. of the Congo', 184: 'Cook Islands', 188: 'Costa Rica', 191: 'Croatia', 192: 'Cuba', 196: 'Cyprus', 203: 'Czechia', 204: 'Benin', 208: 'Denmark', 212: 'Dominica', 214: 'Dominican Republic', 218: 'Ecuador', 222: 'El Salvador', 226: 'Equatorial Guinea', 231: 'Ethiopia', 232: 'Eritrea', 233: 'Estonia', 242: 'Fiji', 246: 'Finland', 250: 'France', 258: 'French Polynesia', 262: 'Djibouti', 266: 'Gabon', 268: 'Georgia', 270: 'Gambia', 275: 'State of Palestine', 276: 'Germany', 288: 'Ghana', 296: 'Kiribati', 300: 'Greece', 304: 'Greenland', 308: 'Grenada', 320: 'Guatemala', 324: 'Guinea', 328: 'Guyana', 332: 'Haiti', 340: 'Honduras', 344: 'China, Hong Kong SAR', 348: 'Hungary', 352: 'Iceland', 356: 'India', 360: 'Indonesia', 364: 'Iran (Islamic Republic of)', 368: 'Iraq', 372: 'Ireland', 376: 'Israel', 380: 'Italy', 384: \"Côte d'Ivoire\", 388: 'Jamaica', 392: 'Japan', 398: 'Kazakhstan', 400: 'Jordan', 404: 'Kenya', 408: 'D.P.R. of Korea', 410: 'Republic of Korea', 412: 'Kosovo', 414: 'Kuwait', 417: 'Kyrgyzstan', 418: \"Lao People's DR\", 422: 'Lebanon', 426: 'Lesotho', 428: 'Latvia', 430: 'Liberia', 434: 'Libya', 438: 'Liechtenstein', 440: 'Lithuania', 442: 'Luxembourg', 446: 'China, Macao SAR', 450: 'Madagascar', 454: 'Malawi', 458: 'Malaysia', 462: 'Maldives', 466: 'Mali', 470: 'Malta', 478: 'Mauritania', 480: 'Mauritius', 484: 'Mexico', 492: 'Monaco', 496: 'Mongolia', 498: 'Republic of Moldova', 499: 'Montenegro', 500: 'Montserrat', 504: 'Morocco', 508: 'Mozambique', 512: 'Oman', 516: 'Namibia', 520: 'Nauru', 524: 'Nepal', 528: 'Netherlands', 531: 'Curaçao', 533: 'Aruba', 534: 'Sint Maarten (Dutch part)', 540: 'New Caledonia', 548: 'Vanuatu', 554: 'New Zealand', 558: 'Nicaragua', 562: 'Niger', 566: 'Nigeria', 578: 'Norway', 583: 'Micronesia (FS of)', 584: 'Marshall Islands', 585: 'Palau', 586: 'Pakistan', 591: 'Panama', 598: 'Papua New Guinea', 600: 'Paraguay', 604: 'Peru', 608: 'Philippines', 616: 'Poland', 620: 'Portugal', 624: 'Guinea-Bissau', 626: 'Timor-Leste', 630: 'Puerto Rico', 634: 'Qatar', 642: 'Romania', 643: 'Russian Federation', 646: 'Rwanda', 659: 'Saint Kitts and Nevis', 660: 'Anguilla', 662: 'Saint Lucia', 670: 'St. Vincent and the Grenadines', 674: 'San Marino', 678: 'Sao Tome and Principe', 682: 'Saudi Arabia', 686: 'Senegal', 688: 'Serbia', 690: 'Seychelles', 694: 'Sierra Leone', 702: 'Singapore', 703: 'Slovakia', 704: 'Viet Nam', 705: 'Slovenia', 706: 'Somalia', 710: 'South Africa', 716: 'Zimbabwe', 724: 'Spain', 728: 'South Sudan', 729: 'Sudan', 740: 'Suriname', 748: 'Eswatini', 752: 'Sweden', 756: 'Switzerland', 760: 'Syrian Arab Republic', 762: 'Tajikistan', 764: 'Thailand', 768: 'Togo', 776: 'Tonga', 780: 'Trinidad and Tobago', 784: 'United Arab Emirates', 788: 'Tunisia', 792: 'Türkiye', 795: 'Turkmenistan', 796: 'Turks and Caicos Islands', 798: 'Tuvalu', 800: 'Uganda', 804: 'Ukraine', 807: 'North Macedonia', 818: 'Egypt', 826: 'United Kingdom', 835: 'U.R. of Tanzania: Mainland', 836: 'Zanzibar', 840: 'United States', 854: 'Burkina Faso', 858: 'Uruguay', 860: 'Uzbekistan', 862: 'Venezuela (Bolivarian Republic of)', 882: 'Samoa', 887: 'Yemen', 894: 'Zambia'}\n",
      "CountryID\n",
      "840    2.038571e+13\n",
      "156    1.360000e+13\n",
      "392    4.930000e+12\n",
      "276    3.790000e+12\n",
      "826    2.840000e+12\n",
      "250    2.661429e+12\n",
      "356    2.648571e+12\n",
      "380    1.970000e+12\n",
      "76     1.788571e+12\n",
      "124    1.691429e+12\n",
      "Name: GDP, dtype: float64\n"
     ]
    }
   ],
   "source": [
    "df_f = df[df['Year'] >= year]\n",
    "\n",
    "#wsc (without some countries)\n",
    "dicc_pais = dict(zip(df_f['CountryID'], df_f['Country']))\n",
    "print(dicc_pais)\n",
    "countries_to_delete = ['China, Macao SAR','Monaco','Sint Maarten (Dutch part)','D.P.R. of Korea','Kiribati']\n",
    "\n",
    "#también de igual forma que en la anterior entrega una vez creado nuestro diccionario, podemos eliminar las variables categoricas Currency y Country\n",
    "df_wsc = df_f[~df_f['Country'].isin(countries_to_delete)].drop(['Cii','Country','Currency'], axis = 1)\n",
    "\n",
    "def wp_calculation(country):\n",
    "    if country in top10:\n",
    "        return 1 #True\n",
    "    else:\n",
    "        return 0 #False\n",
    "\n",
    "#Seleccionamos las 10 potencias en los últimos 6 años del dataset\n",
    "media_GDP = df_wsc.groupby('CountryID')['GDP'].mean()\n",
    "top10 = media_GDP.nlargest(num_countries)\n",
    "print(top10)\n",
    "df_wsc['WP'] = df_wsc['CountryID'].apply(wp_calculation)\n",
    "\n",
    "#creamos las llaves disponibles que tenemos que no forman parte del top10\n",
    "random.seed(42)\n",
    "key_availables = [key for key in dicc_pais.keys() if key not in top10]\n",
    "\n",
    "non_wp = random.sample(key_availables,num_countries)\n",
    "\n",
    "#a continuación vamos a extrer los countryID del top10 y los vamos a juntar con los otros seleccionados\n",
    "\n",
    "wp_keys = [key for key,val in top10.items()]\n",
    "\n",
    "total_wp_nonwp = non_wp + wp_keys\n",
    "total_wp_nonwp\n",
    "\n",
    "df_fy_final = df_wsc[df_wsc['CountryID'].isin(total_wp_nonwp)]\n",
    "\n",
    "#antes de realizar nada, eliminamos nuestra variable CountryID que todo y que sea numerica es un ID asignado \n",
    "#por el dataset que solo añade ruido al dataset.\n",
    "df_fy_final= df_fy_final.drop(['CountryID'],axis=1)"
   ]
  },
  {
   "cell_type": "markdown",
   "metadata": {},
   "source": [
    "## Regresión Exponencial decreciente\n",
    "\n",
    "Vistos los datos que se han usado para las anteriores entregas, en esta se ha decido continuar con las mismas variables que en la anterior entrega funcionaron ['Aer', 'Ahff']. Como se verá en el plot de abajo, la función no lineal parece seguir una exponencial decreciente, así que se ha intentado aplicar a través de la función curve_fit y especificandole que se trata de una función exponencial decreciente modelar este comportamiento."
   ]
  },
  {
   "cell_type": "code",
   "execution_count": 130,
   "metadata": {},
   "outputs": [
    {
     "data": {
      "text/plain": [
       "Ahff    0\n",
       "Aer     0\n",
       "WP      0\n",
       "dtype: int64"
      ]
     },
     "execution_count": 130,
     "metadata": {},
     "output_type": "execute_result"
    }
   ],
   "source": [
    "mydf = df_fy_final\n",
    "#Escogemos nuestras variables\n",
    "twoVar = ['Ahff', 'Aer', 'WP']\n",
    "mydf = mydf[twoVar]\n",
    "\n",
    "#verificamos que con los parametros escogidos no encontramos nulos\n",
    "mydf.isna().sum()"
   ]
  },
  {
   "cell_type": "code",
   "execution_count": 131,
   "metadata": {},
   "outputs": [
    {
     "name": "stderr",
     "output_type": "stream",
     "text": [
      "c:\\Python311\\Lib\\site-packages\\seaborn\\_base.py:949: FutureWarning: When grouping with a length-1 list-like, you will need to pass a length-1 tuple to get_group in a future version of pandas. Pass `(name,)` instead of `name` to silence this warning.\n",
      "  data_subset = grouped_data.get_group(pd_key)\n",
      "c:\\Python311\\Lib\\site-packages\\seaborn\\_base.py:949: FutureWarning: When grouping with a length-1 list-like, you will need to pass a length-1 tuple to get_group in a future version of pandas. Pass `(name,)` instead of `name` to silence this warning.\n",
      "  data_subset = grouped_data.get_group(pd_key)\n"
     ]
    },
    {
     "data": {
      "text/plain": [
       "<Figure size 500x2000 with 0 Axes>"
      ]
     },
     "metadata": {},
     "output_type": "display_data"
    },
    {
     "data": {
      "image/png": "[encoded data removed]",
      "text/plain": [
       "<Figure size 458.875x400 with 6 Axes>"
      ]
     },
     "metadata": {},
     "output_type": "display_data"
    }
   ],
   "source": [
    "#Hacemos un primer plot para ver que forma tienen nuestros datos\n",
    "plt.figure(figsize = (5, 20))\n",
    "sns.pairplot(mydf, height=2, hue = 'WP',palette = \"tab10\")\n",
    "plt.show()"
   ]
  },
  {
   "cell_type": "code",
   "execution_count": 110,
   "metadata": {},
   "outputs": [],
   "source": [
    "from sklearn.preprocessing import StandardScaler"
   ]
  },
  {
   "cell_type": "code",
   "execution_count": 132,
   "metadata": {},
   "outputs": [
    {
     "name": "stdout",
     "output_type": "stream",
     "text": [
      "3287737258.75\n",
      "46643282698.25\n",
      "43355545439.5\n"
     ]
    }
   ],
   "source": [
    "#Quitamos los outliers antes de normalizar\n",
    "#Para quitarlos necesitamos calcular los quantiles\n",
    "\n",
    "#Outliers Ahff\n",
    "Q1_Ahff = mydf['Ahff'].quantile(0.25)\n",
    "Q3_Ahff = mydf['Ahff'].quantile(0.75)\n",
    "IQR_Ahff = Q3_Ahff - Q1_Ahff\n",
    "\n",
    "print(Q1_Ahff)\n",
    "print(Q3_Ahff)\n",
    "print(IQR_Ahff)\n",
    "\n",
    "#Outliers Aer\n",
    "Q1_Aer = mydf['Aer'].quantile(0.25)\n",
    "Q3_Aer = mydf['Aer'].quantile(0.75)\n",
    "IQR_Aer = Q3_Aer - Q1_Aer"
   ]
  },
  {
   "cell_type": "code",
   "execution_count": 133,
   "metadata": {},
   "outputs": [
    {
     "name": "stderr",
     "output_type": "stream",
     "text": [
      "C:\\Users\\Didac\\AppData\\Local\\Temp\\ipykernel_24320\\3874202832.py:8: UserWarning: Boolean Series key will be reindexed to match DataFrame index.\n",
      "  df_without_outliers = mydf[(mydf['Ahff'] >= lim_inf_Af) & (df['Ahff'] <= lim_sup_Af)]\n",
      "C:\\Users\\Didac\\AppData\\Local\\Temp\\ipykernel_24320\\3874202832.py:9: UserWarning: Boolean Series key will be reindexed to match DataFrame index.\n",
      "  df_without_outliers = df_without_outliers[(df_without_outliers['Aer'] >= lim_inf_Ar) & (df['Aer'] <= lim_sup_Ar)]\n"
     ]
    }
   ],
   "source": [
    "#Para quitarlos definimos los limites de lo que consideramos outliers, y aplicamos la formula que definen los outliers\n",
    "lim_inf_Af = Q1_Ahff - 1.5 * IQR_Ahff\n",
    "lim_sup_Af = Q3_Ahff + 1.5 * IQR_Ahff\n",
    "\n",
    "lim_inf_Ar = Q1_Aer - 1.5 * IQR_Aer\n",
    "lim_sup_Ar = Q3_Aer + 1.5 * IQR_Aer\n",
    "\n",
    "df_without_outliers = mydf[(mydf['Ahff'] >= lim_inf_Af) & (df['Ahff'] <= lim_sup_Af)]\n",
    "df_without_outliers = df_without_outliers[(df_without_outliers['Aer'] >= lim_inf_Ar) & (df['Aer'] <= lim_sup_Ar)]"
   ]
  },
  {
   "cell_type": "code",
   "execution_count": 137,
   "metadata": {},
   "outputs": [],
   "source": [
    "def standarize(df):\n",
    "    #Estandarizamos nuestros datos, ya que sino los valores quedán muy desproporcionados\n",
    "    scaler = StandardScaler()\n",
    "    scaler.fit(df)\n",
    "    data_scaled = scaler.transform(df)\n",
    "    df_scaled = pd.DataFrame(data_scaled, columns=[f'{i}' for i in df.columns])\n",
    "    return df_scaled"
   ]
  },
  {
   "cell_type": "code",
   "execution_count": 138,
   "metadata": {},
   "outputs": [
    {
     "name": "stdout",
     "output_type": "stream",
     "text": [
      "               Ahff       Aer\n",
      "337    3.278859e+09  1.024564\n",
      "338    2.122425e+09  1.595722\n",
      "339    2.291543e+09  1.721155\n",
      "340    2.455741e+09  1.700017\n",
      "341    2.743647e+09  1.700000\n",
      "...             ...       ...\n",
      "10140  1.750000e+11  1.000000\n",
      "10141  1.740000e+11  1.000000\n",
      "10142  1.600000e+11  1.000000\n",
      "10143  1.620000e+11  1.000000\n",
      "10144  2.070000e+11  1.000000\n",
      "\n",
      "[140 rows x 2 columns]\n",
      "               Ahff       Aer\n",
      "337    3.278859e+09  1.024564\n",
      "338    2.122425e+09  1.595722\n",
      "339    2.291543e+09  1.721155\n",
      "340    2.455741e+09  1.700017\n",
      "341    2.743647e+09  1.700000\n",
      "...             ...       ...\n",
      "10004  1.589699e+10  0.777003\n",
      "10005  1.631710e+10  0.749582\n",
      "10006  1.727115e+10  0.783445\n",
      "10007  1.741155e+10  0.780000\n",
      "10008  2.113154e+10  0.727065\n",
      "\n",
      "[91 rows x 2 columns]\n"
     ]
    }
   ],
   "source": [
    "df_sO = mydf.iloc[:, :-1] #cogemos todas las columnas, excepto la última\n",
    "df_nO = df_without_outliers.iloc[:, :-1] #cogemos todas las columnas, excepto la última\n",
    "\n",
    "print(df_sO)\n",
    "print(df_nO)\n",
    "df_sO_scaled = standarize(df_sO)\n",
    "df_nO_scaled = standarize(df_nO)\n"
   ]
  },
  {
   "cell_type": "code",
   "execution_count": 139,
   "metadata": {},
   "outputs": [
    {
     "data": {
      "image/png": "[encoded data removed]",
      "text/plain": [
       "<Figure size 1500x1000 with 1 Axes>"
      ]
     },
     "metadata": {},
     "output_type": "display_data"
    }
   ],
   "source": [
    "#Vemos que se han tenido mucho problemas debido a que hay muchos outliers, procedemos a analizarlos y a ver como los podemos tratar\n",
    "plt.figure(figsize = (15, 10))\n",
    "plt.title(\"Boxplots de las variables\")\n",
    "df_sO_scaled.boxplot(grid=False, rot=45, fontsize=15)\n",
    "plt.show()"
   ]
  },
  {
   "cell_type": "markdown",
   "metadata": {},
   "source": [
    "Vemos que estos outliers se tratan de paises que son o muy ricos o muy pobres, así pués se quitaran.\n"
   ]
  },
  {
   "cell_type": "code",
   "execution_count": 140,
   "metadata": {},
   "outputs": [
    {
     "data": {
      "image/png": "[encoded data removed]",
      "text/plain": [
       "<Figure size 1500x1000 with 1 Axes>"
      ]
     },
     "metadata": {},
     "output_type": "display_data"
    }
   ],
   "source": [
    "#Vemos el boxplot sin outliers\n",
    "plt.figure(figsize = (15, 10))\n",
    "plt.title(\"Boxplots de las variables\")\n",
    "df_nO_scaled.boxplot(grid=False, rot=45, fontsize=15)\n",
    "plt.show()"
   ]
  },
  {
   "cell_type": "code",
   "execution_count": 105,
   "metadata": {},
   "outputs": [
    {
     "name": "stdout",
     "output_type": "stream",
     "text": [
      "[-0.43434425 -0.43403429 -0.43374597 -0.43365813 -0.43364421 -0.43329182\n",
      " -0.43323933 -0.43210367 -0.42784611 -0.35122424 -0.31052639 -0.21139861\n",
      "  0.19458819  0.86396987  1.80883785  3.63850014]\n"
     ]
    }
   ],
   "source": [
    "#Ya que estaremos pasando nuestros datos a una función no lineal continua, debemos de asegurarnos que no tenemos puntos repetidos en el domino de las X\n",
    "# así que eliminamos los duplicados \n",
    "duplicados = df_scaled.duplicated(subset=['Aer'], keep=False)\n",
    "df_filtrado = df_scaled[~duplicados]\n",
    "\n",
    "df_filtrado = df_filtrado.sort_values(by = 'Aer')\n",
    "#print(df_filtrado)\n",
    "\n",
    "x = df_filtrado.values[:,1]\n",
    "y = df_filtrado.values[:,0]\n",
    "\n",
    "#verificamos que tenemos un grupo de datos representativo\n",
    "df_filtrado.values.shape\n",
    "print(x)"
   ]
  },
  {
   "cell_type": "code",
   "execution_count": null,
   "metadata": {},
   "outputs": [],
   "source": []
  },
  {
   "cell_type": "code",
   "execution_count": 106,
   "metadata": {},
   "outputs": [
    {
     "name": "stdout",
     "output_type": "stream",
     "text": [
      "(16,)\n"
     ]
    },
    {
     "data": {
      "image/png": "[encoded data removed]",
      "text/plain": [
       "<Figure size 1000x600 with 1 Axes>"
      ]
     },
     "metadata": {},
     "output_type": "display_data"
    },
    {
     "data": {
      "text/plain": [
       "(0.2572786035680008, 2.10528521867616, -0.39169603206673836)"
      ]
     },
     "execution_count": 106,
     "metadata": {},
     "output_type": "execute_result"
    }
   ],
   "source": [
    "from scipy.optimize import curve_fit\n",
    "\n",
    "#Definimos la función del modelo exponencial decreciente\n",
    "def exp_decreasing(x, a, b, c):\n",
    "    return a * np.exp(-b * x) + c\n",
    "\n",
    "#ordenamos de mayor a menor los valores\n",
    "\n",
    "\n",
    "\n",
    "#Ajustamos el modelo exponencial a los datos\n",
    "params, covariance = curve_fit(exp_decreasing, x, y)\n",
    "\n",
    "#Extraemos los parámetros ajustados\n",
    "a_fitted, b_fitted, c_fitted = params\n",
    "\n",
    "#Generamos predicciones del modelo ajustado\n",
    "y_fitted = exp_decreasing(x, a_fitted, b_fitted, c_fitted)\n",
    "\n",
    "print(y_fitted.shape)\n",
    "#Visualizar los datos y el modelo ajustado\n",
    "plt.figure(figsize=(10, 6))\n",
    "plt.scatter(x, y, label='Datos originales')\n",
    "plt.plot(x, y_fitted, color='red', label='Modelo ajustado')\n",
    "plt.xlabel('x')\n",
    "plt.ylabel('y')\n",
    "plt.title('Regresión Exponencial Decreciente')\n",
    "plt.legend()\n",
    "plt.show()\n",
    "\n",
    "# Mostrar los parámetros ajustados\n",
    "a_fitted, b_fitted, c_fitted\n"
   ]
  }
 ],
 "metadata": {
  "kernelspec": {
   "display_name": "Python 3",
   "language": "python",
   "name": "python3"
  },
  "language_info": {
   "codemirror_mode": {
    "name": "ipython",
    "version": 3
   },
   "file_extension": ".py",
   "mimetype": "text/x-python",
   "name": "python",
   "nbconvert_exporter": "python",
   "pygments_lexer": "ipython3",
   "version": "3.11.0"
  }
 },
 "nbformat": 4,
 "nbformat_minor": 2
}

{
  "nbformat": 4,
  "nbformat_minor": 0,
  "metadata": {
    "colab": {
      "provenance": [],
      "authorship_tag": "ABX9TyOQ/eI5QrW2il56U4FhV486",
      "include_colab_link": true
    },
    "kernelspec": {
      "name": "python3",
      "display_name": "Python 3"
    },
    "language_info": {
      "name": "python"
    }
  },
  "cells": [
    {
      "cell_type": "markdown",
      "metadata": {
        "id": "view-in-github",
        "colab_type": "text"
      },
      "source": [
        "<a href=\"https://colab.research.google.com/github/Didac-piferrer/MUDS/blob/main/Ejercicio1_Dades_i_negoci.ipynb\" target=\"_parent\"><img src=\"https://colab.research.google.com/assets/colab-badge.svg\" alt=\"Open In Colab\"/></a>"
      ]
    },
    {
      "cell_type": "code",
      "execution_count": 30,
      "metadata": {
        "id": "uG9RBcb76spr"
      },
      "outputs": [],
      "source": [
        "import pandas as pd\n",
        "import matplotlib.pyplot as plt\n",
        "import seaborn as sns"
      ]
    },
    {
      "cell_type": "code",
      "source": [
        "df = pd.read_csv(\"sample_data/anscombes.csv\",sep=',')\n",
        "mean = df.groupby('dataset')[['x', 'y']].mean()\n",
        "variance_x = df.groupby('dataset')['x'].var()\n",
        "variance_y = df.groupby('dataset')['y'].var()\n",
        "correlation = df.groupby('dataset')[['x','y']].corr()\n",
        "\n",
        "print(mean)\n",
        "print(\"----\")\n",
        "print(variance_x)\n",
        "print(\"----\")\n",
        "print(variance_y)\n",
        "print(\"----\")\n",
        "print(correlation)\n"
      ],
      "metadata": {
        "colab": {
          "base_uri": "https://localhost:8080/"
        },
        "id": "F7nGMTd57ivm",
        "outputId": "cee1e739-cbf8-4199-ca1d-48d1ac54f02e"
      },
      "execution_count": 33,
      "outputs": [
        {
          "output_type": "stream",
          "name": "stdout",
          "text": [
            "           x         y\n",
            "dataset               \n",
            "I        9.0  7.500909\n",
            "II       9.0  7.500909\n",
            "III      9.0  7.500000\n",
            "IV       9.0  7.500909\n",
            "----\n",
            "dataset\n",
            "I      11.0\n",
            "II     11.0\n",
            "III    11.0\n",
            "IV     11.0\n",
            "Name: x, dtype: float64\n",
            "----\n",
            "dataset\n",
            "I      4.127269\n",
            "II     4.127629\n",
            "III    4.122620\n",
            "IV     4.123249\n",
            "Name: y, dtype: float64\n",
            "----\n",
            "                  x         y\n",
            "dataset                      \n",
            "I       x  1.000000  0.816421\n",
            "        y  0.816421  1.000000\n",
            "II      x  1.000000  0.816237\n",
            "        y  0.816237  1.000000\n",
            "III     x  1.000000  0.816287\n",
            "        y  0.816287  1.000000\n",
            "IV      x  1.000000  0.816521\n",
            "        y  0.816521  1.000000\n"
          ]
        }
      ]
    },
    {
      "cell_type": "code",
      "source": [
        "g = sns.FacetGrid(df, col='dataset')\n",
        "g.map(sns.scatterplot, 'x', 'y')\n",
        "plt.show()"
      ],
      "metadata": {
        "colab": {
          "base_uri": "https://localhost:8080/",
          "height": 196
        },
        "id": "i3RECVp_A1-w",
        "outputId": "ce16fd5e-0a50-4a6d-bf4c-6e07146db613"
      },
      "execution_count": 32,
      "outputs": [
        {
          "output_type": "display_data",
          "data": {
            "text/plain": [
              "<Figure size 1200x300 with 4 Axes>"
            ],
            "image/png": "[encoded data removed]"
          },
          "metadata": {}
        }
      ]
    },
    {
      "cell_type": "markdown",
      "source": [
        "Se puede observar como los 4 datasets todo y tener los mismos valores estadisticos, estos no se ubican en el plano cartesiano de la misma manera. Esto es debido a que al final las matematicas aplicadas para resolver estas métricas, no dejan de ser matematicas i fórmulas. Lo cual por si solos esto solo son valores, pero para poder entender esto más allà necesitamos la visualización para poder entender y darle valor a esta información estadística."
      ],
      "metadata": {
        "id": "hB288cWHCBeM"
      }
    }
  ]
}